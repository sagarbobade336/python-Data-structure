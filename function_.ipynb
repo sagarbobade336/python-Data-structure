{
  "nbformat": 4,
  "nbformat_minor": 0,
  "metadata": {
    "colab": {
      "provenance": []
    },
    "kernelspec": {
      "name": "python3",
      "display_name": "Python 3"
    },
    "language_info": {
      "name": "python"
    }
  },
  "cells": [
    {
      "cell_type": "markdown",
      "source": [
        "#Python Functions\n",
        "A function is a block of code which only runs when it is called.\n",
        "\n",
        "You can pass data, known as parameters, into a function.\n",
        "\n",
        "A function can return data as a result.\n",
        "\n",
        "In Python a function is defined using the def keyword:\n",
        "\n",
        "To call a function, use the function name followed by parenthesis...\n",
        "\n"
      ],
      "metadata": {
        "id": "MhJCnYDsGSid"
      }
    },
    {
      "cell_type": "code",
      "execution_count": null,
      "metadata": {
        "colab": {
          "base_uri": "https://localhost:8080/"
        },
        "id": "6AYmX21KxPCx",
        "outputId": "742d0c04-f6f9-42f0-ed9a-94abb6c12588"
      },
      "outputs": [
        {
          "output_type": "execute_result",
          "data": {
            "text/plain": [
              "4"
            ]
          },
          "metadata": {},
          "execution_count": 1
        }
      ],
      "source": [
        "def sub(x1,x2):\n",
        "  y = x1-x2\n",
        "  return y\n",
        "sub(9,5)"
      ]
    },
    {
      "cell_type": "code",
      "source": [
        "def Force(M,A):\n",
        "  force=M*A\n",
        "  return(force)\n",
        "Force(100,5)"
      ],
      "metadata": {
        "colab": {
          "base_uri": "https://localhost:8080/"
        },
        "id": "v2p_-Ofi0fYZ",
        "outputId": "6571324b-eb91-4353-c559-3e8fde3917e3"
      },
      "execution_count": null,
      "outputs": [
        {
          "output_type": "execute_result",
          "data": {
            "text/plain": [
              "500"
            ]
          },
          "metadata": {},
          "execution_count": 2
        }
      ]
    },
    {
      "cell_type": "code",
      "source": [
        "def kinetic (M,V):\n",
        "  kineticenergy = 1/2 *M*V**2\n",
        "  return(kineticenergy)\n",
        "kinetic(106,5)"
      ],
      "metadata": {
        "colab": {
          "base_uri": "https://localhost:8080/"
        },
        "id": "0KX7z7-k1YOI",
        "outputId": "d586af00-3f32-4581-cdbc-4bb41db9d3dd"
      },
      "execution_count": null,
      "outputs": [
        {
          "output_type": "execute_result",
          "data": {
            "text/plain": [
              "1325.0"
            ]
          },
          "metadata": {},
          "execution_count": 9
        }
      ]
    },
    {
      "cell_type": "code",
      "source": [
        "def fall(T):\n",
        "  speed=1/2*9.8*T**2\n",
        "  return(speed)\n",
        "fall(5)"
      ],
      "metadata": {
        "colab": {
          "base_uri": "https://localhost:8080/"
        },
        "id": "pdEHEEgB1uwo",
        "outputId": "c8658cae-6b62-4fb3-aa2d-e77dcc32fd41"
      },
      "execution_count": null,
      "outputs": [
        {
          "output_type": "execute_result",
          "data": {
            "text/plain": [
              "122.50000000000001"
            ]
          },
          "metadata": {},
          "execution_count": 10
        }
      ]
    },
    {
      "cell_type": "code",
      "source": [
        "def food(name,veg=True):\n",
        "  if veg:\n",
        "    print(f\"{name} tu panner kha\")\n",
        "  else:\n",
        "    print(f\"{name} tu kabab kha\")\n"
      ],
      "metadata": {
        "id": "kYuIIQAV3Ex_"
      },
      "execution_count": null,
      "outputs": []
    },
    {
      "cell_type": "code",
      "source": [
        "food(\"rohan\",veg=False)"
      ],
      "metadata": {
        "colab": {
          "base_uri": "https://localhost:8080/"
        },
        "id": "3R8YA3YK8WH4",
        "outputId": "108ddd02-b1eb-4095-9dcc-350752acbb82"
      },
      "execution_count": null,
      "outputs": [
        {
          "output_type": "stream",
          "name": "stdout",
          "text": [
            "rohan tu kabab kha\n"
          ]
        }
      ]
    },
    {
      "cell_type": "code",
      "source": [
        "#even Number"
      ],
      "metadata": {
        "id": "yBP5v-pF8b_G"
      },
      "execution_count": null,
      "outputs": []
    },
    {
      "cell_type": "code",
      "source": [
        "\n",
        "def even_no(a):\n",
        "  s=[]\n",
        "  for i in range(1,101):\n",
        "    if i%2==0:\n",
        "      s.append(i)\n",
        "  return s\n",
        "even_no(l)"
      ],
      "metadata": {
        "colab": {
          "base_uri": "https://localhost:8080/"
        },
        "id": "OYLZhyhRzBXT",
        "outputId": "69296d18-5646-4345-d412-a8ae8c53fe47"
      },
      "execution_count": null,
      "outputs": [
        {
          "output_type": "execute_result",
          "data": {
            "text/plain": [
              "[2,\n",
              " 4,\n",
              " 6,\n",
              " 8,\n",
              " 10,\n",
              " 12,\n",
              " 14,\n",
              " 16,\n",
              " 18,\n",
              " 20,\n",
              " 22,\n",
              " 24,\n",
              " 26,\n",
              " 28,\n",
              " 30,\n",
              " 32,\n",
              " 34,\n",
              " 36,\n",
              " 38,\n",
              " 40,\n",
              " 42,\n",
              " 44,\n",
              " 46,\n",
              " 48,\n",
              " 50,\n",
              " 52,\n",
              " 54,\n",
              " 56,\n",
              " 58,\n",
              " 60,\n",
              " 62,\n",
              " 64,\n",
              " 66,\n",
              " 68,\n",
              " 70,\n",
              " 72,\n",
              " 74,\n",
              " 76,\n",
              " 78,\n",
              " 80,\n",
              " 82,\n",
              " 84,\n",
              " 86,\n",
              " 88,\n",
              " 90,\n",
              " 92,\n",
              " 94,\n",
              " 96,\n",
              " 98,\n",
              " 100]"
            ]
          },
          "metadata": {},
          "execution_count": 54
        }
      ]
    },
    {
      "cell_type": "code",
      "source": [
        "l=list(range(1,101))\n",
        "def odd_no(a):\n",
        "  for i in a:\n",
        "     if i%2!=0:\n",
        "      print(i)\n",
        "\n"
      ],
      "metadata": {
        "id": "i8SORWVr2RAW"
      },
      "execution_count": null,
      "outputs": []
    },
    {
      "cell_type": "code",
      "source": [
        "l=list(range(1,101))\n",
        "odd_no(l)"
      ],
      "metadata": {
        "colab": {
          "base_uri": "https://localhost:8080/"
        },
        "id": "8a6esbNa2sw_",
        "outputId": "eef99c9b-9fa0-4754-8890-31d268c892c5"
      },
      "execution_count": null,
      "outputs": [
        {
          "output_type": "stream",
          "name": "stdout",
          "text": [
            "1\n",
            "3\n",
            "5\n",
            "7\n",
            "9\n",
            "11\n",
            "13\n",
            "15\n",
            "17\n",
            "19\n",
            "21\n",
            "23\n",
            "25\n",
            "27\n",
            "29\n",
            "31\n",
            "33\n",
            "35\n",
            "37\n",
            "39\n",
            "41\n",
            "43\n",
            "45\n",
            "47\n",
            "49\n",
            "51\n",
            "53\n",
            "55\n",
            "57\n",
            "59\n",
            "61\n",
            "63\n",
            "65\n",
            "67\n",
            "69\n",
            "71\n",
            "73\n",
            "75\n",
            "77\n",
            "79\n",
            "81\n",
            "83\n",
            "85\n",
            "87\n",
            "89\n",
            "91\n",
            "93\n",
            "95\n",
            "97\n",
            "99\n"
          ]
        }
      ]
    },
    {
      "cell_type": "code",
      "source": [
        "cust_id = ['IN002','IN003','US003','PK003',\"PK004\",'IN045','IN032']"
      ],
      "metadata": {
        "id": "4A4peNUa0FTr"
      },
      "execution_count": null,
      "outputs": []
    },
    {
      "cell_type": "code",
      "source": [
        "def country(cust_id):\n",
        "  for i in cust_id:\n",
        "    if i[0]=='I':\n",
        "      print(i)"
      ],
      "metadata": {
        "id": "PzLCYPMH8TnC"
      },
      "execution_count": null,
      "outputs": []
    },
    {
      "cell_type": "code",
      "source": [
        "country(['IN002','IN003','US003','PK003',\"PK004\",'IN045','IN032'])"
      ],
      "metadata": {
        "colab": {
          "base_uri": "https://localhost:8080/",
          "height": 141
        },
        "id": "bomWZAiE8coJ",
        "outputId": "41999393-9b89-4537-ed91-2422c7df1614"
      },
      "execution_count": null,
      "outputs": [
        {
          "output_type": "error",
          "ename": "NameError",
          "evalue": "name 'country' is not defined",
          "traceback": [
            "\u001b[0;31m---------------------------------------------------------------------------\u001b[0m",
            "\u001b[0;31mNameError\u001b[0m                                 Traceback (most recent call last)",
            "\u001b[0;32m<ipython-input-8-067e0eebd790>\u001b[0m in \u001b[0;36m<cell line: 0>\u001b[0;34m()\u001b[0m\n\u001b[0;32m----> 1\u001b[0;31m \u001b[0mcountry\u001b[0m\u001b[0;34m(\u001b[0m\u001b[0;34m[\u001b[0m\u001b[0;34m'IN002'\u001b[0m\u001b[0;34m,\u001b[0m\u001b[0;34m'IN003'\u001b[0m\u001b[0;34m,\u001b[0m\u001b[0;34m'US003'\u001b[0m\u001b[0;34m,\u001b[0m\u001b[0;34m'PK003'\u001b[0m\u001b[0;34m,\u001b[0m\u001b[0;34m\"PK004\"\u001b[0m\u001b[0;34m,\u001b[0m\u001b[0;34m'IN045'\u001b[0m\u001b[0;34m,\u001b[0m\u001b[0;34m'IN032'\u001b[0m\u001b[0;34m]\u001b[0m\u001b[0;34m)\u001b[0m\u001b[0;34m\u001b[0m\u001b[0;34m\u001b[0m\u001b[0m\n\u001b[0m",
            "\u001b[0;31mNameError\u001b[0m: name 'country' is not defined"
          ]
        }
      ]
    },
    {
      "cell_type": "code",
      "source": [
        "# \"a\" ,remove the name\n",
        "#create a f(x) which will remove all the names with \"a\" in it\n",
        "\n",
        "# names -----> f(x)---->names\n",
        "my_list = [\"akshata\", \"shubham\", \"sohail\", \"deniam\", \"kumkum\", \"azad\", \"ankit\"]"
      ],
      "metadata": {
        "id": "nfzMwyze8lK3"
      },
      "execution_count": null,
      "outputs": []
    },
    {
      "cell_type": "code",
      "source": [
        "def remove_a(my_list):\n",
        "  for i in my_list:\n",
        "    if \"a\" in i:\n",
        "      my_list.remove(i)\n",
        "  return my_list"
      ],
      "metadata": {
        "id": "S1IeyOhnOU1A"
      },
      "execution_count": null,
      "outputs": []
    },
    {
      "cell_type": "code",
      "source": [
        "remove_a(my_list)"
      ],
      "metadata": {
        "colab": {
          "base_uri": "https://localhost:8080/"
        },
        "id": "ydJluB9AOcPt",
        "outputId": "e7424544-9bd4-4680-8acf-a7bfc3073037"
      },
      "execution_count": null,
      "outputs": [
        {
          "output_type": "execute_result",
          "data": {
            "text/plain": [
              "['shubham', 'deniam', 'kumkum', 'ankit']"
            ]
          },
          "metadata": {},
          "execution_count": 59
        }
      ]
    },
    {
      "cell_type": "code",
      "source": [
        "def factorical(n):\n",
        "  fact=1\n",
        "  for i in range(1,n+1):\n",
        "    fact=fact*i\n",
        "  return fact"
      ],
      "metadata": {
        "id": "kf4bgkJPOhTA"
      },
      "execution_count": null,
      "outputs": []
    },
    {
      "cell_type": "code",
      "source": [
        "factorical(5)"
      ],
      "metadata": {
        "colab": {
          "base_uri": "https://localhost:8080/"
        },
        "id": "fulB0Rr4F_ZW",
        "outputId": "06553cbe-4ffe-4cbf-ca1b-cd7f3c6ec84b"
      },
      "execution_count": null,
      "outputs": [
        {
          "output_type": "execute_result",
          "data": {
            "text/plain": [
              "120"
            ]
          },
          "metadata": {},
          "execution_count": 2
        }
      ]
    },
    {
      "cell_type": "code",
      "source": [
        "def reverse(s):\n",
        "  int=len(s)\n",
        "  str1=\"\"\n",
        "  while(int>0):\n",
        "    str1=str1+s[int-1]\n",
        "    int=int-1\n",
        "  return str1"
      ],
      "metadata": {
        "id": "2_c9iOmeGKQi"
      },
      "execution_count": null,
      "outputs": []
    },
    {
      "cell_type": "code",
      "source": [
        "reverse(\"sagar\")"
      ],
      "metadata": {
        "colab": {
          "base_uri": "https://localhost:8080/",
          "height": 35
        },
        "id": "pKEiuBrbL06W",
        "outputId": "0428d0a6-d2fe-4a27-d922-5080c36cb1ec"
      },
      "execution_count": null,
      "outputs": [
        {
          "output_type": "execute_result",
          "data": {
            "text/plain": [
              "'ragas'"
            ],
            "application/vnd.google.colaboratory.intrinsic+json": {
              "type": "string"
            }
          },
          "metadata": {},
          "execution_count": 5
        }
      ]
    },
    {
      "cell_type": "code",
      "source": [
        "def square(n):\n",
        "  return n*n\n",
        "square(6)"
      ],
      "metadata": {
        "colab": {
          "base_uri": "https://localhost:8080/"
        },
        "id": "16cw5y5qRHRA",
        "outputId": "a7e5c2b4-d963-4c50-e486-61b8ddd5d82d"
      },
      "execution_count": null,
      "outputs": [
        {
          "output_type": "execute_result",
          "data": {
            "text/plain": [
              "36"
            ]
          },
          "metadata": {},
          "execution_count": 7
        }
      ]
    },
    {
      "cell_type": "code",
      "source": [
        "vowel_list= [\"akshata\", \"shubham\", \"sohail\", \"deniam\", \"kumkum\", \"azad\", \"ankit\"]\n",
        "for i in count_vowel(vowel_list):\n",
        "  count"
      ],
      "metadata": {
        "id": "_-GEXOv-SEVT"
      },
      "execution_count": null,
      "outputs": []
    },
    {
      "cell_type": "code",
      "source": [
        "def sayhello():\n",
        "  print(\"helloWorld!\")\n",
        "sayhello()\n",
        "sayhello()"
      ],
      "metadata": {
        "colab": {
          "base_uri": "https://localhost:8080/"
        },
        "id": "5zIjsvrUL8ZZ",
        "outputId": "7ed4ced3-8ede-495f-b0b9-5bc457abcd1a"
      },
      "execution_count": null,
      "outputs": [
        {
          "output_type": "stream",
          "name": "stdout",
          "text": [
            "helloWorld!\n",
            "helloWorld!\n"
          ]
        }
      ]
    },
    {
      "cell_type": "code",
      "source": [
        "def max_no(a,b):\n",
        "  if a>b:\n",
        "    print(a,\"is greater than\",b)\n",
        "  elif a==b:\n",
        "    print(a,\"equal to\",b)\n",
        "  else:\n",
        "    print(a,\"is small then\",b)"
      ],
      "metadata": {
        "id": "oGOkj_llMOgp"
      },
      "execution_count": null,
      "outputs": []
    },
    {
      "cell_type": "code",
      "source": [
        "max_no(3,3)"
      ],
      "metadata": {
        "colab": {
          "base_uri": "https://localhost:8080/"
        },
        "id": "PaBUNJShNc4v",
        "outputId": "a1f27edc-0e33-4d70-9843-6675d7cb65f0"
      },
      "execution_count": null,
      "outputs": [
        {
          "output_type": "stream",
          "name": "stdout",
          "text": [
            "3 equal to 3\n"
          ]
        }
      ]
    },
    {
      "cell_type": "code",
      "source": [
        "x=50\n",
        "def fun(x):\n",
        "  print(\"x is\",x)\n",
        "  x=2\n",
        "  print(\"change local x to\",x)\n",
        "fun(x)\n",
        "print(\"x is now\",x)"
      ],
      "metadata": {
        "colab": {
          "base_uri": "https://localhost:8080/"
        },
        "id": "INwiOPrNNidr",
        "outputId": "e24acdcd-0937-4218-9234-27c662149e76"
      },
      "execution_count": null,
      "outputs": [
        {
          "output_type": "stream",
          "name": "stdout",
          "text": [
            "x is 50\n",
            "change local x to 2\n",
            "x is now 50\n"
          ]
        }
      ]
    },
    {
      "cell_type": "markdown",
      "source": [
        "The global Keyword\n",
        "\n",
        "Normally, when you create a variable inside a function, that variable is local, and can only be used inside that function.\n",
        "\n",
        "To create a global variable inside a function, you can use the global keyword."
      ],
      "metadata": {
        "id": "ykiKoFTeP7LX"
      }
    },
    {
      "cell_type": "code",
      "source": [
        "x=\"amzing\"\n",
        "def fun():\n",
        "  print(x)"
      ],
      "metadata": {
        "id": "NQ8qkOE8O036"
      },
      "execution_count": null,
      "outputs": []
    },
    {
      "cell_type": "code",
      "source": [
        "fun()"
      ],
      "metadata": {
        "colab": {
          "base_uri": "https://localhost:8080/"
        },
        "id": "DBE_dGtBtQZh",
        "outputId": "36189ad2-ff8f-4fbf-9cb3-6de701adc6ea"
      },
      "execution_count": null,
      "outputs": [
        {
          "output_type": "stream",
          "name": "stdout",
          "text": [
            "amzing\n"
          ]
        }
      ]
    },
    {
      "cell_type": "code",
      "source": [
        "x=\"amzing\"\n",
        "def fun():\n",
        "  global x\n",
        "  x=\"awsome\"\n",
        "  print(\"python is \"+x)"
      ],
      "metadata": {
        "id": "PZuE3CobtV21"
      },
      "execution_count": null,
      "outputs": []
    },
    {
      "cell_type": "code",
      "source": [
        "fun()"
      ],
      "metadata": {
        "colab": {
          "base_uri": "https://localhost:8080/"
        },
        "id": "ksiDDag_t2j2",
        "outputId": "f6349eb6-4308-404d-c6e1-ac638712306a"
      },
      "execution_count": null,
      "outputs": [
        {
          "output_type": "stream",
          "name": "stdout",
          "text": [
            "python isawsome\n"
          ]
        }
      ]
    },
    {
      "cell_type": "code",
      "source": [
        "x=20\n",
        "def fun():\n",
        "  global x\n",
        "  print(\"x is\",x)\n",
        "  x=2\n",
        "  print(\"change local x to\",x)\n",
        "fun()\n",
        "print(\"x is now\",x)"
      ],
      "metadata": {
        "colab": {
          "base_uri": "https://localhost:8080/"
        },
        "id": "Jy6VUVGLt_SG",
        "outputId": "136ff783-73e7-418c-ae47-9b3b76f04e21"
      },
      "execution_count": null,
      "outputs": [
        {
          "output_type": "stream",
          "name": "stdout",
          "text": [
            "x is 20\n",
            "change local x to 2\n",
            "x is now 2\n"
          ]
        }
      ]
    },
    {
      "cell_type": "code",
      "source": [
        "def fun(message,time=1):\n",
        "  print(message*time)"
      ],
      "metadata": {
        "id": "yXLQjfE8uyhG"
      },
      "execution_count": null,
      "outputs": []
    },
    {
      "cell_type": "code",
      "source": [
        "fun(\"hello\")"
      ],
      "metadata": {
        "colab": {
          "base_uri": "https://localhost:8080/"
        },
        "id": "Q1wXyRDxv_Mn",
        "outputId": "10925fa2-4641-4760-d6cb-559e0af877f1"
      },
      "execution_count": null,
      "outputs": [
        {
          "output_type": "stream",
          "name": "stdout",
          "text": [
            "hello\n"
          ]
        }
      ]
    },
    {
      "cell_type": "code",
      "source": [
        "fun(\"hellow\",5)"
      ],
      "metadata": {
        "colab": {
          "base_uri": "https://localhost:8080/"
        },
        "id": "fh1fyECKwDSQ",
        "outputId": "7272f2d5-b371-485d-ec6c-bcb945b58b84"
      },
      "execution_count": null,
      "outputs": [
        {
          "output_type": "stream",
          "name": "stdout",
          "text": [
            "hellowhellowhellowhellowhellow\n"
          ]
        }
      ]
    },
    {
      "cell_type": "code",
      "source": [
        "def func(a, b=5, c=10):\n",
        "    print('a is', a, 'and b is', b, 'and c is', c)\n",
        "\n",
        "func(3, 7)\n",
        "func(25, c = 24)\n",
        "func(c = 50, a = 100)"
      ],
      "metadata": {
        "colab": {
          "base_uri": "https://localhost:8080/"
        },
        "id": "UT2V0GBqwZSN",
        "outputId": "cd943541-5f6d-482c-e7a8-a9b717fdd630"
      },
      "execution_count": null,
      "outputs": [
        {
          "output_type": "stream",
          "name": "stdout",
          "text": [
            "a is 3 and b is 7 and c is 10\n",
            "a is 25 and b is 5 and c is 24\n",
            "a is 100 and b is 5 and c is 50\n"
          ]
        }
      ]
    },
    {
      "cell_type": "markdown",
      "source": [
        "# *args\n",
        "If you do not know how many arguments that will be passed into your function, add a * before the parameter name in the function definition.\n",
        "\n",
        "This way the function will receive a tuple of arguments, and can access the items accordingly:"
      ],
      "metadata": {
        "id": "h6Qu_tmbDkx2"
      }
    },
    {
      "cell_type": "code",
      "source": [
        "def small(*abc):\n",
        "  min=abc[0]\n",
        "  for i in abc[1:]:\n",
        "    if i<min:\n",
        "      min = i\n",
        "  return min"
      ],
      "metadata": {
        "id": "O1lGNjggwlg6"
      },
      "execution_count": null,
      "outputs": []
    },
    {
      "cell_type": "code",
      "source": [
        "small(2,3,4,5,6,7,8,9,1)"
      ],
      "metadata": {
        "colab": {
          "base_uri": "https://localhost:8080/"
        },
        "id": "vOxONNYE8LBj",
        "outputId": "4f3ec1f0-2bd7-4e1d-c2b5-9b37a04136fb"
      },
      "execution_count": null,
      "outputs": [
        {
          "output_type": "execute_result",
          "data": {
            "text/plain": [
              "1"
            ]
          },
          "metadata": {},
          "execution_count": 32
        }
      ]
    },
    {
      "cell_type": "code",
      "source": [
        "small"
      ],
      "metadata": {
        "colab": {
          "base_uri": "https://localhost:8080/",
          "height": 104
        },
        "id": "lcEyzGFM8UN2",
        "outputId": "b4a39e89-fd7f-48fd-8e56-a80d767c6284"
      },
      "execution_count": null,
      "outputs": [
        {
          "output_type": "execute_result",
          "data": {
            "text/plain": [
              "<function __main__.small(*abc)>"
            ],
            "text/html": [
              "<div style=\"max-width:800px; border: 1px solid var(--colab-border-color);\"><style>\n",
              "      pre.function-repr-contents {\n",
              "        overflow-x: auto;\n",
              "        padding: 8px 12px;\n",
              "        max-height: 500px;\n",
              "      }\n",
              "\n",
              "      pre.function-repr-contents.function-repr-contents-collapsed {\n",
              "        cursor: pointer;\n",
              "        max-height: 100px;\n",
              "      }\n",
              "    </style>\n",
              "    <pre style=\"white-space: initial; background:\n",
              "         var(--colab-secondary-surface-color); padding: 8px 12px;\n",
              "         border-bottom: 1px solid var(--colab-border-color);\"><b>small</b><br/>def small(*abc)</pre><pre class=\"function-repr-contents function-repr-contents-collapsed\" style=\"\"><a class=\"filepath\" style=\"display:none\" href=\"#\">/content/&lt;ipython-input-16-31bda24d6905&gt;</a>&lt;no docstring&gt;</pre></div>"
            ]
          },
          "metadata": {},
          "execution_count": 20
        }
      ]
    },
    {
      "cell_type": "code",
      "source": [
        "#print biggest number in series\n",
        "def motha(*a):\n",
        "  max=a[0]\n",
        "  for i in a[1:]:\n",
        "    if i>max:\n",
        "      max=i\n",
        "  return max"
      ],
      "metadata": {
        "id": "3cYJqNp-XV83"
      },
      "execution_count": null,
      "outputs": []
    },
    {
      "cell_type": "code",
      "source": [
        "motha(1,2,5,4,6,99,2,4,5,66,66,44,555)"
      ],
      "metadata": {
        "colab": {
          "base_uri": "https://localhost:8080/"
        },
        "id": "hkCL1c3iYL_E",
        "outputId": "6a90d7e8-cf73-4131-df61-471cc0ccb41c"
      },
      "execution_count": null,
      "outputs": [
        {
          "output_type": "execute_result",
          "data": {
            "text/plain": [
              "555"
            ]
          },
          "metadata": {},
          "execution_count": 17
        }
      ]
    },
    {
      "cell_type": "code",
      "source": [
        "#add of list\n",
        "l=[[1,2,3,4,5],[22,55,36,66,85],[88,65,24]]\n",
        "s=[]\n",
        "for i in l:\n",
        "  s.append(sum(i))\n",
        "print(s)"
      ],
      "metadata": {
        "id": "I6rQO3ckYIZe",
        "colab": {
          "base_uri": "https://localhost:8080/"
        },
        "outputId": "a44f3839-b5dc-434a-dcb9-d8296869498a"
      },
      "execution_count": null,
      "outputs": [
        {
          "output_type": "stream",
          "name": "stdout",
          "text": [
            "[15, 264, 177]\n"
          ]
        }
      ]
    },
    {
      "cell_type": "markdown",
      "source": [
        "# **args\n",
        " make in dictnary form"
      ],
      "metadata": {
        "id": "zWLM3fLEyzOL"
      }
    },
    {
      "cell_type": "code",
      "source": [
        "def h(**R):\n",
        "  n=int(input(\"total subject marks\"))\n",
        "  total_marks=sum(R.values())\n",
        "  for i in R.keys():\n",
        "    print(f\"In {i} I got {R[i]} marks\")\n",
        "  print(f\"percentage {(total_marks/n)*100}\")"
      ],
      "metadata": {
        "id": "kJ-IvbgtRn3y"
      },
      "execution_count": null,
      "outputs": []
    },
    {
      "cell_type": "code",
      "source": [
        "h(science=35,math=65,hindi=96,marathi=94)"
      ],
      "metadata": {
        "colab": {
          "base_uri": "https://localhost:8080/"
        },
        "id": "PJoZW_dyRnjZ",
        "outputId": "5c8721cc-803c-4d5a-ba9a-24490c5c2963"
      },
      "execution_count": null,
      "outputs": [
        {
          "output_type": "stream",
          "name": "stdout",
          "text": [
            "total subject marks500\n",
            "In science I got 35 marks\n",
            "In math I got 65 marks\n",
            "In hindi I got 96 marks\n",
            "In marathi I got 94 marks\n",
            "percentage 57.99999999999999\n"
          ]
        }
      ]
    },
    {
      "cell_type": "markdown",
      "source": [],
      "metadata": {
        "id": "2x8ONn00bpTM"
      }
    },
    {
      "cell_type": "code",
      "source": [
        "l = ['🍉',\"🍗\",\"💀\",\"🧂\",\"💀\",\"🧂\",\"💀\",\"🧂\",\"💀\",\"🧂\",\"💀\",\"🧂\",\"💀\",\"🧂\",'🍉',\"🍗\",'🍉',\"🍗\",'🍉',\"🍗\",'🍉',\"🍗\",'🍉',\"🍗\",\"🍗\",\"💀\",\"🍗\",\"💀\",\"🍗\",\"💀\",\"🍗\",\"💀\"]"
      ],
      "metadata": {
        "id": "fOntbl1GUblR"
      },
      "execution_count": null,
      "outputs": []
    },
    {
      "cell_type": "code",
      "source": [
        "s=list(filter(lambda x:x==[\"💀\",\"🧂\"],l))\n",
        "s\n"
      ],
      "metadata": {
        "colab": {
          "base_uri": "https://localhost:8080/"
        },
        "id": "5kL8YRefUbwW",
        "outputId": "260b5222-b750-4184-fb6c-0f02e4b0e0a7"
      },
      "execution_count": null,
      "outputs": [
        {
          "output_type": "execute_result",
          "data": {
            "text/plain": [
              "[]"
            ]
          },
          "metadata": {},
          "execution_count": 32
        }
      ]
    },
    {
      "cell_type": "code",
      "source": [
        "def g(**a):\n",
        "  salary=sum(a.values())\n",
        "  for i in salary:\n",
        "    if i==salary:\n",
        "def fibonacci(n):\n",
        "    if n <= 0:\n",
        "        return 0\n",
        "    elif n == 1:\n",
        "        return 1\n",
        "    prev, curr = 0, 1\n",
        "    for _ in range(2, n + 1):\n",
        "        prev, curr = curr, prev + curr\n",
        "    return curr\n",
        "    print()"
      ],
      "metadata": {
        "id": "7M24lJ5v81bO",
        "colab": {
          "base_uri": "https://localhost:8080/",
          "height": 106
        },
        "outputId": "425328b3-dc0b-4b5f-f16e-3b92fb4c3d7e"
      },
      "execution_count": null,
      "outputs": [
        {
          "output_type": "error",
          "ename": "IndentationError",
          "evalue": "expected an indented block after 'if' statement on line 4 (<ipython-input-17-828d1642df5c>, line 5)",
          "traceback": [
            "\u001b[0;36m  File \u001b[0;32m\"<ipython-input-17-828d1642df5c>\"\u001b[0;36m, line \u001b[0;32m5\u001b[0m\n\u001b[0;31m    def fibonacci(n):\u001b[0m\n\u001b[0m                     ^\u001b[0m\n\u001b[0;31mIndentationError\u001b[0m\u001b[0;31m:\u001b[0m expected an indented block after 'if' statement on line 4\n"
          ]
        }
      ]
    },
    {
      "cell_type": "code",
      "source": [
        "def fibonacci(n):\n",
        "    if n <= 0:\n",
        "        return 0\n",
        "    elif n == 1:\n",
        "        return 1\n",
        "    prev, curr = 0, 1\n",
        "    for _ in range(2, n + 1):\n",
        "        prev, curr = curr, prev + curr\n",
        "    return curr"
      ],
      "metadata": {
        "id": "Sm0D-xa6H9Ia"
      },
      "execution_count": null,
      "outputs": []
    },
    {
      "cell_type": "code",
      "source": [
        "fibonacci(5)"
      ],
      "metadata": {
        "colab": {
          "base_uri": "https://localhost:8080/"
        },
        "id": "Suka9eTpIKID",
        "outputId": "012d138c-e5c3-412e-8435-a462bc577e7e"
      },
      "execution_count": null,
      "outputs": [
        {
          "output_type": "execute_result",
          "data": {
            "text/plain": [
              "5"
            ]
          },
          "metadata": {},
          "execution_count": 3
        }
      ]
    },
    {
      "cell_type": "markdown",
      "source": [
        "0 1 1 2 3 5 8 13 21.....\n",
        "\n",
        "Jyamadhye ek term agodar chya don term chi addition aste\n",
        "\n",
        "Js ki\n",
        "\n",
        "0+1=1\n",
        "1+=2\n",
        "2+1=3\n",
        "3+2=5\n",
        "5+3=8"
      ],
      "metadata": {
        "id": "Rvkwr7dFPO0l"
      }
    },
    {
      "cell_type": "code",
      "source": [
        "def fibonacci(n):\n",
        "    if n <= 0:\n",
        "        return 0\n",
        "    elif n == 1:\n",
        "        return 1\n",
        "    else:\n",
        "        return fibonacci(n - 1) + fibonacci(n - 2)"
      ],
      "metadata": {
        "id": "zjbY3TG3QTi0"
      },
      "execution_count": null,
      "outputs": []
    },
    {
      "cell_type": "code",
      "source": [
        "fibonacci(10)"
      ],
      "metadata": {
        "colab": {
          "base_uri": "https://localhost:8080/"
        },
        "id": "cSsk2j5TP421",
        "outputId": "a4da1a56-5b92-4b5c-b7ee-79b7a5e91248"
      },
      "execution_count": null,
      "outputs": [
        {
          "output_type": "execute_result",
          "data": {
            "text/plain": [
              "55"
            ]
          },
          "metadata": {},
          "execution_count": 15
        }
      ]
    },
    {
      "cell_type": "code",
      "source": [
        "#Palindrome Checker\n",
        "#Write a function is_palindrome(s) that checks if a string is a palindrome (reads the same backward as forward).\n",
        "def palindrome(s):\n",
        "  if s==s[::-1]:\n",
        "    print(f\"{s} string is palindrome\")\n",
        "  else:\n",
        "    print(f\"{s} string is not palindrome\")"
      ],
      "metadata": {
        "id": "AyRWA5_SP-o2"
      },
      "execution_count": null,
      "outputs": []
    },
    {
      "cell_type": "code",
      "source": [
        "palindrome(\"madam\")"
      ],
      "metadata": {
        "colab": {
          "base_uri": "https://localhost:8080/"
        },
        "id": "xJVyS4caaU6I",
        "outputId": "6d35e0ae-2b3a-4ca4-ffef-266dfea3258e"
      },
      "execution_count": null,
      "outputs": [
        {
          "output_type": "stream",
          "name": "stdout",
          "text": [
            "madam string is palindrome\n"
          ]
        }
      ]
    },
    {
      "cell_type": "code",
      "source": [
        "palindrome(\"sagar\")"
      ],
      "metadata": {
        "colab": {
          "base_uri": "https://localhost:8080/"
        },
        "id": "t-mO_g9FaYZk",
        "outputId": "8f4f8513-6216-4af5-b3bf-4b5d5e8b6134"
      },
      "execution_count": null,
      "outputs": [
        {
          "output_type": "stream",
          "name": "stdout",
          "text": [
            "sagar string is not palindrome\n"
          ]
        }
      ]
    },
    {
      "cell_type": "code",
      "source": [
        "def palindrome_string(s):\n",
        "  return s==s[::-1]"
      ],
      "metadata": {
        "id": "_cCx1tKTael3"
      },
      "execution_count": null,
      "outputs": []
    },
    {
      "cell_type": "code",
      "source": [
        "palindrome_string(\"madam\")"
      ],
      "metadata": {
        "colab": {
          "base_uri": "https://localhost:8080/"
        },
        "id": "oy0-IeOraw-F",
        "outputId": "e494743d-8fde-4cc1-ac7d-2198a32296b6"
      },
      "execution_count": null,
      "outputs": [
        {
          "output_type": "execute_result",
          "data": {
            "text/plain": [
              "True"
            ]
          },
          "metadata": {},
          "execution_count": 24
        }
      ]
    },
    {
      "cell_type": "code",
      "source": [
        "#Prime Number Checker in Python\n",
        "for i in range(2,101):\n",
        "  i=range(2,101)\n",
        "  if i<=1:\n",
        "    print(i)\n",
        "  elif i%n==0:\n",
        "    print(i)"
      ],
      "metadata": {
        "colab": {
          "base_uri": "https://localhost:8080/",
          "height": 211
        },
        "id": "4MmCCWfAa_99",
        "outputId": "7413f93d-0e2c-463f-d1c8-a6cae07a0932"
      },
      "execution_count": null,
      "outputs": [
        {
          "output_type": "error",
          "ename": "TypeError",
          "evalue": "'<=' not supported between instances of 'range' and 'int'",
          "traceback": [
            "\u001b[0;31m---------------------------------------------------------------------------\u001b[0m",
            "\u001b[0;31mTypeError\u001b[0m                                 Traceback (most recent call last)",
            "\u001b[0;32m<ipython-input-29-c5715f57f8a2>\u001b[0m in \u001b[0;36m<cell line: 0>\u001b[0;34m()\u001b[0m\n\u001b[1;32m      2\u001b[0m \u001b[0;32mfor\u001b[0m \u001b[0mi\u001b[0m \u001b[0;32min\u001b[0m \u001b[0mrange\u001b[0m\u001b[0;34m(\u001b[0m\u001b[0;36m2\u001b[0m\u001b[0;34m,\u001b[0m\u001b[0;36m101\u001b[0m\u001b[0;34m)\u001b[0m\u001b[0;34m:\u001b[0m\u001b[0;34m\u001b[0m\u001b[0;34m\u001b[0m\u001b[0m\n\u001b[1;32m      3\u001b[0m   \u001b[0mi\u001b[0m\u001b[0;34m=\u001b[0m\u001b[0mrange\u001b[0m\u001b[0;34m(\u001b[0m\u001b[0;36m2\u001b[0m\u001b[0;34m,\u001b[0m\u001b[0;36m101\u001b[0m\u001b[0;34m)\u001b[0m\u001b[0;34m\u001b[0m\u001b[0;34m\u001b[0m\u001b[0m\n\u001b[0;32m----> 4\u001b[0;31m   \u001b[0;32mif\u001b[0m \u001b[0mi\u001b[0m\u001b[0;34m<=\u001b[0m\u001b[0;36m1\u001b[0m\u001b[0;34m:\u001b[0m\u001b[0;34m\u001b[0m\u001b[0;34m\u001b[0m\u001b[0m\n\u001b[0m\u001b[1;32m      5\u001b[0m     \u001b[0mprint\u001b[0m\u001b[0;34m(\u001b[0m\u001b[0mi\u001b[0m\u001b[0;34m)\u001b[0m\u001b[0;34m\u001b[0m\u001b[0;34m\u001b[0m\u001b[0m\n\u001b[1;32m      6\u001b[0m   \u001b[0;32melif\u001b[0m \u001b[0mi\u001b[0m\u001b[0;34m%\u001b[0m\u001b[0mn\u001b[0m\u001b[0;34m==\u001b[0m\u001b[0;36m0\u001b[0m\u001b[0;34m:\u001b[0m\u001b[0;34m\u001b[0m\u001b[0;34m\u001b[0m\u001b[0m\n",
            "\u001b[0;31mTypeError\u001b[0m: '<=' not supported between instances of 'range' and 'int'"
          ]
        }
      ]
    },
    {
      "cell_type": "code",
      "source": [
        "def is_prime(n):\n",
        "    if n <= 1:\n",
        "        return False\n",
        "    for i in range(2, int(n**0.5) + 1):\n",
        "        if n % i == 0:\n",
        "            return False\n",
        "    return True\n",
        "\n",
        "primes = [num for num in range(1, 101) if is_prime(num)]\n",
        "print(\"Prime numbers from 1 to 100 are:\")\n",
        "print(primes)\n",
        "\n"
      ],
      "metadata": {
        "colab": {
          "base_uri": "https://localhost:8080/"
        },
        "id": "nO_LLIkJd0AF",
        "outputId": "90ad4329-f5b6-4881-ec25-bf4f4fd45a2a"
      },
      "execution_count": null,
      "outputs": [
        {
          "output_type": "stream",
          "name": "stdout",
          "text": [
            "Prime numbers from 1 to 100 are:\n",
            "[2, 3, 5, 7, 11, 13, 17, 19, 23, 29, 31, 37, 41, 43, 47, 53, 59, 61, 67, 71, 73, 79, 83, 89, 97]\n"
          ]
        }
      ]
    },
    {
      "cell_type": "code",
      "source": [
        "def prime(n):\n",
        "    if n <= 1:\n",
        "        return False\n",
        "    for i in range(2, int(n**0.5) + 1):\n",
        "        if n % i == 0:\n",
        "            return False\n",
        "    return True"
      ],
      "metadata": {
        "id": "2EDylyTMiNjY"
      },
      "execution_count": null,
      "outputs": []
    },
    {
      "cell_type": "code",
      "source": [
        "prime(13)"
      ],
      "metadata": {
        "colab": {
          "base_uri": "https://localhost:8080/"
        },
        "id": "gu_njtjziUge",
        "outputId": "dd0ed137-edaf-4e63-bd53-53d60f5fd7ce"
      },
      "execution_count": null,
      "outputs": [
        {
          "output_type": "execute_result",
          "data": {
            "text/plain": [
              "True"
            ]
          },
          "metadata": {},
          "execution_count": 40
        }
      ]
    },
    {
      "cell_type": "code",
      "source": [
        "l=list(range(1,100))\n",
        "prime(l)"
      ],
      "metadata": {
        "colab": {
          "base_uri": "https://localhost:8080/",
          "height": 280
        },
        "id": "eMKSFE-dibcN",
        "outputId": "6d72811e-97da-4ea2-f3a5-b9018d2d36f6"
      },
      "execution_count": null,
      "outputs": [
        {
          "output_type": "error",
          "ename": "TypeError",
          "evalue": "'<=' not supported between instances of 'list' and 'int'",
          "traceback": [
            "\u001b[0;31m---------------------------------------------------------------------------\u001b[0m",
            "\u001b[0;31mTypeError\u001b[0m                                 Traceback (most recent call last)",
            "\u001b[0;32m<ipython-input-38-dc2996f7ba84>\u001b[0m in \u001b[0;36m<cell line: 0>\u001b[0;34m()\u001b[0m\n\u001b[1;32m      1\u001b[0m \u001b[0ml\u001b[0m\u001b[0;34m=\u001b[0m\u001b[0mlist\u001b[0m\u001b[0;34m(\u001b[0m\u001b[0mrange\u001b[0m\u001b[0;34m(\u001b[0m\u001b[0;36m1\u001b[0m\u001b[0;34m,\u001b[0m\u001b[0;36m100\u001b[0m\u001b[0;34m)\u001b[0m\u001b[0;34m)\u001b[0m\u001b[0;34m\u001b[0m\u001b[0;34m\u001b[0m\u001b[0m\n\u001b[0;32m----> 2\u001b[0;31m \u001b[0mprime\u001b[0m\u001b[0;34m(\u001b[0m\u001b[0ml\u001b[0m\u001b[0;34m)\u001b[0m\u001b[0;34m\u001b[0m\u001b[0;34m\u001b[0m\u001b[0m\n\u001b[0m",
            "\u001b[0;32m<ipython-input-35-bf372c6d5cf5>\u001b[0m in \u001b[0;36mprime\u001b[0;34m(n)\u001b[0m\n\u001b[1;32m      1\u001b[0m \u001b[0;32mdef\u001b[0m \u001b[0mprime\u001b[0m\u001b[0;34m(\u001b[0m\u001b[0mn\u001b[0m\u001b[0;34m)\u001b[0m\u001b[0;34m:\u001b[0m\u001b[0;34m\u001b[0m\u001b[0;34m\u001b[0m\u001b[0m\n\u001b[0;32m----> 2\u001b[0;31m     \u001b[0;32mif\u001b[0m \u001b[0mn\u001b[0m \u001b[0;34m<=\u001b[0m \u001b[0;36m1\u001b[0m\u001b[0;34m:\u001b[0m\u001b[0;34m\u001b[0m\u001b[0;34m\u001b[0m\u001b[0m\n\u001b[0m\u001b[1;32m      3\u001b[0m         \u001b[0;32mreturn\u001b[0m \u001b[0mn\u001b[0m\u001b[0;34m\u001b[0m\u001b[0;34m\u001b[0m\u001b[0m\n\u001b[1;32m      4\u001b[0m     \u001b[0;32mfor\u001b[0m \u001b[0mi\u001b[0m \u001b[0;32min\u001b[0m \u001b[0mrange\u001b[0m\u001b[0;34m(\u001b[0m\u001b[0;36m2\u001b[0m\u001b[0;34m,\u001b[0m \u001b[0mint\u001b[0m\u001b[0;34m(\u001b[0m\u001b[0mn\u001b[0m\u001b[0;34m**\u001b[0m\u001b[0;36m0.5\u001b[0m\u001b[0;34m)\u001b[0m \u001b[0;34m+\u001b[0m \u001b[0;36m1\u001b[0m\u001b[0;34m)\u001b[0m\u001b[0;34m:\u001b[0m\u001b[0;34m\u001b[0m\u001b[0;34m\u001b[0m\u001b[0m\n\u001b[1;32m      5\u001b[0m         \u001b[0;32mif\u001b[0m \u001b[0mn\u001b[0m \u001b[0;34m%\u001b[0m \u001b[0mi\u001b[0m \u001b[0;34m==\u001b[0m \u001b[0;36m0\u001b[0m\u001b[0;34m:\u001b[0m\u001b[0;34m\u001b[0m\u001b[0;34m\u001b[0m\u001b[0m\n",
            "\u001b[0;31mTypeError\u001b[0m: '<=' not supported between instances of 'list' and 'int'"
          ]
        }
      ]
    },
    {
      "cell_type": "code",
      "source": [
        "#key=names ,values=salary\n",
        "def salary(**a):\n",
        "  s=sum(a.values())\n",
        "  for i in a.keys():\n",
        "    print(f\"{i} salary is {a[i]}\")\n",
        "  print(f\"total salary {s}\")"
      ],
      "metadata": {
        "id": "6ZnUvxkB6TRn"
      },
      "execution_count": null,
      "outputs": []
    },
    {
      "cell_type": "code",
      "source": [
        "salary(sagar=20000,harshada=15000,varun=14000)"
      ],
      "metadata": {
        "colab": {
          "base_uri": "https://localhost:8080/"
        },
        "id": "pHCLfiPr8Sn_",
        "outputId": "6d4539c8-f355-410e-e2c2-02ca2246842b"
      },
      "execution_count": null,
      "outputs": [
        {
          "output_type": "stream",
          "name": "stdout",
          "text": [
            "sagar salary is 20000\n",
            "harshada salary is 15000\n",
            "varun salary is 14000\n",
            "total salary 49000\n"
          ]
        }
      ]
    },
    {
      "cell_type": "code",
      "source": [
        "x= lambda a, b : a - b\n",
        "print(x(5, 3))"
      ],
      "metadata": {
        "colab": {
          "base_uri": "https://localhost:8080/"
        },
        "id": "Y5YtEXD48gWH",
        "outputId": "96d07867-e3bd-4c49-949f-7694f9008def"
      },
      "execution_count": null,
      "outputs": [
        {
          "output_type": "stream",
          "name": "stdout",
          "text": [
            "2\n"
          ]
        }
      ]
    },
    {
      "cell_type": "code",
      "source": [
        "def thrive(n):\n",
        " if n % 15 == 0:\n",
        "   print(\"thrive\", end = ' ')\n",
        " elif n % 3 != 0 and n % 5 != 0:\n",
        "   print(\"neither\", end = ' ')\n",
        " elif n % 3 == 0:\n",
        "   print(\"three\", end = ' ')\n",
        " elif n % 5 == 0:\n",
        "   print(\"five\", end = ' ')\n",
        "thrive(35)\n",
        "thrive(56)\n",
        "thrive(15)\n",
        "thrive(39)"
      ],
      "metadata": {
        "colab": {
          "base_uri": "https://localhost:8080/"
        },
        "id": "lG19cf9n-Kqs",
        "outputId": "9b4f5104-b524-4d20-9a39-76659f234469"
      },
      "execution_count": null,
      "outputs": [
        {
          "output_type": "stream",
          "name": "stdout",
          "text": [
            "five neither thrive three "
          ]
        }
      ]
    },
    {
      "cell_type": "code",
      "source": [
        "s=[3,5,4,2,5,6]\n",
        "h=[]\n",
        "def measure():\n",
        "  for i in s:\n",
        "    r=0.5*9.8**i\n",
        "    h.append(r)\n",
        "  return h\n"
      ],
      "metadata": {
        "id": "OVdq0iYECxq0"
      },
      "execution_count": null,
      "outputs": []
    },
    {
      "cell_type": "code",
      "source": [
        "measure()"
      ],
      "metadata": {
        "colab": {
          "base_uri": "https://localhost:8080/"
        },
        "id": "wW5zTGRHGs8c",
        "outputId": "ff11e914-7991-4975-c171-f416dc6bb0f9"
      },
      "execution_count": null,
      "outputs": [
        {
          "output_type": "execute_result",
          "data": {
            "text/plain": [
              "[470.5960000000001,\n",
              " 45196.03984000002,\n",
              " 4611.840800000002,\n",
              " 48.02000000000001,\n",
              " 45196.03984000002,\n",
              " 442921.1904320002]"
            ]
          },
          "metadata": {},
          "execution_count": 12
        }
      ]
    },
    {
      "cell_type": "code",
      "source": [
        "def kha(name,veg=True):\n",
        "  if veg:\n",
        "    print(f\"{name} tu paneer briyani kha\")\n",
        "  else:\n",
        "    print(f\"{name} tu chiken briyani kha\")"
      ],
      "metadata": {
        "id": "3VXp8NCVGvo3"
      },
      "execution_count": null,
      "outputs": []
    },
    {
      "cell_type": "code",
      "source": [
        "kha(\"sagar\",\"1\")"
      ],
      "metadata": {
        "colab": {
          "base_uri": "https://localhost:8080/"
        },
        "id": "BMl1Oe1GP1Df",
        "outputId": "77cb2010-4575-468b-f4bb-6becad2b68a2"
      },
      "execution_count": null,
      "outputs": [
        {
          "output_type": "stream",
          "name": "stdout",
          "text": [
            "sagar tu paneer briyani kha\n"
          ]
        }
      ]
    },
    {
      "cell_type": "code",
      "source": [],
      "metadata": {
        "id": "kC3_gxCbP6Ti"
      },
      "execution_count": null,
      "outputs": []
    }
  ]
}