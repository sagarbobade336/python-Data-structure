{
 "cells": [
  {
   "cell_type": "markdown",
   "id": "0f747fea-9e5f-4a90-907d-79caf9177dda",
   "metadata": {},
   "source": [
    "# cheak if a string is palindrome"
   ]
  },
  {
   "cell_type": "code",
   "execution_count": 4,
   "id": "da7dbd4d-8b81-4aaa-9bb4-538fb4161327",
   "metadata": {},
   "outputs": [
    {
     "name": "stdin",
     "output_type": "stream",
     "text": [
      "any string to cheak palindrome madam\n"
     ]
    },
    {
     "data": {
      "text/plain": [
       "True"
      ]
     },
     "execution_count": 4,
     "metadata": {},
     "output_type": "execute_result"
    }
   ],
   "source": [
    "n=input(\"any string to cheak palindrome\")\n",
    "def palindrome(n):\n",
    "    return n == n[::-1]\n",
    "palindrome(n)"
   ]
  },
  {
   "cell_type": "markdown",
   "id": "f7a50b3a-7713-4783-b2a4-4bbfcd885c56",
   "metadata": {},
   "source": [
    "# ASCII values of a Character"
   ]
  },
  {
   "cell_type": "code",
   "execution_count": 8,
   "id": "34f5a5e7-7305-4f17-a8d0-4ec646abaaa9",
   "metadata": {},
   "outputs": [],
   "source": [
    "def ascii_value(n):\n",
    "    return ord(n)"
   ]
  },
  {
   "cell_type": "code",
   "execution_count": 12,
   "id": "ceb53e7b-7344-4d8a-b800-0196a8b9cd1a",
   "metadata": {},
   "outputs": [
    {
     "data": {
      "text/plain": [
       "65"
      ]
     },
     "execution_count": 12,
     "metadata": {},
     "output_type": "execute_result"
    }
   ],
   "source": [
    "ascii_value(\"A\")"
   ]
  },
  {
   "cell_type": "markdown",
   "id": "a2abceef-d558-4d26-bc84-f836dc8a6466",
   "metadata": {},
   "source": [
    "# Remove vowel from string"
   ]
  },
  {
   "cell_type": "code",
   "execution_count": null,
   "id": "38e8b30d-1647-43cd-ab87-f6754305f011",
   "metadata": {},
   "outputs": [],
   "source": [
    "n=input(\"Enter string\"):\n",
    "def remove_vowel(n):\n",
    "    for i in n:\n",
    "        if i=a or i=e or i=i or i=o or i=u:\n",
    "             return null\n",
    "else:"
   ]
  },
  {
   "cell_type": "code",
   "execution_count": null,
   "id": "6a8620b3-c861-4dd1-bfeb-0e3269379d6d",
   "metadata": {},
   "outputs": [],
   "source": []
  },
  {
   "cell_type": "markdown",
   "id": "11655e84-31ee-474c-b29c-be29286c778e",
   "metadata": {},
   "source": [
    "# Remove Spaces from a string"
   ]
  },
  {
   "cell_type": "code",
   "execution_count": 19,
   "id": "fb8a6b4e-0849-4aa3-8f81-3c537b7df6d1",
   "metadata": {},
   "outputs": [],
   "source": [
    "def remove_spaces(n):\n",
    "    return n.replace(\" \",'')"
   ]
  },
  {
   "cell_type": "code",
   "execution_count": 21,
   "id": "6bbc6de2-99cc-4d65-9d4b-0efaf6b03bd3",
   "metadata": {},
   "outputs": [
    {
     "data": {
      "text/plain": [
       "'sagarisgoodboy'"
      ]
     },
     "execution_count": 21,
     "metadata": {},
     "output_type": "execute_result"
    }
   ],
   "source": [
    "remove_spaces(\"sagar is good boy\")"
   ]
  },
  {
   "cell_type": "markdown",
   "id": "01cd0333-a651-4d9c-b2bd-d0d58f570ae7",
   "metadata": {},
   "source": [
    "#  Capitalize First and Last Character of Each Word"
   ]
  },
  {
   "cell_type": "code",
   "execution_count": 25,
   "id": "6ebd746f-1d90-404a-806f-217679579e14",
   "metadata": {},
   "outputs": [],
   "source": [
    "def capitalize_first_last(s):\n",
    "    words = s.split()\n",
    "    result = []\n",
    "    for word in words:\n",
    "        if len(word) == 1:\n",
    "            result.append(word.upper())\n",
    "        else:\n",
    "            result.append(word[0].upper() + word[1:-1] + word[-1].upper())\n",
    "    return ' '.join(result)\n"
   ]
  },
  {
   "cell_type": "code",
   "execution_count": 27,
   "id": "45109d21-a210-4894-a10f-ff0a2332173c",
   "metadata": {},
   "outputs": [
    {
     "data": {
      "text/plain": [
       "'SagaR'"
      ]
     },
     "execution_count": 27,
     "metadata": {},
     "output_type": "execute_result"
    }
   ],
   "source": [
    "capitalize_first_last(\"sagar\")"
   ]
  },
  {
   "cell_type": "markdown",
   "id": "36e2fb3e-cf1d-4f8a-ab72-5e392e6ed9d8",
   "metadata": {},
   "source": [
    "# Smallest and Largest Word in a String"
   ]
  },
  {
   "cell_type": "code",
   "execution_count": 30,
   "id": "60275bf3-87fd-43f1-91af-63f3a5dbea1c",
   "metadata": {},
   "outputs": [],
   "source": [
    "def min_max_word(s):\n",
    "    words = s.split()\n",
    "    smallest = min(words, key=len)\n",
    "    largest = max(words, key=len)\n",
    "    return smallest, largest\n"
   ]
  },
  {
   "cell_type": "code",
   "execution_count": 32,
   "id": "3bf2f250-6be9-484b-8750-f25a4bb41852",
   "metadata": {},
   "outputs": [
    {
     "data": {
      "text/plain": [
       "('sagar', 'sagar')"
      ]
     },
     "execution_count": 32,
     "metadata": {},
     "output_type": "execute_result"
    }
   ],
   "source": [
    "min_max_word(\"sagar\")"
   ]
  },
  {
   "cell_type": "markdown",
   "id": "74829801-020e-4034-b783-cbc6e4da293e",
   "metadata": {},
   "source": [
    " # Convert Characters to Opposite Case"
   ]
  },
  {
   "cell_type": "code",
   "execution_count": 35,
   "id": "a69c7ee4-b4d0-4c49-8216-77b2d6f179fa",
   "metadata": {},
   "outputs": [],
   "source": [
    "def toggle_case(s):\n",
    "    return s.swapcase()\n"
   ]
  },
  {
   "cell_type": "code",
   "execution_count": 37,
   "id": "dbecb787-fade-490b-b40b-d1b38069ab68",
   "metadata": {},
   "outputs": [
    {
     "data": {
      "text/plain": [
       "'SAGAR'"
      ]
     },
     "execution_count": 37,
     "metadata": {},
     "output_type": "execute_result"
    }
   ],
   "source": [
    "toggle_case(\"sagar\")"
   ]
  },
  {
   "cell_type": "markdown",
   "id": "5afe8875-1fb5-406f-8f6d-1ed352a8c284",
   "metadata": {},
   "source": [
    "# Count Words in a String"
   ]
  },
  {
   "cell_type": "code",
   "execution_count": 56,
   "id": "03e0bfe2-cc62-42a8-b808-345a414cd3bc",
   "metadata": {},
   "outputs": [],
   "source": [
    "def count_words(s):\n",
    "    s=s.split()\n",
    "    print(len(s))"
   ]
  },
  {
   "cell_type": "code",
   "execution_count": 58,
   "id": "7ea93cda-a43c-47fc-bfb7-4ccfb5582016",
   "metadata": {},
   "outputs": [
    {
     "name": "stdout",
     "output_type": "stream",
     "text": [
      "1\n"
     ]
    }
   ],
   "source": [
    "count_words(\"sagar\")"
   ]
  },
  {
   "cell_type": "markdown",
   "id": "2fd91756-e908-4f83-a7e1-a6ba54d55a34",
   "metadata": {},
   "source": [
    "# Encrypt the String "
   ]
  },
  {
   "cell_type": "code",
   "execution_count": 61,
   "id": "3c39d7a7-9ab6-41e8-8afd-780c7a9fb871",
   "metadata": {},
   "outputs": [],
   "source": [
    "def encrypt_string(s):\n",
    "    result = ''\n",
    "    for ch in s:\n",
    "        if ch.isalpha():\n",
    "            if ch.islower():\n",
    "                result += chr((ord(ch) - ord('a') + 1) % 26 + ord('a'))\n",
    "            else:\n",
    "                result += chr((ord(ch) - ord('A') + 1) % 26 + ord('A'))\n",
    "        else:\n",
    "            result += ch\n",
    "    return result\n"
   ]
  },
  {
   "cell_type": "code",
   "execution_count": 63,
   "id": "64b08f4f-2601-4808-a3de-51baf0e6a2e5",
   "metadata": {},
   "outputs": [
    {
     "data": {
      "text/plain": [
       "'tbhbs'"
      ]
     },
     "execution_count": 63,
     "metadata": {},
     "output_type": "execute_result"
    }
   ],
   "source": [
    "encrypt_string(\"sagar\")"
   ]
  },
  {
   "cell_type": "markdown",
   "id": "4ba7a5e8-1ee8-4cc6-af60-cb0a779b9b7e",
   "metadata": {},
   "source": [
    "# Count vowels, consonants, digits, special characters in a string"
   ]
  },
  {
   "cell_type": "code",
   "execution_count": 66,
   "id": "a7b46cc8-d46c-455f-bc8d-e3e54bf3249e",
   "metadata": {},
   "outputs": [],
   "source": [
    "def count_char_types(s):\n",
    "    vowels = 'aeiouAEIOU'\n",
    "    v = c = d = sc = 0\n",
    "    for ch in s:\n",
    "        if ch.isdigit():\n",
    "            d += 1\n",
    "        elif ch.isalpha():\n",
    "            if ch in vowels:\n",
    "                v += 1\n",
    "            else:\n",
    "                c += 1\n",
    "        else:\n",
    "            sc += 1\n",
    "    return v, c, d, sc\n"
   ]
  },
  {
   "cell_type": "code",
   "execution_count": 68,
   "id": "9c86d965-e083-48ea-83d7-85b3b952e267",
   "metadata": {},
   "outputs": [
    {
     "data": {
      "text/plain": [
       "(1, 2, 3, 1)"
      ]
     },
     "execution_count": 68,
     "metadata": {},
     "output_type": "execute_result"
    }
   ],
   "source": [
    " count_char_types(\"sag245$\")"
   ]
  },
  {
   "cell_type": "code",
   "execution_count": null,
   "id": "2e39342b-40b0-481a-93b8-e460fb76d4d1",
   "metadata": {},
   "outputs": [],
   "source": []
  }
 ],
 "metadata": {
  "kernelspec": {
   "display_name": "Python [conda env:base] *",
   "language": "python",
   "name": "conda-base-py"
  },
  "language_info": {
   "codemirror_mode": {
    "name": "ipython",
    "version": 3
   },
   "file_extension": ".py",
   "mimetype": "text/x-python",
   "name": "python",
   "nbconvert_exporter": "python",
   "pygments_lexer": "ipython3",
   "version": "3.11.7"
  }
 },
 "nbformat": 4,
 "nbformat_minor": 5
}
