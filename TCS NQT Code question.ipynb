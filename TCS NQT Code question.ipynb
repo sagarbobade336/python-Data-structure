{
 "cells": [
  {
   "cell_type": "code",
   "execution_count": 1,
   "id": "89c6f33f-8fd9-4f51-899d-0696b1f96258",
   "metadata": {},
   "outputs": [],
   "source": [
    "#Given a range [m, n] (both inclusive) where 0 <= m, n <= 10000, find the sum of all integers between m and n.\n",
    "\n",
    "def integer(n,m):\n",
    "    total = 0\n",
    "    for i in range(n,m+1):\n",
    "        total += i\n",
    "    print(total)"
   ]
  },
  {
   "cell_type": "code",
   "execution_count": 3,
   "id": "f8aa985f-d623-4118-82aa-19e1744e540f",
   "metadata": {},
   "outputs": [
    {
     "name": "stdout",
     "output_type": "stream",
     "text": [
      "55\n"
     ]
    }
   ],
   "source": [
    "integer(1,10)"
   ]
  },
  {
   "cell_type": "code",
   "execution_count": 9,
   "id": "51e0a496-eb86-4685-bd00-dc7b26496763",
   "metadata": {},
   "outputs": [],
   "source": [
    "#You are given an array containing N integers where only one element is unique (appears exactly once), while all other elements appear twice.\n",
    "#Find and return the unique element.\n",
    "\n",
    "def unique_no(arr):\n",
    "    result = 0\n",
    "    for num in arr:\n",
    "        result ^= num\n",
    "    print(result)"
   ]
  },
  {
   "cell_type": "code",
   "execution_count": 19,
   "id": "20c500ed-ded0-4ddf-91bb-a3f4cf49ef15",
   "metadata": {},
   "outputs": [
    {
     "name": "stdout",
     "output_type": "stream",
     "text": [
      "2\n"
     ]
    }
   ],
   "source": [
    "unique_no([2,9,9,7,7,6,6])"
   ]
  },
  {
   "cell_type": "code",
   "execution_count": null,
   "id": "ab1ae2e8-333c-463d-aa0b-49a1e92c486f",
   "metadata": {},
   "outputs": [],
   "source": [
    "#You are given three integers P, Q, and R. You can perform the following operation any number of times:\n",
    "#• Select any two numbers and increase both by 1.\n",
    "#• Decrease the third number by 1.\n",
    "#Your task is to determine the minimum number of operations required to make all three numbers equal.\n",
    "\n",
    "def min_operations(p, q, r):\n",
    "    count = 0\n",
    "    while not (p == q == r):\n",
    "        # Put all numbers in a list\n",
    "        nums = [p, q, r]\n",
    "\n",
    "        # Find biggest number and smallest number\n",
    "        big = max(nums)\n",
    "        small = min(nums)\n",
    "\n",
    "        # Find the number which is not biggest or smallest\n",
    "        for n in nums:\n",
    "            if n != big and n != small:\n",
    "                mid = n\n",
    "                break\n",
    "        else:\n",
    "            # If all numbers are not different, pick two smallest\n",
    "            mid = small\n",
    "\n",
    "        # Increase two smaller numbers by 1, decrease biggest by 1\n",
    "        if p == big:\n",
    "            q += 1\n",
    "            r += 1\n",
    "            p -= 1\n",
    "        elif q == big:\n",
    "            p += 1\n",
    "            r += 1\n",
    "            q -= 1\n",
    "        else:\n",
    "            p += 1\n",
    "            q += 1\n",
    "            r -= 1\n",
    "\n",
    "        count += 1  # We did one operation\n",
    "\n",
    "    return count\n"
   ]
  },
  {
   "cell_type": "code",
   "execution_count": null,
   "id": "6695882c-10c3-4c44-b817-a9c69436a1b2",
   "metadata": {},
   "outputs": [],
   "source": [
    "min_operations(5, 7, 9)"
   ]
  },
  {
   "cell_type": "markdown",
   "id": "ccac282d-5bcd-4d3e-9fdc-d0b1d5b166f2",
   "metadata": {},
   "source": [
    "# Sum of Elements in a Given Array"
   ]
  },
  {
   "cell_type": "code",
   "execution_count": 18,
   "id": "562d9b36-7e71-46ab-a96a-80f4e38cb8b5",
   "metadata": {},
   "outputs": [],
   "source": [
    "def add_array(arr):\n",
    "    return sum(arr)  "
   ]
  },
  {
   "cell_type": "code",
   "execution_count": 27,
   "id": "a1c1a230-72e7-4dc1-bc6c-05a6d61e45a8",
   "metadata": {},
   "outputs": [
    {
     "ename": "RecursionError",
     "evalue": "maximum recursion depth exceeded",
     "output_type": "error",
     "traceback": [
      "\u001b[1;31m---------------------------------------------------------------------------\u001b[0m",
      "\u001b[1;31mRecursionError\u001b[0m                            Traceback (most recent call last)",
      "Cell \u001b[1;32mIn[27], line 1\u001b[0m\n\u001b[1;32m----> 1\u001b[0m add_array([\u001b[38;5;241m1\u001b[39m,\u001b[38;5;241m2\u001b[39m,\u001b[38;5;241m3\u001b[39m,\u001b[38;5;241m4\u001b[39m,\u001b[38;5;241m5\u001b[39m,\u001b[38;5;241m6\u001b[39m,\u001b[38;5;241m7\u001b[39m,\u001b[38;5;241m8\u001b[39m,\u001b[38;5;241m9\u001b[39m])\n",
      "Cell \u001b[1;32mIn[18], line 2\u001b[0m, in \u001b[0;36madd_array\u001b[1;34m(arr)\u001b[0m\n\u001b[0;32m      1\u001b[0m \u001b[38;5;28;01mdef\u001b[39;00m \u001b[38;5;21madd_array\u001b[39m(arr):\n\u001b[1;32m----> 2\u001b[0m     \u001b[38;5;28;01mreturn\u001b[39;00m \u001b[38;5;28msum\u001b[39m(arr)\n",
      "Cell \u001b[1;32mIn[6], line 2\u001b[0m, in \u001b[0;36msum\u001b[1;34m(arr)\u001b[0m\n\u001b[0;32m      1\u001b[0m \u001b[38;5;28;01mdef\u001b[39;00m \u001b[38;5;21msum\u001b[39m(arr):\n\u001b[1;32m----> 2\u001b[0m     \u001b[38;5;28;01mreturn\u001b[39;00m \u001b[38;5;28msum\u001b[39m(arr)\n",
      "Cell \u001b[1;32mIn[6], line 2\u001b[0m, in \u001b[0;36msum\u001b[1;34m(arr)\u001b[0m\n\u001b[0;32m      1\u001b[0m \u001b[38;5;28;01mdef\u001b[39;00m \u001b[38;5;21msum\u001b[39m(arr):\n\u001b[1;32m----> 2\u001b[0m     \u001b[38;5;28;01mreturn\u001b[39;00m \u001b[38;5;28msum\u001b[39m(arr)\n",
      "    \u001b[1;31m[... skipping similar frames: sum at line 2 (2969 times)]\u001b[0m\n",
      "Cell \u001b[1;32mIn[6], line 2\u001b[0m, in \u001b[0;36msum\u001b[1;34m(arr)\u001b[0m\n\u001b[0;32m      1\u001b[0m \u001b[38;5;28;01mdef\u001b[39;00m \u001b[38;5;21msum\u001b[39m(arr):\n\u001b[1;32m----> 2\u001b[0m     \u001b[38;5;28;01mreturn\u001b[39;00m \u001b[38;5;28msum\u001b[39m(arr)\n",
      "\u001b[1;31mRecursionError\u001b[0m: maximum recursion depth exceeded"
     ]
    }
   ],
   "source": [
    "add_array([1,2,3,4,5,6,7,8,9])"
   ]
  },
  {
   "cell_type": "markdown",
   "id": "8d7560f8-1415-4dfe-b22a-a6dda7ea6ed4",
   "metadata": {},
   "source": [
    "# Remove Duplicates from a Sorted Array"
   ]
  },
  {
   "cell_type": "code",
   "execution_count": 23,
   "id": "9a814e5e-b76c-4822-88e8-831c6c18ac1a",
   "metadata": {},
   "outputs": [],
   "source": [
    "def remove_duplicate_sort(arr):\n",
    "    return list(dict.fromkeys(arr))"
   ]
  },
  {
   "cell_type": "code",
   "execution_count": 25,
   "id": "efdd07fe-b098-4b6a-be19-5fbd0b397b04",
   "metadata": {},
   "outputs": [
    {
     "data": {
      "text/plain": [
       "[1, 2, 3, 5, 4, 8]"
      ]
     },
     "execution_count": 25,
     "metadata": {},
     "output_type": "execute_result"
    }
   ],
   "source": [
    "remove_duplicate_sort([1,2,3,1,2,5,4,8,5])"
   ]
  },
  {
   "cell_type": "markdown",
   "id": "10bb60cc-c8f2-4891-8ae1-8a129f5fdf97",
   "metadata": {},
   "source": [
    "# Program to Check if an Array is Sorted or Not"
   ]
  },
  {
   "cell_type": "code",
   "execution_count": 30,
   "id": "a32b50bb-577c-4089-a954-ad7a9012de47",
   "metadata": {},
   "outputs": [],
   "source": [
    "def check_array(arr):\n",
    "    return arr == sorted(arr) or arr == sorted(arr,reverse=True)"
   ]
  },
  {
   "cell_type": "code",
   "execution_count": 34,
   "id": "b3e9c961-a979-461b-896b-1d3dd8860f28",
   "metadata": {},
   "outputs": [
    {
     "data": {
      "text/plain": [
       "False"
      ]
     },
     "execution_count": 34,
     "metadata": {},
     "output_type": "execute_result"
    }
   ],
   "source": [
    "check_array([1,2,3,5,4,6,8])"
   ]
  },
  {
   "cell_type": "markdown",
   "id": "6363230c-3c2c-4762-b76e-18d76ae9411a",
   "metadata": {},
   "source": [
    "# Remove Duplicates from an Unsorted Array"
   ]
  },
  {
   "cell_type": "code",
   "execution_count": 37,
   "id": "f1b790ba-7921-4ecb-af13-8cb752edcc61",
   "metadata": {},
   "outputs": [],
   "source": [
    "def remove_duplicate_unsorted(arr):\n",
    "    return list(dict.fromkeys(arr))"
   ]
  },
  {
   "cell_type": "code",
   "execution_count": 39,
   "id": "efeb23a2-a6e5-434e-900b-b55e0f4a93ef",
   "metadata": {},
   "outputs": [
    {
     "data": {
      "text/plain": [
       "[1, 2, 5, 8, 9, 7]"
      ]
     },
     "execution_count": 39,
     "metadata": {},
     "output_type": "execute_result"
    }
   ],
   "source": [
    "remove_duplicate_unsorted([1,2,5,8,9,9,7,7])"
   ]
  },
  {
   "cell_type": "markdown",
   "id": "ef58c551-0d6a-49fa-a1f6-26ced8c05041",
   "metadata": {},
   "source": [
    "#  Average of an Array"
   ]
  },
  {
   "cell_type": "code",
   "execution_count": 48,
   "id": "465b59d8-d48c-4d5c-a69d-b112ec665a48",
   "metadata": {},
   "outputs": [],
   "source": [
    "def average_iterative(arr):\n",
    "    return sum(arr) / len(arr)"
   ]
  },
  {
   "cell_type": "code",
   "execution_count": 50,
   "id": "60aea7d0-70c0-4859-a44c-9fa6ff6af8bd",
   "metadata": {},
   "outputs": [
    {
     "ename": "RecursionError",
     "evalue": "maximum recursion depth exceeded",
     "output_type": "error",
     "traceback": [
      "\u001b[1;31m---------------------------------------------------------------------------\u001b[0m",
      "\u001b[1;31mRecursionError\u001b[0m                            Traceback (most recent call last)",
      "Cell \u001b[1;32mIn[50], line 1\u001b[0m\n\u001b[1;32m----> 1\u001b[0m average_iterative([\u001b[38;5;241m1\u001b[39m,\u001b[38;5;241m8\u001b[39m,\u001b[38;5;241m9\u001b[39m,\u001b[38;5;241m7\u001b[39m,\u001b[38;5;241m3\u001b[39m,\u001b[38;5;241m5\u001b[39m,\u001b[38;5;241m4\u001b[39m,\u001b[38;5;241m6\u001b[39m])\n",
      "Cell \u001b[1;32mIn[48], line 2\u001b[0m, in \u001b[0;36maverage_iterative\u001b[1;34m(arr)\u001b[0m\n\u001b[0;32m      1\u001b[0m \u001b[38;5;28;01mdef\u001b[39;00m \u001b[38;5;21maverage_iterative\u001b[39m(arr):\n\u001b[1;32m----> 2\u001b[0m     \u001b[38;5;28;01mreturn\u001b[39;00m \u001b[38;5;28msum\u001b[39m(arr) \u001b[38;5;241m/\u001b[39m \u001b[38;5;28mlen\u001b[39m(arr)\n",
      "Cell \u001b[1;32mIn[6], line 2\u001b[0m, in \u001b[0;36msum\u001b[1;34m(arr)\u001b[0m\n\u001b[0;32m      1\u001b[0m \u001b[38;5;28;01mdef\u001b[39;00m \u001b[38;5;21msum\u001b[39m(arr):\n\u001b[1;32m----> 2\u001b[0m     \u001b[38;5;28;01mreturn\u001b[39;00m \u001b[38;5;28msum\u001b[39m(arr)\n",
      "Cell \u001b[1;32mIn[6], line 2\u001b[0m, in \u001b[0;36msum\u001b[1;34m(arr)\u001b[0m\n\u001b[0;32m      1\u001b[0m \u001b[38;5;28;01mdef\u001b[39;00m \u001b[38;5;21msum\u001b[39m(arr):\n\u001b[1;32m----> 2\u001b[0m     \u001b[38;5;28;01mreturn\u001b[39;00m \u001b[38;5;28msum\u001b[39m(arr)\n",
      "    \u001b[1;31m[... skipping similar frames: sum at line 2 (2969 times)]\u001b[0m\n",
      "Cell \u001b[1;32mIn[6], line 2\u001b[0m, in \u001b[0;36msum\u001b[1;34m(arr)\u001b[0m\n\u001b[0;32m      1\u001b[0m \u001b[38;5;28;01mdef\u001b[39;00m \u001b[38;5;21msum\u001b[39m(arr):\n\u001b[1;32m----> 2\u001b[0m     \u001b[38;5;28;01mreturn\u001b[39;00m \u001b[38;5;28msum\u001b[39m(arr)\n",
      "\u001b[1;31mRecursionError\u001b[0m: maximum recursion depth exceeded"
     ]
    }
   ],
   "source": [
    "average_iterative([1,8,9,7,3,5,4,6])"
   ]
  },
  {
   "cell_type": "markdown",
   "id": "be929bbd-b81a-410e-9cd7-4ef036c98c19",
   "metadata": {},
   "source": [
    "# Add an Element to an Array"
   ]
  },
  {
   "cell_type": "code",
   "execution_count": 53,
   "id": "19eaf4f1-52ea-4930-9e08-063e8fc1474a",
   "metadata": {},
   "outputs": [],
   "source": [
    "def add_element(arr,element):\n",
    "    arr.append(element)\n",
    "    print(arr)"
   ]
  },
  {
   "cell_type": "code",
   "execution_count": 55,
   "id": "d88103b6-c6fd-4040-bb12-b35011c15cba",
   "metadata": {},
   "outputs": [
    {
     "name": "stdout",
     "output_type": "stream",
     "text": [
      "[1, 2, 330, 100]\n"
     ]
    }
   ],
   "source": [
    "add_element([1,2,330],100)"
   ]
  },
  {
   "cell_type": "code",
   "execution_count": null,
   "id": "e018d8f9-75e0-466d-9970-8169fa8de55c",
   "metadata": {},
   "outputs": [],
   "source": []
  }
 ],
 "metadata": {
  "kernelspec": {
   "display_name": "Python [conda env:base] *",
   "language": "python",
   "name": "conda-base-py"
  },
  "language_info": {
   "codemirror_mode": {
    "name": "ipython",
    "version": 3
   },
   "file_extension": ".py",
   "mimetype": "text/x-python",
   "name": "python",
   "nbconvert_exporter": "python",
   "pygments_lexer": "ipython3",
   "version": "3.11.7"
  }
 },
 "nbformat": 4,
 "nbformat_minor": 5
}
