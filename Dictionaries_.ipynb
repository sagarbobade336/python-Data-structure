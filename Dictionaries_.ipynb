{
  "nbformat": 4,
  "nbformat_minor": 0,
  "metadata": {
    "colab": {
      "provenance": []
    },
    "kernelspec": {
      "name": "python3",
      "display_name": "Python 3"
    },
    "language_info": {
      "name": "python"
    }
  },
  "cells": [
    {
      "cell_type": "markdown",
      "source": [
        "# Mastering Dictionaries in Python"
      ],
      "metadata": {
        "id": "q2apIir62q5n"
      }
    },
    {
      "cell_type": "markdown",
      "source": [
        "**What is a Dictionary?**\n",
        "\n",
        "In Python, a dictionary is an unordered collection of data that stores elements as key-value pairs.\n",
        "Think of it like a real-world dictionary where you look up a word (key) to find its definition (value).\n",
        "\n",
        "**Key Characteristics:**\n",
        "\n",
        "* **Keys:**\n",
        "    * Unique and immutable (usually strings or numbers).\n",
        "    * Used to access the corresponding value.\n",
        "* **Values:**\n",
        "    * Can be of any data type (numbers, strings, lists, other dictionaries, etc.)."
      ],
      "metadata": {
        "id": "UzpbNNPmJplx"
      }
    },
    {
      "cell_type": "code",
      "source": [
        "#Dictionaries are written with curly brackets, and have keys and values:\n",
        "l={\"cars\":\"BMW\",\n",
        "   \"bike\":\"shine\",\n",
        "   \"food\":\"omlatte\"}\n",
        "print(l)\n",
        "# Using the dict() constructor\n",
        "p=dict(breakfast=\"poha\",lunch=\"daal bhat\",Dinner=\"Cadbury\")\n",
        "print(p)"
      ],
      "metadata": {
        "colab": {
          "base_uri": "https://localhost:8080/"
        },
        "id": "rBZipKGsCupF",
        "outputId": "90f73ab6-96ae-4fcd-beab-1bf747f34ef4"
      },
      "execution_count": null,
      "outputs": [
        {
          "output_type": "stream",
          "name": "stdout",
          "text": [
            "{'cars': 'BMW', 'bike': 'shine', 'food': 'omlatte'}\n",
            "{'breakfast': 'poha', 'lunch': 'daal bhat', 'dinner': 'Cadbury'}\n"
          ]
        }
      ]
    },
    {
      "cell_type": "markdown",
      "source": [
        "##Accessing Values:\n",
        "\n",
        "You can access the value associated with a key using square brackets [ ]:"
      ],
      "metadata": {
        "id": "5FY1TifiK0-p"
      }
    },
    {
      "cell_type": "code",
      "source": [
        "#Access values by key\n",
        "l[\"cars\"]"
      ],
      "metadata": {
        "colab": {
          "base_uri": "https://localhost:8080/",
          "height": 35
        },
        "id": "GTGnwR9PD64Y",
        "outputId": "fdd416bc-7dcd-4f9e-889f-0b23838708aa"
      },
      "execution_count": null,
      "outputs": [
        {
          "output_type": "execute_result",
          "data": {
            "text/plain": [
              "'BMW'"
            ],
            "application/vnd.google.colaboratory.intrinsic+json": {
              "type": "string"
            }
          },
          "metadata": {},
          "execution_count": 2
        }
      ]
    },
    {
      "cell_type": "markdown",
      "source": [
        "##Adding or Modifying Values:\n",
        "\n",
        "Add a new key-value pair:"
      ],
      "metadata": {
        "id": "i6urup5WLA_Z"
      }
    },
    {
      "cell_type": "code",
      "source": [
        "p[\"breakfast\"]= \"dosa\"\n",
        "print(p)"
      ],
      "metadata": {
        "colab": {
          "base_uri": "https://localhost:8080/"
        },
        "id": "VFkMUbWqH45q",
        "outputId": "21f160c1-1c40-4a65-fab4-80133a3eb339"
      },
      "execution_count": null,
      "outputs": [
        {
          "output_type": "stream",
          "name": "stdout",
          "text": [
            "{'breakfast': 'dosa', 'lunch': 'daal bhat', 'dinner': 'Cadbury'}\n"
          ]
        }
      ]
    },
    {
      "cell_type": "markdown",
      "source": [
        "## Removing Values:\n",
        "\n",
        "Remove a key-value pair:"
      ],
      "metadata": {
        "id": "fsyOBPGcLPBV"
      }
    },
    {
      "cell_type": "code",
      "source": [
        "del p[\"breakfast\"]\n",
        "print(p)"
      ],
      "metadata": {
        "colab": {
          "base_uri": "https://localhost:8080/"
        },
        "id": "0NS1UnGjIy8H",
        "outputId": "2fa03d2f-421d-458a-a534-79bf5226d4dc"
      },
      "execution_count": null,
      "outputs": [
        {
          "output_type": "stream",
          "name": "stdout",
          "text": [
            "{'lunch': 'daal bhat', 'dinner': 'Cadbury'}\n"
          ]
        }
      ]
    },
    {
      "cell_type": "markdown",
      "source": [
        "Remove and return the value:"
      ],
      "metadata": {
        "id": "wp8VOrnSLbVl"
      }
    },
    {
      "cell_type": "code",
      "source": [
        "a=p.pop(\"lunch\")\n",
        "print(a)"
      ],
      "metadata": {
        "colab": {
          "base_uri": "https://localhost:8080/"
        },
        "id": "FSQrHn-GJOYV",
        "outputId": "62a8c887-5267-4661-9634-a6f4d536835c"
      },
      "execution_count": null,
      "outputs": [
        {
          "output_type": "stream",
          "name": "stdout",
          "text": [
            "daal bhat\n"
          ]
        }
      ]
    },
    {
      "cell_type": "markdown",
      "source": [
        "**Key Methods:**\n",
        "\n",
        "* **keys():** Returns a view of all keys in the dictionary.\n",
        "* **values():** Returns a view of all values in the dictionary.\n",
        "* **items():** Returns a view of key-value pairs as tuples.\n",
        "* **get(key, default):** Returns the value for the key. If the key is not found, it returns the default value (optional)."
      ],
      "metadata": {
        "id": "VZg-yl6jMEe2"
      }
    },
    {
      "cell_type": "code",
      "source": [
        "dir(a)"
      ],
      "metadata": {
        "colab": {
          "base_uri": "https://localhost:8080/"
        },
        "id": "buejZJB4FrrM",
        "outputId": "5d30b813-a80f-4d39-8600-f00e4bee1d87"
      },
      "execution_count": null,
      "outputs": [
        {
          "output_type": "execute_result",
          "data": {
            "text/plain": [
              "['__class__',\n",
              " '__class_getitem__',\n",
              " '__contains__',\n",
              " '__delattr__',\n",
              " '__delitem__',\n",
              " '__dir__',\n",
              " '__doc__',\n",
              " '__eq__',\n",
              " '__format__',\n",
              " '__ge__',\n",
              " '__getattribute__',\n",
              " '__getitem__',\n",
              " '__getstate__',\n",
              " '__gt__',\n",
              " '__hash__',\n",
              " '__init__',\n",
              " '__init_subclass__',\n",
              " '__ior__',\n",
              " '__iter__',\n",
              " '__le__',\n",
              " '__len__',\n",
              " '__lt__',\n",
              " '__ne__',\n",
              " '__new__',\n",
              " '__or__',\n",
              " '__reduce__',\n",
              " '__reduce_ex__',\n",
              " '__repr__',\n",
              " '__reversed__',\n",
              " '__ror__',\n",
              " '__setattr__',\n",
              " '__setitem__',\n",
              " '__sizeof__',\n",
              " '__str__',\n",
              " '__subclasshook__',\n",
              " 'clear',\n",
              " 'copy',\n",
              " 'fromkeys',\n",
              " 'get',\n",
              " 'items',\n",
              " 'keys',\n",
              " 'pop',\n",
              " 'popitem',\n",
              " 'setdefault',\n",
              " 'update',\n",
              " 'values']"
            ]
          },
          "metadata": {},
          "execution_count": 2
        }
      ]
    },
    {
      "cell_type": "code",
      "source": [
        "len(a)"
      ],
      "metadata": {
        "colab": {
          "base_uri": "https://localhost:8080/"
        },
        "id": "Q3Giq7MqFyo6",
        "outputId": "4f52f55c-1d15-4387-95d7-4eba07b6da2a"
      },
      "execution_count": null,
      "outputs": [
        {
          "output_type": "execute_result",
          "data": {
            "text/plain": [
              "2"
            ]
          },
          "metadata": {},
          "execution_count": 3
        }
      ]
    },
    {
      "cell_type": "code",
      "source": [
        "import requests"
      ],
      "metadata": {
        "id": "IXiBfck-Pas-"
      },
      "execution_count": null,
      "outputs": []
    },
    {
      "cell_type": "code",
      "source": [
        "api_key = \"274bdecaed5fc5dbb5e63a15905b17ad\"  # Replace with your API key\n",
        "city = 'Phaltan'\n",
        "url = f\"https://api.openweathermap.org/data/2.5/weather?q={city}&appid={api_key}&units=metric\"\n",
        "\n",
        "response = requests.get(url)\n",
        "response.raise_for_status()  # Raise an exception for error status codes\n",
        "data = response.json()"
      ],
      "metadata": {
        "id": "FJykBb6rF8TH"
      },
      "execution_count": null,
      "outputs": []
    },
    {
      "cell_type": "code",
      "source": [
        "data"
      ],
      "metadata": {
        "colab": {
          "base_uri": "https://localhost:8080/"
        },
        "id": "HUsXdLpDPhjx",
        "outputId": "e336ea9e-ab94-4e17-ddee-3e79627c6eb7"
      },
      "execution_count": null,
      "outputs": [
        {
          "output_type": "execute_result",
          "data": {
            "text/plain": [
              "{'coord': {'lon': 74.4333, 'lat': 17.9833},\n",
              " 'weather': [{'id': 800,\n",
              "   'main': 'Clear',\n",
              "   'description': 'clear sky',\n",
              "   'icon': '01d'}],\n",
              " 'base': 'stations',\n",
              " 'main': {'temp': 37.53,\n",
              "  'feels_like': 34.82,\n",
              "  'temp_min': 37.53,\n",
              "  'temp_max': 37.53,\n",
              "  'pressure': 1010,\n",
              "  'humidity': 12,\n",
              "  'sea_level': 1010,\n",
              "  'grnd_level': 942},\n",
              " 'visibility': 10000,\n",
              " 'wind': {'speed': 4.41, 'deg': 16, 'gust': 5.3},\n",
              " 'clouds': {'all': 2},\n",
              " 'dt': 1746167156,\n",
              " 'sys': {'country': 'IN', 'sunrise': 1746146104, 'sunset': 1746192198},\n",
              " 'timezone': 19800,\n",
              " 'id': 1259811,\n",
              " 'name': 'Phaltan',\n",
              " 'cod': 200}"
            ]
          },
          "metadata": {},
          "execution_count": 12
        }
      ]
    },
    {
      "cell_type": "code",
      "source": [
        "data.keys()"
      ],
      "metadata": {
        "colab": {
          "base_uri": "https://localhost:8080/"
        },
        "id": "giILOLbBQaWS",
        "outputId": "0f18b850-1997-4bc9-cd6e-a2d871e91f2a"
      },
      "execution_count": null,
      "outputs": [
        {
          "output_type": "execute_result",
          "data": {
            "text/plain": [
              "dict_keys(['coord', 'weather', 'base', 'main', 'visibility', 'wind', 'clouds', 'dt', 'sys', 'timezone', 'id', 'name', 'cod'])"
            ]
          },
          "metadata": {},
          "execution_count": 8
        }
      ]
    },
    {
      "cell_type": "code",
      "source": [
        "data[\"id\"]"
      ],
      "metadata": {
        "colab": {
          "base_uri": "https://localhost:8080/"
        },
        "id": "Hm4-aGiIQkxW",
        "outputId": "8c473d59-bb09-48db-8e14-66c14ee6b6ba"
      },
      "execution_count": null,
      "outputs": [
        {
          "output_type": "execute_result",
          "data": {
            "text/plain": [
              "1259811"
            ]
          },
          "metadata": {},
          "execution_count": 11
        }
      ]
    },
    {
      "cell_type": "code",
      "source": [
        "data[\"wind\"]"
      ],
      "metadata": {
        "colab": {
          "base_uri": "https://localhost:8080/"
        },
        "id": "MB_iqX-JSNrl",
        "outputId": "003f0a41-9e36-46f2-f265-d75dd0c03de7"
      },
      "execution_count": null,
      "outputs": [
        {
          "output_type": "execute_result",
          "data": {
            "text/plain": [
              "{'speed': 0.91, 'deg': 351, 'gust': 1.42}"
            ]
          },
          "metadata": {},
          "execution_count": 16
        }
      ]
    },
    {
      "cell_type": "markdown",
      "source": [],
      "metadata": {
        "id": "W2_M1chQS-Wx"
      }
    },
    {
      "cell_type": "code",
      "source": [
        "data[\"coord\"]"
      ],
      "metadata": {
        "colab": {
          "base_uri": "https://localhost:8080/"
        },
        "id": "5-0dng3pT9uq",
        "outputId": "0bc51efe-6bb5-42ff-8881-1e47127053f1"
      },
      "execution_count": null,
      "outputs": [
        {
          "output_type": "execute_result",
          "data": {
            "text/plain": [
              "{'lon': 74.4333, 'lat': 17.9833}"
            ]
          },
          "metadata": {},
          "execution_count": 22
        }
      ]
    },
    {
      "cell_type": "code",
      "source": [
        "print(f\"phaltan che coodinate {data['coord']['lat']},{data['coord']['lon']} \")"
      ],
      "metadata": {
        "colab": {
          "base_uri": "https://localhost:8080/"
        },
        "id": "iBR1PrqvRJUI",
        "outputId": "10b32c38-68d2-4c8d-8d63-8b87aac4e44f"
      },
      "execution_count": null,
      "outputs": [
        {
          "output_type": "stream",
          "name": "stdout",
          "text": [
            "phaltan che coodinate 17.9833,74.4333\n"
          ]
        }
      ]
    },
    {
      "cell_type": "code",
      "source": [
        "print(f\"phaltan{data['wind']}\")"
      ],
      "metadata": {
        "colab": {
          "base_uri": "https://localhost:8080/"
        },
        "id": "wSzT8BxAR74S",
        "outputId": "b2d78dab-5c36-4271-c956-62ad3e06a0dc"
      },
      "execution_count": null,
      "outputs": [
        {
          "output_type": "stream",
          "name": "stdout",
          "text": [
            "phaltan{'speed': 0.91, 'deg': 351, 'gust': 1.42}\n"
          ]
        }
      ]
    },
    {
      "cell_type": "code",
      "source": [
        "\n",
        "api_key = \"274bdecaed5fc5dbb5e63a15905b17ad\"  # Replace with your API key\n",
        "city = \"Mumbai\"\n",
        "url = f\"https://api.openweathermap.org/data/2.5/weather?q={city}&appid={api_key}&units=metric\"\n",
        "\n",
        "response = requests.get(url)\n",
        "response.raise_for_status()  # Raise an exception for error status codes\n",
        "data = response.json()\n"
      ],
      "metadata": {
        "id": "w9FoLWbLToL4"
      },
      "execution_count": null,
      "outputs": []
    },
    {
      "cell_type": "code",
      "source": [
        "data"
      ],
      "metadata": {
        "colab": {
          "base_uri": "https://localhost:8080/"
        },
        "id": "mO9YsiEsMyF8",
        "outputId": "a7ea2375-b97c-423c-950b-3d27b88dcdcd"
      },
      "execution_count": null,
      "outputs": [
        {
          "output_type": "execute_result",
          "data": {
            "text/plain": [
              "{'coord': {'lon': 72.8479, 'lat': 19.0144},\n",
              " 'weather': [{'id': 701,\n",
              "   'main': 'Mist',\n",
              "   'description': 'mist',\n",
              "   'icon': '50n'}],\n",
              " 'base': 'stations',\n",
              " 'main': {'temp': 28.99,\n",
              "  'feels_like': 34.5,\n",
              "  'temp_min': 28.99,\n",
              "  'temp_max': 28.99,\n",
              "  'pressure': 1012,\n",
              "  'humidity': 79,\n",
              "  'sea_level': 1012,\n",
              "  'grnd_level': 1011},\n",
              " 'visibility': 3000,\n",
              " 'wind': {'speed': 2.06, 'deg': 290},\n",
              " 'clouds': {'all': 40},\n",
              " 'dt': 1743692982,\n",
              " 'sys': {'type': 1,\n",
              "  'id': 9052,\n",
              "  'country': 'IN',\n",
              "  'sunrise': 1743642053,\n",
              "  'sunset': 1743686556},\n",
              " 'timezone': 19800,\n",
              " 'id': 1275339,\n",
              " 'name': 'Mumbai',\n",
              " 'cod': 200}"
            ]
          },
          "metadata": {},
          "execution_count": 14
        }
      ]
    },
    {
      "cell_type": "code",
      "source": [
        "data[\"id\"]"
      ],
      "metadata": {
        "colab": {
          "base_uri": "https://localhost:8080/"
        },
        "id": "ccLZlzkrNov_",
        "outputId": "f8217bec-d196-44b1-dac2-d7cde2ea6f0f"
      },
      "execution_count": null,
      "outputs": [
        {
          "output_type": "execute_result",
          "data": {
            "text/plain": [
              "1275339"
            ]
          },
          "metadata": {},
          "execution_count": 15
        }
      ]
    },
    {
      "cell_type": "code",
      "source": [],
      "metadata": {
        "id": "DdFGK8kSN5tK"
      },
      "execution_count": null,
      "outputs": []
    },
    {
      "cell_type": "markdown",
      "source": [
        "# Dictionary Homework Questions 🏠💪🏼\n",
        "\n",
        "**1. Basic Dictionary Manipulation**\n",
        "\n",
        "*   **Create a dictionary:**\n",
        "    *   `student = {'name': 'Alice', 'age': 25, 'grades': [90, 85, 92]}`\n",
        "*   **Access and print:**\n",
        "        *   Print the student's name.\n",
        "        *   Print the student's age.\n",
        "        *   Print the student's first grade.\n",
        "*   **Add a new key-value pair:**\n",
        "        *   Add a key 'major' with the value 'Computer Science'.\n",
        "*   **Modify an existing value:**\n",
        "        *   Change the student's age to 26.\n",
        "*   **Remove a key-value pair:**\n",
        "        *   Remove the 'grades' key and its associated value.\n",
        "\n",
        "**2. Dictionary Iteration**\n",
        "\n",
        "*   **Iterate through keys:**\n",
        "        *   Print all the keys in the dictionary.\n",
        "*   **Iterate through values:**\n",
        "        *   Print all the values in the dictionary.\n",
        "*   **Iterate through key-value pairs:**\n",
        "        *   Print each key-value pair in the format: \"Key: <key>, Value: <value>\"\n",
        "\n",
        "**3. Dictionary Methods**\n",
        "\n",
        "*   **`keys()`:** Print the keys of the dictionary.\n",
        "*   **`values()`:** Print the values of the dictionary.\n",
        "*   **`items()`:** Print the key-value pairs as tuples.\n",
        "*   **`get()`:**\n",
        "        *   Get the value for the key 'age'.\n",
        "        *   Get the value for a key that might not exist, using the `get()` method with a default value.\n",
        "\n",
        "**4. Dictionary Comprehension**\n",
        "\n",
        "*   Create a new dictionary that squares the values of the following dictionary:\n",
        "    *   `numbers = {1: 1, 2: 4, 3: 9}`\n",
        "\n",
        "**5. Filtering a Dictionary**\n",
        "\n",
        "*   Given a dictionary of student names and their scores, create a new dictionary containing only students who scored above 90.\n",
        "\n",
        "**6. Combining Dictionaries**\n",
        "\n",
        "*   Given two dictionaries, create a new dictionary that combines the key-value pairs from both. If a key exists in both dictionaries, use the value from the first dictionary.\n",
        "\n",
        "**7. Word Frequency**\n",
        "\n",
        "*   Write a program that takes a sentence as input and creates a dictionary where the keys are the words in the sentence and the values are the number of times each word appears.\n",
        "\n",
        "**Remember to:**\n",
        "\n",
        "*   Use meaningful variable names.\n",
        "*   Write clear and concise code.\n",
        "*   Add comments to explain your code."
      ],
      "metadata": {
        "id": "Q8DV20gkNcMW"
      }
    },
    {
      "cell_type": "code",
      "source": [
        "#Create a dictionary\n",
        "student = {'name': 'Alice', 'age': 25, 'grades': [90, 85, 92]}\n",
        "print(student)"
      ],
      "metadata": {
        "colab": {
          "base_uri": "https://localhost:8080/"
        },
        "id": "zd5Ca4dxzX-q",
        "outputId": "94d167df-d929-4a6b-d737-2ff8caaeea3e"
      },
      "execution_count": null,
      "outputs": [
        {
          "output_type": "stream",
          "name": "stdout",
          "text": [
            "{'name': 'Alice', 'age': 25, 'grades': [90, 85, 92]}\n"
          ]
        }
      ]
    },
    {
      "cell_type": "code",
      "source": [
        "student[\"name\"]"
      ],
      "metadata": {
        "colab": {
          "base_uri": "https://localhost:8080/",
          "height": 35
        },
        "id": "u02tjqjfziRa",
        "outputId": "7ebc0f94-fc41-43d0-f1a4-6bd059af6f46"
      },
      "execution_count": null,
      "outputs": [
        {
          "output_type": "execute_result",
          "data": {
            "text/plain": [
              "'Alice'"
            ],
            "application/vnd.google.colaboratory.intrinsic+json": {
              "type": "string"
            }
          },
          "metadata": {},
          "execution_count": 3
        }
      ]
    },
    {
      "cell_type": "code",
      "source": [
        "student[\"age\"]"
      ],
      "metadata": {
        "colab": {
          "base_uri": "https://localhost:8080/"
        },
        "id": "BD6qwFzD0GBs",
        "outputId": "04ed220e-0232-4d36-c6f8-f540b7c4eda8"
      },
      "execution_count": null,
      "outputs": [
        {
          "output_type": "execute_result",
          "data": {
            "text/plain": [
              "25"
            ]
          },
          "metadata": {},
          "execution_count": 4
        }
      ]
    },
    {
      "cell_type": "code",
      "source": [
        "student[\"grades\"][0]"
      ],
      "metadata": {
        "colab": {
          "base_uri": "https://localhost:8080/"
        },
        "id": "9F-TmjtV0NZm",
        "outputId": "10699614-20b3-42be-851b-30014e7aca24"
      },
      "execution_count": null,
      "outputs": [
        {
          "output_type": "execute_result",
          "data": {
            "text/plain": [
              "90"
            ]
          },
          "metadata": {},
          "execution_count": 5
        }
      ]
    },
    {
      "cell_type": "code",
      "source": [
        "del student[\"grades\"]\n",
        "print(student)"
      ],
      "metadata": {
        "colab": {
          "base_uri": "https://localhost:8080/"
        },
        "id": "Pt_UBTUw0WPb",
        "outputId": "e9d791b9-e8e1-43da-c912-fa1dc860ab81"
      },
      "execution_count": null,
      "outputs": [
        {
          "output_type": "stream",
          "name": "stdout",
          "text": [
            "{'name': 'Alice', 'age': 25}\n"
          ]
        }
      ]
    },
    {
      "cell_type": "code",
      "source": [
        "student.keys()"
      ],
      "metadata": {
        "colab": {
          "base_uri": "https://localhost:8080/"
        },
        "id": "f8BJAuGI0qIy",
        "outputId": "f2f913ae-d513-490f-8495-0acb04b05afa"
      },
      "execution_count": null,
      "outputs": [
        {
          "output_type": "execute_result",
          "data": {
            "text/plain": [
              "dict_keys(['name', 'age'])"
            ]
          },
          "metadata": {},
          "execution_count": 7
        }
      ]
    },
    {
      "cell_type": "code",
      "source": [
        "student.values()"
      ],
      "metadata": {
        "colab": {
          "base_uri": "https://localhost:8080/"
        },
        "id": "R2PdXL4z0yC7",
        "outputId": "814bca29-33d8-4c20-84f6-35a8c7859c4f"
      },
      "execution_count": null,
      "outputs": [
        {
          "output_type": "execute_result",
          "data": {
            "text/plain": [
              "dict_values(['Alice', 25])"
            ]
          },
          "metadata": {},
          "execution_count": 8
        }
      ]
    },
    {
      "cell_type": "code",
      "source": [
        "student[\"major\"]=\"computer science\"\n",
        "print(student)"
      ],
      "metadata": {
        "colab": {
          "base_uri": "https://localhost:8080/"
        },
        "id": "PqrXrTpU01pg",
        "outputId": "11826a01-1adf-4684-878c-818db465088d"
      },
      "execution_count": null,
      "outputs": [
        {
          "output_type": "stream",
          "name": "stdout",
          "text": [
            "{'name': 'Alice', 'age': 25, 'major': 'computer science'}\n"
          ]
        }
      ]
    },
    {
      "cell_type": "code",
      "source": [
        "student.values()"
      ],
      "metadata": {
        "colab": {
          "base_uri": "https://localhost:8080/"
        },
        "id": "P7U4hb071Vcl",
        "outputId": "2ce999fe-ada7-4668-fb4d-68e8b244080e"
      },
      "execution_count": null,
      "outputs": [
        {
          "output_type": "execute_result",
          "data": {
            "text/plain": [
              "dict_values(['Alice', 25, 'computer science'])"
            ]
          },
          "metadata": {},
          "execution_count": 10
        }
      ]
    },
    {
      "cell_type": "code",
      "source": [
        "student.keys()"
      ],
      "metadata": {
        "colab": {
          "base_uri": "https://localhost:8080/"
        },
        "id": "SC2399o61f8w",
        "outputId": "4e253590-4bf1-428d-e708-ca0af3c85e64"
      },
      "execution_count": null,
      "outputs": [
        {
          "output_type": "execute_result",
          "data": {
            "text/plain": [
              "dict_keys(['name', 'age', 'major'])"
            ]
          },
          "metadata": {},
          "execution_count": 12
        }
      ]
    },
    {
      "cell_type": "code",
      "source": [
        "for key,values in student.items():\n",
        "    print(key,values)"
      ],
      "metadata": {
        "colab": {
          "base_uri": "https://localhost:8080/"
        },
        "id": "X8MCFaD51i-I",
        "outputId": "0a30b138-6a12-4a69-8642-b17f7026924a"
      },
      "execution_count": null,
      "outputs": [
        {
          "output_type": "stream",
          "name": "stdout",
          "text": [
            "name Alice\n",
            "age 25\n",
            "major computer science\n"
          ]
        }
      ]
    },
    {
      "cell_type": "code",
      "source": [
        "x=input(\"enter any word\")\n",
        "x={\"child1\" : {\n",
        "    \"name\" : \"Emil\",\n",
        "    \"year\" : 2004}\n",
        "  ,\n",
        "  \"child2\" : {\n",
        "    \"name\" : \"Tobias\",\n",
        "    \"year\" : 2007\n",
        "  },\n",
        "  \"child3\" : {\n",
        "    \"name\" : \"Linus\",\n",
        "    \"year\" : 2011\n",
        "  }}\n",
        "for i in x:\n",
        "  print(f\"information of student{x}\",i)"
      ],
      "metadata": {
        "colab": {
          "base_uri": "https://localhost:8080/"
        },
        "id": "ldc5VVWp2pYe",
        "outputId": "3014166a-dcfc-4f21-d9f9-775fd514db3d"
      },
      "execution_count": null,
      "outputs": [
        {
          "output_type": "stream",
          "name": "stdout",
          "text": [
            "enter any wordchild1\n",
            "information of student{'child1': {'name': 'Emil', 'year': 2004}, 'child2': {'name': 'Tobias', 'year': 2007}, 'child3': {'name': 'Linus', 'year': 2011}} child1\n",
            "information of student{'child1': {'name': 'Emil', 'year': 2004}, 'child2': {'name': 'Tobias', 'year': 2007}, 'child3': {'name': 'Linus', 'year': 2011}} child2\n",
            "information of student{'child1': {'name': 'Emil', 'year': 2004}, 'child2': {'name': 'Tobias', 'year': 2007}, 'child3': {'name': 'Linus', 'year': 2011}} child3\n"
          ]
        }
      ]
    },
    {
      "cell_type": "code",
      "source": [
        "#Write a program to check if a given key exists in the dictionary\n",
        "student = {'name': 'Alice', 'age': 25, 'grades': [90, 85, 92]}\n",
        "s\n",
        "for i in key:\n",
        "  print(f\"the key {key} is present in the dictionary\",i)\n",
        "else:\n",
        "  print(f\"the key {key} is not present in the dictionary\")"
      ],
      "metadata": {
        "colab": {
          "base_uri": "https://localhost:8080/"
        },
        "id": "87iRmQ4A7QNN",
        "outputId": "4945f609-2520-43b0-e32b-d75da1c6511b"
      },
      "execution_count": null,
      "outputs": [
        {
          "output_type": "stream",
          "name": "stdout",
          "text": [
            "the key age is present in the dictionary a\n",
            "the key age is present in the dictionary g\n",
            "the key age is present in the dictionary e\n",
            "the key age is not present in the dictionary\n"
          ]
        }
      ]
    },
    {
      "cell_type": "code",
      "source": [
        "# make a dict on subject and marks\n",
        "subject={\"maths\":25,\"Science\":35,\"history\":45,\"Marathi\":55}\n",
        "print(type(subject),subject)"
      ],
      "metadata": {
        "id": "stPzYugz9gR7",
        "colab": {
          "base_uri": "https://localhost:8080/"
        },
        "outputId": "56b7bd41-f738-4523-f8da-815970f328f7"
      },
      "execution_count": null,
      "outputs": [
        {
          "output_type": "stream",
          "name": "stdout",
          "text": [
            "<class 'dict'> {'maths': 25, 'Science': 35, 'history': 45, 'Marathi': 55}\n"
          ]
        }
      ]
    },
    {
      "cell_type": "code",
      "source": [
        "#find total marks\n",
        "total=sum(subject.values())\n",
        "print(total)\n"
      ],
      "metadata": {
        "colab": {
          "base_uri": "https://localhost:8080/"
        },
        "id": "LpKegIzboEOT",
        "outputId": "2942b47d-85bb-416c-c1d9-828cb255c466"
      },
      "execution_count": null,
      "outputs": [
        {
          "output_type": "stream",
          "name": "stdout",
          "text": [
            "160\n"
          ]
        }
      ]
    },
    {
      "cell_type": "code",
      "source": [
        "#find marks in maths\n",
        "print(subject[\"maths\"])"
      ],
      "metadata": {
        "colab": {
          "base_uri": "https://localhost:8080/"
        },
        "id": "udfCOAyDnPCT",
        "outputId": "643090d9-30b0-48e6-aa76-337d5c9b8d0d"
      },
      "execution_count": null,
      "outputs": [
        {
          "output_type": "stream",
          "name": "stdout",
          "text": [
            "25\n"
          ]
        }
      ]
    },
    {
      "cell_type": "code",
      "source": [
        "#find the lowest mark\n",
        "print(min(subject.values()))"
      ],
      "metadata": {
        "colab": {
          "base_uri": "https://localhost:8080/"
        },
        "id": "2vzeYjXXnpkS",
        "outputId": "fc61cdd1-1423-42a5-b1e9-85f75749af54"
      },
      "execution_count": null,
      "outputs": [
        {
          "output_type": "stream",
          "name": "stdout",
          "text": [
            "25\n"
          ]
        }
      ]
    },
    {
      "cell_type": "code",
      "source": [],
      "metadata": {
        "id": "dqkR5dCGn358"
      },
      "execution_count": null,
      "outputs": []
    }
  ]
}