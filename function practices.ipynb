{
 "cells": [
  {
   "cell_type": "markdown",
   "id": "1da69ba3-9776-49a0-8255-30e2e6081fa6",
   "metadata": {},
   "source": [
    "# Non repeating Element"
   ]
  },
  {
   "cell_type": "code",
   "execution_count": 28,
   "id": "60806baf-75be-439b-ac7d-6cf1aaf2a7af",
   "metadata": {},
   "outputs": [],
   "source": [
    "def non_repeating_element(arr):\n",
    "    for i in arr:\n",
    "        if arr.count(i)==1:\n",
    "            print(i)\n",
    "    "
   ]
  },
  {
   "cell_type": "code",
   "execution_count": 30,
   "id": "f7ae283f-dc01-4a42-af0a-35924cf8acb5",
   "metadata": {},
   "outputs": [],
   "source": [
    "non_repeating_element([1,2,2,3,1,3])"
   ]
  },
  {
   "cell_type": "markdown",
   "id": "ec80d5d7-104b-4338-8266-bae381878796",
   "metadata": {},
   "source": [
    "# program for Array Rotation"
   ]
  },
  {
   "cell_type": "code",
   "execution_count": 35,
   "id": "1395e161-525c-42b9-8f5e-c9303bae7c81",
   "metadata": {},
   "outputs": [],
   "source": [
    "def rotate_array(arr,d):\n",
    "    return arr[d:]+arr[:d]"
   ]
  },
  {
   "cell_type": "code",
   "execution_count": 37,
   "id": "8f59e5e5-a7fc-4090-aefa-58256b6e4fda",
   "metadata": {},
   "outputs": [
    {
     "data": {
      "text/plain": [
       "[6, 1, 2, 3, 4, 5]"
      ]
     },
     "execution_count": 37,
     "metadata": {},
     "output_type": "execute_result"
    }
   ],
   "source": [
    "rotate_array([1,2,3,4,5,6],5)"
   ]
  },
  {
   "cell_type": "markdown",
   "id": "4895ae68-0cc5-45de-a6da-a00e250c2dbd",
   "metadata": {},
   "source": [
    "# Equilibrium Index of an Array"
   ]
  },
  {
   "cell_type": "code",
   "execution_count": 40,
   "id": "5171bba9-76e0-4b89-8a60-1a5d6c383e0a",
   "metadata": {},
   "outputs": [],
   "source": [
    "def find_equilibrium_index(arr):\n",
    "    total=sum(arr)\n",
    "    left_sum=0\n",
    "    for i, num in enumerate(arr):\n",
    "        total -= num\n",
    "        if left_sum == total:\n",
    "            return i\n",
    "        left_sum += num\n",
    "    return -1"
   ]
  },
  {
   "cell_type": "code",
   "execution_count": 44,
   "id": "6f7876f4-09e9-4b19-8a2a-ce214005e334",
   "metadata": {},
   "outputs": [
    {
     "data": {
      "text/plain": [
       "2"
      ]
     },
     "execution_count": 44,
     "metadata": {},
     "output_type": "execute_result"
    }
   ],
   "source": [
    "find_equilibrium_index([3,1,5,2,2])"
   ]
  },
  {
   "cell_type": "markdown",
   "id": "da211e1b-6cde-4d5a-be21-c77ea048c385",
   "metadata": {},
   "source": [
    "# Print Array after it is right rotated K Time"
   ]
  },
  {
   "cell_type": "code",
   "execution_count": 47,
   "id": "06853613-11b8-484d-8022-d7d46e2e215c",
   "metadata": {},
   "outputs": [],
   "source": [
    "def right_rotate(arr,k):\n",
    "    k=k%len(arr)\n",
    "    return arr[-k:] + arr[:-k]"
   ]
  },
  {
   "cell_type": "code",
   "execution_count": 53,
   "id": "f351be78-7cfd-4e97-ab88-a024e71506dd",
   "metadata": {},
   "outputs": [
    {
     "data": {
      "text/plain": [
       "[2, 3, 4, 5, 6, 1]"
      ]
     },
     "execution_count": 53,
     "metadata": {},
     "output_type": "execute_result"
    }
   ],
   "source": [
    "right_rotate([1,2,3,4,5,6],5)"
   ]
  },
  {
   "cell_type": "markdown",
   "id": "193da25b-18bb-411a-8572-a99209ab29e9",
   "metadata": {},
   "source": [
    "# Array is a Subset of Another Array"
   ]
  },
  {
   "cell_type": "code",
   "execution_count": 56,
   "id": "5adcdf71-a70a-445a-8e04-9648d129f07e",
   "metadata": {},
   "outputs": [],
   "source": [
    "def is_subset(arr1,arr2):\n",
    "    return set(arr2).issubset(set(arr1))"
   ]
  },
  {
   "cell_type": "code",
   "execution_count": 58,
   "id": "b5b10b34-a0b6-4481-b283-6872c1f616f7",
   "metadata": {},
   "outputs": [
    {
     "data": {
      "text/plain": [
       "False"
      ]
     },
     "execution_count": 58,
     "metadata": {},
     "output_type": "execute_result"
    }
   ],
   "source": [
    "is_subset([1,2,3,4,5],[4,5,6,7,8,9])"
   ]
  },
  {
   "cell_type": "markdown",
   "id": "7638525d-2c4b-4802-b9c1-1b14150a11bc",
   "metadata": {},
   "source": [
    "# find all Symmetric Paris in an Array"
   ]
  },
  {
   "cell_type": "code",
   "execution_count": 65,
   "id": "619bb29c-1c01-44a2-9228-9041e4fc7749",
   "metadata": {},
   "outputs": [],
   "source": [
    "def find_Symmetric_pairs(pairs):\n",
    "    seen = {}\n",
    "    result = []\n",
    "    for a,b in pairs:\n",
    "        if seen.get(b) == a:\n",
    "            result.append((b,a))\n",
    "        else:\n",
    "            seen[a]=b\n",
    "    print(result)"
   ]
  },
  {
   "cell_type": "code",
   "execution_count": 67,
   "id": "d9ff2fab-032c-4338-9d48-05c394133d1d",
   "metadata": {},
   "outputs": [
    {
     "name": "stdout",
     "output_type": "stream",
     "text": [
      "[(1, 2), (5, 6)]\n"
     ]
    }
   ],
   "source": [
    "find_Symmetric_pairs([(1,2),(3,4),(2,1),(5,6),(6,5),(7,8)])"
   ]
  },
  {
   "cell_type": "markdown",
   "id": "ba915e15-0470-4ad8-923d-45490d86db85",
   "metadata": {},
   "source": [
    "# Counting Rock sample (assuming counting unique)"
   ]
  },
  {
   "cell_type": "code",
   "execution_count": 76,
   "id": "e63986c5-4558-4d76-8d02-1a97dfcc365a",
   "metadata": {},
   "outputs": [],
   "source": [
    "def counting_rock_sample(samples):\n",
    "    from collections import Counter\n",
    "    print(Counter(samples))"
   ]
  },
  {
   "cell_type": "code",
   "execution_count": 78,
   "id": "97a9270c-dc31-4c33-98db-e51070d23283",
   "metadata": {},
   "outputs": [
    {
     "name": "stdout",
     "output_type": "stream",
     "text": [
      "Counter({'granite': 3, 'basalt': 2, 'limestone': 1})\n"
     ]
    }
   ],
   "source": [
    "counting_rock_sample([\"granite\",\"basalt\",\"granite\",\"limestone\",\"basalt\",\"granite\"])"
   ]
  },
  {
   "cell_type": "markdown",
   "id": "d5b18d12-e776-473d-b70d-5cd6847620a9",
   "metadata": {},
   "source": [
    "# Reverse an Array or String"
   ]
  },
  {
   "cell_type": "code",
   "execution_count": 91,
   "id": "46c6a8db-03fb-4f76-a662-b405a5530b72",
   "metadata": {},
   "outputs": [],
   "source": [
    "def reverse_array(arr):\n",
    "    arr=arr[::-1]\n",
    "    print(arr)\n",
    "\n",
    "def reverse_string(s):\n",
    "    s=s[::-1]\n",
    "    print(s)"
   ]
  },
  {
   "cell_type": "code",
   "execution_count": 93,
   "id": "5b2cc11d-97ac-454c-b811-f7e5c6db8d70",
   "metadata": {},
   "outputs": [
    {
     "name": "stdout",
     "output_type": "stream",
     "text": [
      "[6, 5, 4, 3, 2, 1]\n"
     ]
    }
   ],
   "source": [
    "reverse_array([1,2,3,4,5,6])"
   ]
  },
  {
   "cell_type": "code",
   "execution_count": 95,
   "id": "e6d36281-78ab-45f3-b578-12241c6564cd",
   "metadata": {},
   "outputs": [
    {
     "name": "stdout",
     "output_type": "stream",
     "text": [
      "ragaS\n"
     ]
    }
   ],
   "source": [
    "reverse_string(\"Sagar\")"
   ]
  },
  {
   "cell_type": "markdown",
   "id": "e9044e39-14a3-47f1-adbf-7840564c2f71",
   "metadata": {},
   "source": [
    "# mean and Median of unsorted Array"
   ]
  },
  {
   "cell_type": "code",
   "execution_count": 98,
   "id": "dff4ffb1-c857-48db-ab21-8a6f0165a92d",
   "metadata": {},
   "outputs": [],
   "source": [
    "def mean_median(arr):\n",
    "    mean = sum(arr)/len(arr)\n",
    "    sorted_arr = sorted(arr)\n",
    "    n = len(arr)\n",
    "    median = (sorted_arr[n//2] if n%2!=0\n",
    "             else (sorted_arr[n//2-1] + sorted_arr[n//2])/2)\n",
    "    print(mean)\n",
    "    print(median)"
   ]
  },
  {
   "cell_type": "code",
   "execution_count": 104,
   "id": "ef142523-cdab-44ec-a351-e79bc72056dd",
   "metadata": {},
   "outputs": [
    {
     "name": "stdout",
     "output_type": "stream",
     "text": [
      "14.4\n",
      "6.5\n"
     ]
    }
   ],
   "source": [
    "mean_median([1,2,3,4,47,6,7,55,9,10])"
   ]
  },
  {
   "cell_type": "markdown",
   "id": "0adf4045-fb2a-42bb-8538-59c417f8eda3",
   "metadata": {},
   "source": [
    "# Smallest and second Smallest Element in an array"
   ]
  },
  {
   "cell_type": "code",
   "execution_count": 111,
   "id": "6086ea18-0d10-4647-8945-6be1744a0083",
   "metadata": {},
   "outputs": [],
   "source": [
    "def two_smallest(arr):\n",
    "    unique_sorted = sorted(set(arr))\n",
    "    if len(unique_sorted) > 1:\n",
    "        print(unique_sorted[0])\n",
    "        print(unique_sorted[1])\n",
    "    else:\n",
    "        None  "
   ]
  },
  {
   "cell_type": "code",
   "execution_count": 113,
   "id": "4141f8d4-360f-4208-b709-05a8278ca3d0",
   "metadata": {},
   "outputs": [
    {
     "name": "stdout",
     "output_type": "stream",
     "text": [
      "11\n",
      "22\n"
     ]
    }
   ],
   "source": [
    "two_smallest([55,66,22,77,66,11,77,99,33])"
   ]
  },
  {
   "cell_type": "markdown",
   "id": "6b7c9a0d-e1be-428f-8102-938c4cc29af2",
   "metadata": {},
   "source": [
    "# Largest Element in an Array"
   ]
  },
  {
   "cell_type": "code",
   "execution_count": 122,
   "id": "be7b015c-3b6d-400a-a06f-da59dcad967f",
   "metadata": {},
   "outputs": [],
   "source": [
    "def largest_ele(arr):\n",
    "    a=max(arr)\n",
    "    print(a)"
   ]
  },
  {
   "cell_type": "code",
   "execution_count": 124,
   "id": "1e43a722-a074-4758-b95e-c87758b7569f",
   "metadata": {},
   "outputs": [
    {
     "name": "stdout",
     "output_type": "stream",
     "text": [
      "99\n"
     ]
    }
   ],
   "source": [
    "largest_ele([55,66,22,77,66,11,77,99,33])"
   ]
  },
  {
   "cell_type": "code",
   "execution_count": null,
   "id": "92a9e921-d77f-4b1a-8a5b-d731c69d4424",
   "metadata": {},
   "outputs": [],
   "source": []
  }
 ],
 "metadata": {
  "kernelspec": {
   "display_name": "Python [conda env:base] *",
   "language": "python",
   "name": "conda-base-py"
  },
  "language_info": {
   "codemirror_mode": {
    "name": "ipython",
    "version": 3
   },
   "file_extension": ".py",
   "mimetype": "text/x-python",
   "name": "python",
   "nbconvert_exporter": "python",
   "pygments_lexer": "ipython3",
   "version": "3.11.7"
  }
 },
 "nbformat": 4,
 "nbformat_minor": 5
}
