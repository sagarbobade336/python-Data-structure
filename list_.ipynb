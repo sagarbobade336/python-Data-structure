{
  "nbformat": 4,
  "nbformat_minor": 0,
  "metadata": {
    "colab": {
      "provenance": []
    },
    "kernelspec": {
      "name": "python3",
      "display_name": "Python 3"
    },
    "language_info": {
      "name": "python"
    }
  },
  "cells": [
    {
      "cell_type": "markdown",
      "source": [
        "#List\n",
        "Lists are used to store multiple items in a single variable."
      ],
      "metadata": {
        "id": "r5NLA5Ld4Zbu"
      }
    },
    {
      "cell_type": "code",
      "source": [
        "# **Lists**\n",
        "\n",
        "# 1. Creating a list\n",
        "my_list = [1, 2.5, \"hello\", True]\n",
        "print(\"List:\", my_list)\n",
        "\n",
        "# 2. Accessing elements\n",
        "print(\"First element:\", my_list[0])\n",
        "print(\"Last element:\", my_list[-1])\n",
        "\n",
        "# 3. Modifying a list (mutable)\n",
        "my_list[0] = 10\n",
        "print(\"Modified list:\", my_list)\n",
        "\n",
        "# 4. Adding elements\n",
        "my_list.append(\"world\")\n",
        "print(\"List after adding an element:\", my_list)\n",
        "\n",
        "# 5. Removing elements\n",
        "my_list.remove(\"hello\")\n",
        "print(\"List after removing an element:\", my_list)\n"
      ],
      "metadata": {
        "colab": {
          "base_uri": "https://localhost:8080/"
        },
        "id": "zWgWxXAMyp-j",
        "outputId": "c3af0537-4c51-4be6-9fd5-405f820ff2ea"
      },
      "execution_count": null,
      "outputs": [
        {
          "output_type": "stream",
          "name": "stdout",
          "text": [
            "List: [1, 2.5, 'hello', True]\n",
            "First element: 1\n",
            "Last element: True\n",
            "Modified list: [10, 2.5, 'hello', True]\n",
            "List after adding an element: [10, 2.5, 'hello', True, 'world']\n",
            "List after removing an element: [10, 2.5, True, 'world']\n"
          ]
        }
      ]
    },
    {
      "cell_type": "code",
      "execution_count": null,
      "metadata": {
        "id": "gQsbv6Tr0jZF"
      },
      "outputs": [],
      "source": [
        "l = ['🍋','🍅','🥔','🍅','🥔']"
      ]
    },
    {
      "cell_type": "code",
      "source": [
        "l.insert(1,'🥰')"
      ],
      "metadata": {
        "id": "wRnV0Y251-O6"
      },
      "execution_count": null,
      "outputs": []
    },
    {
      "cell_type": "code",
      "source": [
        "l.insert(2,'😁')"
      ],
      "metadata": {
        "id": "5MGybpCn208Z"
      },
      "execution_count": null,
      "outputs": []
    },
    {
      "cell_type": "code",
      "source": [
        "l.insert(-2,'❤')"
      ],
      "metadata": {
        "id": "A7I8ci4E2RT3"
      },
      "execution_count": null,
      "outputs": []
    },
    {
      "cell_type": "code",
      "source": [
        "l.insert(-1,'😍')"
      ],
      "metadata": {
        "id": "sEH9Xf3P2YKO"
      },
      "execution_count": null,
      "outputs": []
    },
    {
      "cell_type": "code",
      "source": [
        "l.insert(1,'🤣'),( 3,'🐱‍🐉')"
      ],
      "metadata": {
        "colab": {
          "base_uri": "https://localhost:8080/"
        },
        "id": "BIdwk3oS30Ol",
        "outputId": "eaaba25d-3439-474d-fbf1-0c5467e9a181"
      },
      "execution_count": null,
      "outputs": [
        {
          "output_type": "execute_result",
          "data": {
            "text/plain": [
              "(None, (3, '🐱\\u200d🐉'))"
            ]
          },
          "metadata": {},
          "execution_count": 14
        }
      ]
    },
    {
      "cell_type": "code",
      "source": [
        "l"
      ],
      "metadata": {
        "colab": {
          "base_uri": "https://localhost:8080/"
        },
        "id": "JCJ4378X3VzY",
        "outputId": "ebbbdb8c-3dcd-422f-9343-b3ba7df8b2f2"
      },
      "execution_count": null,
      "outputs": [
        {
          "output_type": "execute_result",
          "data": {
            "text/plain": [
              "['🍋', '🤣', '🥰', '😁', '🥰', '🍅', '🥔', '🥰', '❤', '🍅', '😍', '🥔']"
            ]
          },
          "metadata": {},
          "execution_count": 15
        }
      ]
    },
    {
      "cell_type": "code",
      "source": [
        "l=[\"🎂\",'🌹','🍡','🍭']\n"
      ],
      "metadata": {
        "id": "5_4QxXvT3XUk"
      },
      "execution_count": null,
      "outputs": []
    },
    {
      "cell_type": "code",
      "source": [
        "price=250*l.count(\"🎂\")+150*l.count('🍭')"
      ],
      "metadata": {
        "id": "uZDinwaBBGDx"
      },
      "execution_count": null,
      "outputs": []
    },
    {
      "cell_type": "code",
      "source": [
        "price"
      ],
      "metadata": {
        "colab": {
          "base_uri": "https://localhost:8080/"
        },
        "id": "YRx_IMDtBtGm",
        "outputId": "ddaeb861-a6ad-4642-c119-7b9ae79957c3"
      },
      "execution_count": null,
      "outputs": [
        {
          "output_type": "execute_result",
          "data": {
            "text/plain": [
              "400"
            ]
          },
          "metadata": {},
          "execution_count": 18
        }
      ]
    },
    {
      "cell_type": "markdown",
      "source": [
        ".append()=\n",
        "To add an item to the end of the list, use the append() method:"
      ],
      "metadata": {
        "id": "N5LeZO1KvC7t"
      }
    },
    {
      "cell_type": "code",
      "source": [
        "l=['sagar','ganesh','ramesh','sunita']\n"
      ],
      "metadata": {
        "id": "yl_-UvXDuiir"
      },
      "execution_count": null,
      "outputs": []
    },
    {
      "cell_type": "code",
      "source": [
        "dir(l)"
      ],
      "metadata": {
        "colab": {
          "base_uri": "https://localhost:8080/"
        },
        "id": "xPAgLIQ-8MNf",
        "outputId": "1338d71c-b38f-4a74-9cca-bbacd54bd9a9"
      },
      "execution_count": null,
      "outputs": [
        {
          "output_type": "execute_result",
          "data": {
            "text/plain": [
              "['__add__',\n",
              " '__class__',\n",
              " '__class_getitem__',\n",
              " '__contains__',\n",
              " '__delattr__',\n",
              " '__delitem__',\n",
              " '__dir__',\n",
              " '__doc__',\n",
              " '__eq__',\n",
              " '__format__',\n",
              " '__ge__',\n",
              " '__getattribute__',\n",
              " '__getitem__',\n",
              " '__getstate__',\n",
              " '__gt__',\n",
              " '__hash__',\n",
              " '__iadd__',\n",
              " '__imul__',\n",
              " '__init__',\n",
              " '__init_subclass__',\n",
              " '__iter__',\n",
              " '__le__',\n",
              " '__len__',\n",
              " '__lt__',\n",
              " '__mul__',\n",
              " '__ne__',\n",
              " '__new__',\n",
              " '__reduce__',\n",
              " '__reduce_ex__',\n",
              " '__repr__',\n",
              " '__reversed__',\n",
              " '__rmul__',\n",
              " '__setattr__',\n",
              " '__setitem__',\n",
              " '__sizeof__',\n",
              " '__str__',\n",
              " '__subclasshook__',\n",
              " 'append',\n",
              " 'clear',\n",
              " 'copy',\n",
              " 'count',\n",
              " 'extend',\n",
              " 'index',\n",
              " 'insert',\n",
              " 'pop',\n",
              " 'remove',\n",
              " 'reverse',\n",
              " 'sort']"
            ]
          },
          "metadata": {},
          "execution_count": 2
        }
      ]
    },
    {
      "cell_type": "code",
      "source": [
        "l.append(\"bobade\")"
      ],
      "metadata": {
        "id": "5NGxTIf9uvT3"
      },
      "execution_count": null,
      "outputs": []
    },
    {
      "cell_type": "code",
      "source": [
        "print(l)"
      ],
      "metadata": {
        "colab": {
          "base_uri": "https://localhost:8080/"
        },
        "id": "w_Vfv3rFu3vd",
        "outputId": "9771b478-03d4-4c2d-e75d-241a9cb320d2"
      },
      "execution_count": null,
      "outputs": [
        {
          "output_type": "stream",
          "name": "stdout",
          "text": [
            "['sagar', 'ganesh', 'ramesh', 'sunita', 'bobade']\n"
          ]
        }
      ]
    },
    {
      "cell_type": "markdown",
      "source": [
        "Insert Items=\n",
        "To insert a list item at a specified index, use the insert() method.\n",
        "\n",
        "The insert() method inserts an item at the specified index:"
      ],
      "metadata": {
        "id": "hOTEtwMJvUUg"
      }
    },
    {
      "cell_type": "code",
      "source": [
        "l.insert(2,'suraj')\n",
        "print(l)"
      ],
      "metadata": {
        "colab": {
          "base_uri": "https://localhost:8080/"
        },
        "id": "zj2-eBh7vVpc",
        "outputId": "a472e68e-7994-4b72-90fe-87e771000fba"
      },
      "execution_count": null,
      "outputs": [
        {
          "output_type": "stream",
          "name": "stdout",
          "text": [
            "['sagar', 'ganesh', 'suraj', 'ramesh', 'sunita', 'bobade']\n"
          ]
        }
      ]
    },
    {
      "cell_type": "code",
      "source": [
        "l.insert(6,'1,2,3,4,5,6,7,8,9')\n",
        "print(l)"
      ],
      "metadata": {
        "colab": {
          "base_uri": "https://localhost:8080/"
        },
        "id": "gsSVhCJZwOio",
        "outputId": "7aaa1e73-1535-4537-a682-784c4572a587"
      },
      "execution_count": null,
      "outputs": [
        {
          "output_type": "stream",
          "name": "stdout",
          "text": [
            "['sagar', 'ganesh', 'suraj', 'ramesh', 'sunita', 'bobade', '1,2,3,4,5,6,7,8,9', 'deepak', 'vinayak', 'sairam']\n"
          ]
        }
      ]
    },
    {
      "cell_type": "markdown",
      "source": [
        "Extend List=\n",
        "To append elements from another list to the current list, use the extend() method."
      ],
      "metadata": {
        "id": "fe-Q-BTDwF9i"
      }
    },
    {
      "cell_type": "code",
      "source": [
        "l.extend(['deepak','vinayak','sairam'])\n",
        "print(l)"
      ],
      "metadata": {
        "colab": {
          "base_uri": "https://localhost:8080/"
        },
        "id": "BrQLZILkvmXR",
        "outputId": "ec030c4a-8814-4b64-c945-35d7d4bcd954"
      },
      "execution_count": null,
      "outputs": [
        {
          "output_type": "stream",
          "name": "stdout",
          "text": [
            "['sagar', 'ganesh', 'suraj', 'ramesh', 'sunita', 'bobade', 'deepak', 'vinayak', 'sairam']\n"
          ]
        }
      ]
    },
    {
      "cell_type": "code",
      "source": [
        "t=('orange','apple','banana')\n",
        "l.extend(t)\n",
        "print(l)"
      ],
      "metadata": {
        "colab": {
          "base_uri": "https://localhost:8080/"
        },
        "id": "8JM__zVTwEAB",
        "outputId": "dc9bfafc-2ed8-40f3-df05-d7df1c6d29aa"
      },
      "execution_count": null,
      "outputs": [
        {
          "output_type": "stream",
          "name": "stdout",
          "text": [
            "['sagar', 'ganesh', 'suraj', 'ramesh', 'sunita', 'bobade', '1,2,3,4,5,6,7,8,9', 'deepak', 'vinayak', 'sairam', 'orange', 'apple', 'banana']\n"
          ]
        }
      ]
    },
    {
      "cell_type": "markdown",
      "source": [
        "Remove Specified Item=\n",
        "The remove() method removes the specified item."
      ],
      "metadata": {
        "id": "wi1Hl7PZxT87"
      }
    },
    {
      "cell_type": "code",
      "source": [
        "l.remove('sairam')\n",
        "print(l)"
      ],
      "metadata": {
        "colab": {
          "base_uri": "https://localhost:8080/"
        },
        "id": "KQieJ9GIxV4B",
        "outputId": "6bdebe33-5db7-418e-f455-534d01528bde"
      },
      "execution_count": null,
      "outputs": [
        {
          "output_type": "stream",
          "name": "stdout",
          "text": [
            "['sagar', 'ganesh', 'suraj', 'ramesh', 'sunita', 'bobade', '1,2,3,4,5,6,7,8,9', 'deepak', 'vinayak', 'orange', 'apple', 'banana']\n"
          ]
        }
      ]
    },
    {
      "cell_type": "markdown",
      "source": [
        "Remove Specified Index=\n",
        "The pop() method removes the specified index."
      ],
      "metadata": {
        "id": "hJba5ItZyTgk"
      }
    },
    {
      "cell_type": "code",
      "source": [
        "l.pop(6)\n",
        "print(l)"
      ],
      "metadata": {
        "colab": {
          "base_uri": "https://localhost:8080/"
        },
        "id": "qAv7Jh67yHUn",
        "outputId": "835df7f4-c4d4-4924-9d50-ee668ab9e4ed"
      },
      "execution_count": null,
      "outputs": [
        {
          "output_type": "stream",
          "name": "stdout",
          "text": [
            "['sagar', 'ganesh', 'suraj', 'ramesh', 'sunita', 'bobade', 'deepak', 'vinayak', 'orange', 'apple', 'banana']\n"
          ]
        }
      ]
    },
    {
      "cell_type": "code",
      "source": [
        "#If you do not specify the index, the pop() method removes the last item.\n",
        "l.pop()\n",
        "print(l)"
      ],
      "metadata": {
        "colab": {
          "base_uri": "https://localhost:8080/"
        },
        "id": "vYjaOHrAycFQ",
        "outputId": "81b98be6-8f9c-4600-a19a-a0b96ad9db8c"
      },
      "execution_count": null,
      "outputs": [
        {
          "output_type": "stream",
          "name": "stdout",
          "text": [
            "['sagar', 'ganesh', 'suraj', 'ramesh', 'sunita', 'bobade', 'deepak', 'vinayak', 'orange', 'apple']\n"
          ]
        }
      ]
    },
    {
      "cell_type": "code",
      "source": [
        "#The del keyword also removes the specified index:\n",
        "del l[6]\n",
        "print(l)"
      ],
      "metadata": {
        "colab": {
          "base_uri": "https://localhost:8080/"
        },
        "id": "IC5saewOyta1",
        "outputId": "19e691ef-c4da-4633-d8a3-a041f1707ad7"
      },
      "execution_count": null,
      "outputs": [
        {
          "output_type": "stream",
          "name": "stdout",
          "text": [
            "['sagar', 'ganesh', 'suraj', 'ramesh', 'sunita', 'bobade', 'vinayak', 'orange', 'apple']\n"
          ]
        }
      ]
    },
    {
      "cell_type": "markdown",
      "source": [
        "Clear the List=\n",
        "The clear() method empties the list.\n",
        "\n",
        "The list still remains, but it has no content."
      ],
      "metadata": {
        "id": "qhskHG6Bzc4i"
      }
    },
    {
      "cell_type": "code",
      "source": [
        "l.clear()\n",
        "print(l)"
      ],
      "metadata": {
        "colab": {
          "base_uri": "https://localhost:8080/"
        },
        "id": "m3y2j7ZUzA2h",
        "outputId": "87009270-d4cf-4fda-dd92-f1cfa3d0e484"
      },
      "execution_count": null,
      "outputs": [
        {
          "output_type": "stream",
          "name": "stdout",
          "text": [
            "[]\n"
          ]
        }
      ]
    },
    {
      "cell_type": "code",
      "source": [
        "l.append('orange')\n",
        "l.append('banana')\n",
        "l.append('mango')\n"
      ],
      "metadata": {
        "id": "jlCwc0nNzkqK"
      },
      "execution_count": null,
      "outputs": []
    },
    {
      "cell_type": "code",
      "source": [
        "print(l)"
      ],
      "metadata": {
        "colab": {
          "base_uri": "https://localhost:8080/"
        },
        "id": "E2vGlxN00Ief",
        "outputId": "7fa40276-3540-48d1-af24-5be34597698c"
      },
      "execution_count": null,
      "outputs": [
        {
          "output_type": "stream",
          "name": "stdout",
          "text": [
            "['orange', 'banana', 'mango']\n"
          ]
        }
      ]
    },
    {
      "cell_type": "markdown",
      "source": [
        "Sort List Alphanumerically=\n",
        "List objects have a sort() method that will sort the list alphanumerically, ascending, by default:"
      ],
      "metadata": {
        "id": "I6FTGMWM0nRh"
      }
    },
    {
      "cell_type": "code",
      "source": [
        "l.sort()\n",
        "print(l)"
      ],
      "metadata": {
        "colab": {
          "base_uri": "https://localhost:8080/"
        },
        "id": "VkYwp24-0KY_",
        "outputId": "afcded3f-e482-42cd-9aa8-7df088d4aa95"
      },
      "execution_count": null,
      "outputs": [
        {
          "output_type": "stream",
          "name": "stdout",
          "text": [
            "['banana', 'mango', 'orange']\n"
          ]
        }
      ]
    },
    {
      "cell_type": "code",
      "source": [
        "a=[1,2,3,4,5,6,7,8,9]\n",
        "a.sort()\n",
        "print(a)"
      ],
      "metadata": {
        "colab": {
          "base_uri": "https://localhost:8080/"
        },
        "id": "pUXis9lQ1YrP",
        "outputId": "e236b3d1-54fe-4554-a8fa-86bc9b2a9ec5"
      },
      "execution_count": null,
      "outputs": [
        {
          "output_type": "stream",
          "name": "stdout",
          "text": [
            "[1, 2, 3, 4, 5, 6, 7, 8, 9]\n"
          ]
        }
      ]
    },
    {
      "cell_type": "code",
      "source": [
        "#Sort Descending\n",
        "#To sort descending, use the keyword argument reverse = True:\n",
        "a.sort(reverse=True)\n",
        "print(a)"
      ],
      "metadata": {
        "colab": {
          "base_uri": "https://localhost:8080/"
        },
        "id": "DcwzmWzq1c-1",
        "outputId": "69288efa-803a-4d24-93c1-f803faca11d3"
      },
      "execution_count": null,
      "outputs": [
        {
          "output_type": "stream",
          "name": "stdout",
          "text": [
            "[9, 8, 7, 6, 5, 4, 3, 2, 1]\n"
          ]
        }
      ]
    },
    {
      "cell_type": "markdown",
      "source": [
        "List Length= To determine how many items a list has, use the len() function:\n"
      ],
      "metadata": {
        "id": "4J0g-3vq5Rtq"
      }
    },
    {
      "cell_type": "code",
      "source": [
        "print(len(a))"
      ],
      "metadata": {
        "colab": {
          "base_uri": "https://localhost:8080/"
        },
        "id": "FVvVusFg1rY3",
        "outputId": "97cc0dbc-686e-4449-9a09-e3c1142ff875"
      },
      "execution_count": null,
      "outputs": [
        {
          "output_type": "stream",
          "name": "stdout",
          "text": [
            "9\n"
          ]
        }
      ]
    },
    {
      "cell_type": "code",
      "source": [
        "#A list can contain different data types:\n",
        "#Example\n",
        "#A list with strings, integers and boolean values:\n",
        "list1 = [\"abc\", 34, True, 40, \"male\"]"
      ],
      "metadata": {
        "id": "UBUg7Oah5Yk9"
      },
      "execution_count": null,
      "outputs": []
    }
  ]
}