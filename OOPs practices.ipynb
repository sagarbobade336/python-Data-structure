{
 "cells": [
  {
   "cell_type": "code",
   "execution_count": 17,
   "id": "49ab96ee-4020-45f6-aa0c-f13977ab3b9f",
   "metadata": {},
   "outputs": [],
   "source": [
    "class Student:\n",
    "    def __init__(self,name,phy,math,chem):\n",
    "        self.name=name\n",
    "        self.phy=phy\n",
    "        self.math=math\n",
    "        self.chem=chem\n",
    "        self.sum=self.math+self.phy+self.chem\n",
    "    def Percentage(self):\n",
    "        print(\"hi\",self.name,\"your percentage is :\",self.sum/300*100)"
   ]
  },
  {
   "cell_type": "code",
   "execution_count": 19,
   "id": "9c4b90c8-bbd9-4f09-9a89-704f17f16cf2",
   "metadata": {},
   "outputs": [],
   "source": [
    "s1  = Student(\"sagar\",50,60,99)\n",
    "s2  = Student(\"parth\",55,90,89)\n",
    "s3  = Student(\"varun\",70,69,59)\n",
    "s4  = Student(\"tejshree\",88,77,66)\n",
    "s5  = Student(\"vishal\",99,88,77)\n",
    "s6  = Student(\"mayuri\",99,99,99)\n"
   ]
  },
  {
   "cell_type": "code",
   "execution_count": 21,
   "id": "eec3c46b-9570-4ec2-94a4-a565423cb2fa",
   "metadata": {},
   "outputs": [
    {
     "name": "stdout",
     "output_type": "stream",
     "text": [
      "hi sagar your percentage is : 69.66666666666667\n"
     ]
    }
   ],
   "source": [
    "s1.Percentage()"
   ]
  },
  {
   "cell_type": "code",
   "execution_count": 23,
   "id": "9afc8e35-e88e-4b22-acf7-a06a79723274",
   "metadata": {},
   "outputs": [
    {
     "data": {
      "text/plain": [
       "55"
      ]
     },
     "execution_count": 23,
     "metadata": {},
     "output_type": "execute_result"
    }
   ],
   "source": [
    "s2.phy"
   ]
  },
  {
   "cell_type": "code",
   "execution_count": 25,
   "id": "091cc847-7f6d-46f6-838c-83c0aa4585a1",
   "metadata": {},
   "outputs": [
    {
     "data": {
      "text/plain": [
       "198"
      ]
     },
     "execution_count": 25,
     "metadata": {},
     "output_type": "execute_result"
    }
   ],
   "source": [
    "s3.sum"
   ]
  },
  {
   "cell_type": "code",
   "execution_count": 30,
   "id": "6d20e28e-ab6e-4929-af29-72b748b9153b",
   "metadata": {},
   "outputs": [],
   "source": [
    "class Dog:\n",
    "    def __init__(self,name,breed):\n",
    "        self.name=name\n",
    "        self.breed=breed\n",
    "\n",
    "    def sound(self):\n",
    "       print(\"bow bow\")\n",
    "\n",
    "class Cat:\n",
    "    def __init__(self,name,breed):\n",
    "        self.name=name\n",
    "        self.breed=breed\n",
    "\n",
    "    def sound(self):\n",
    "        print(\"mewo mewo\")"
   ]
  },
  {
   "cell_type": "code",
   "execution_count": 32,
   "id": "b5ed3843-8cd1-43be-bc7d-0fecd60decac",
   "metadata": {},
   "outputs": [],
   "source": [
    "D1=Dog(\"Jack\",\"Gavti\")\n",
    "D2=Dog(\"tiger\",\"pug\")\n",
    "C1=Cat(\"Manya\",\"gharguti ghavti\")\n",
    "C2=Cat(\"Jenny\",\"persian\")"
   ]
  },
  {
   "cell_type": "code",
   "execution_count": 42,
   "id": "f19197bc-547d-4ffe-94ce-425b31271bcd",
   "metadata": {},
   "outputs": [
    {
     "name": "stdout",
     "output_type": "stream",
     "text": [
      "mewo mewo\n",
      "bow bow\n"
     ]
    }
   ],
   "source": [
    "C2.sound()\n",
    "D2.sound()"
   ]
  },
  {
   "cell_type": "code",
   "execution_count": 40,
   "id": "3b5d7323-1552-4e75-954f-638e1f693107",
   "metadata": {},
   "outputs": [
    {
     "name": "stdout",
     "output_type": "stream",
     "text": [
      "Jack\n",
      "tiger\n"
     ]
    }
   ],
   "source": [
    "print(D1.name)\n",
    "print(D2.name)"
   ]
  },
  {
   "cell_type": "code",
   "execution_count": 48,
   "id": "35df1ddb-c6b4-4903-8ed2-46116fb6fa26",
   "metadata": {},
   "outputs": [],
   "source": [
    "class Bank:\n",
    "    def __init__(self,name,account_no,balance):\n",
    "        self.name=name\n",
    "        self.account_no=account_no\n",
    "        self.balance=balance\n",
    "\n",
    "    #debit method\n",
    "    def debit(self,amount):\n",
    "        self.balance -= amount\n",
    "        print(\"Rs.\",amount,\"was debited\")\n",
    "        print(\"total balance is\",self.balance)\n",
    "\n",
    "    #credit method\n",
    "    def credit(self,amount):\n",
    "        self.balance += amount\n",
    "        print(\"Rs.\",amount,\"was credited\")\n",
    "        print(\"total balance is\",self.balance)"
   ]
  },
  {
   "cell_type": "code",
   "execution_count": 50,
   "id": "fb97b289-c0cd-496d-afe1-d6b3cbba3ec8",
   "metadata": {},
   "outputs": [],
   "source": [
    "B1=Bank(\"sagar\",123,10000)\n",
    "B2=Bank(\"Ganesh\",456,1000)"
   ]
  },
  {
   "cell_type": "code",
   "execution_count": 52,
   "id": "161d7844-86a5-4e27-9e12-cd2c44ccc67c",
   "metadata": {},
   "outputs": [
    {
     "name": "stdout",
     "output_type": "stream",
     "text": [
      "Rs. 200 was debited\n",
      "total balance is 9800\n"
     ]
    }
   ],
   "source": [
    "B1.debit(200)"
   ]
  },
  {
   "cell_type": "code",
   "execution_count": 54,
   "id": "e2ea665e-9628-427b-9b0f-d96cfce07b13",
   "metadata": {},
   "outputs": [
    {
     "name": "stdout",
     "output_type": "stream",
     "text": [
      "Rs. 100 was credited\n",
      "total balance is 9900\n"
     ]
    }
   ],
   "source": [
    "B1.credit(100)"
   ]
  },
  {
   "cell_type": "code",
   "execution_count": 60,
   "id": "e5516f09-d4cf-4e45-95d8-db89d4f9ca81",
   "metadata": {},
   "outputs": [
    {
     "data": {
      "text/plain": [
       "9900"
      ]
     },
     "execution_count": 60,
     "metadata": {},
     "output_type": "execute_result"
    }
   ],
   "source": [
    "B1.balance"
   ]
  },
  {
   "cell_type": "code",
   "execution_count": 86,
   "id": "f6966ce1-8936-4a12-b606-90f468a11256",
   "metadata": {},
   "outputs": [],
   "source": [
    "class Car:\n",
    "  def __init__(self,make,model,year):\n",
    "    self.make = make\n",
    "    self.model = model\n",
    "    self.year = year\n",
    "    self.speed = 0\n",
    "\n",
    "  def accelerate(self,increment):\n",
    "    self.speed += increment\n",
    "    print(\"current speed:\",self.speed)\n",
    "\n",
    "  def brake(self,decrement):\n",
    "    self.speed -= decrement\n",
    "    print(\"current speed:\",self.speed)"
   ]
  },
  {
   "cell_type": "code",
   "execution_count": 88,
   "id": "e9e836d9-cfa4-48ec-947e-a33085a5ed71",
   "metadata": {},
   "outputs": [],
   "source": [
    "car1=Car(\"Mahindra\",\"THar\",\"2025\")"
   ]
  },
  {
   "cell_type": "code",
   "execution_count": 90,
   "id": "17ee7efc-fe4b-4617-b511-cf99cd9dacd8",
   "metadata": {},
   "outputs": [
    {
     "data": {
      "text/plain": [
       "'THar'"
      ]
     },
     "execution_count": 90,
     "metadata": {},
     "output_type": "execute_result"
    }
   ],
   "source": [
    "car1.model"
   ]
  },
  {
   "cell_type": "code",
   "execution_count": 92,
   "id": "1b76792d-ca66-496a-b6e4-19bc14fb7d54",
   "metadata": {},
   "outputs": [
    {
     "name": "stdout",
     "output_type": "stream",
     "text": [
      "current speed: 100\n"
     ]
    }
   ],
   "source": [
    "car1.accelerate(100)"
   ]
  },
  {
   "cell_type": "code",
   "execution_count": 96,
   "id": "335bba71-afba-4d9c-8e87-685edd8fa51c",
   "metadata": {},
   "outputs": [
    {
     "name": "stdout",
     "output_type": "stream",
     "text": [
      "current speed: -20\n"
     ]
    }
   ],
   "source": [
    "car1.brake(120)"
   ]
  },
  {
   "cell_type": "markdown",
   "id": "121c9d8b-a9cc-478d-bc6b-23825cc1db33",
   "metadata": {},
   "source": [
    "# Inheritance "
   ]
  },
  {
   "cell_type": "code",
   "execution_count": 99,
   "id": "cb9ca973-d92c-4701-a52c-6901351998e8",
   "metadata": {},
   "outputs": [],
   "source": [
    "#single inheritance\n",
    "class Parent:\n",
    "    def fun1(self):\n",
    "        print(\"This is function of parent class\")\n",
    "\n",
    "class Child(Parent):\n",
    "    def fun2(self):\n",
    "        print(\"This is function of child class\")"
   ]
  },
  {
   "cell_type": "code",
   "execution_count": 103,
   "id": "1a4c7d5e-250d-4dae-b036-2eccb8ed8870",
   "metadata": {},
   "outputs": [],
   "source": [
    "sagar=Child()"
   ]
  },
  {
   "cell_type": "code",
   "execution_count": 113,
   "id": "2cd084fd-f78d-43ea-84dc-0feedb816a8b",
   "metadata": {},
   "outputs": [
    {
     "name": "stdout",
     "output_type": "stream",
     "text": [
      "I am parent class\n",
      "None\n",
      "I am the child class\n",
      "None\n"
     ]
    }
   ],
   "source": [
    "print(sagar.fun1())\n",
    "print(sagar.fun2())"
   ]
  },
  {
   "cell_type": "code",
   "execution_count": 124,
   "id": "554d48c1-dbfc-4a38-aa85-c5baa1d06f76",
   "metadata": {},
   "outputs": [
    {
     "name": "stdout",
     "output_type": "stream",
     "text": [
      "Father : RAM\n",
      "Mother : SITA\n"
     ]
    }
   ],
   "source": [
    "#Multiple inheritance\n",
    "class Mother:\n",
    "    mothername = \"\"\n",
    "\n",
    "    def mother(self):\n",
    "        print(self.mothername)\n",
    "\n",
    "class Father:\n",
    "    fathername = \"\"\n",
    "\n",
    "    def father(self):\n",
    "        print(self.fathername)\n",
    "\n",
    "# Derived class\n",
    "class Son(Mother, Father):\n",
    "    def parents(self):\n",
    "        print(\"Father :\", self.fathername)\n",
    "        print(\"Mother :\", self.mothername)\n",
    "\n",
    "s1 = Son()\n",
    "s1.fathername = \"RAM\"\n",
    "s1.mothername = \"SITA\"\n",
    "s1.parents()"
   ]
  },
  {
   "cell_type": "code",
   "execution_count": 144,
   "id": "747ed124-70cd-4f35-92be-b6fa17e9ae0f",
   "metadata": {},
   "outputs": [],
   "source": [
    "#multilevel inheritance\n",
    "class Grandfather:\n",
    "    def __init__(self,grandfathername):\n",
    "        self.grandfathername=grandfathername\n",
    "\n",
    "class Father(Grandfather):\n",
    "    def __init__(self,fathername,grandfathername):\n",
    "        self.fathername=fathername\n",
    "\n",
    "        Grandfather.__init__(self, grandfathername)\n",
    "\n",
    "\n",
    "class Son(Father):\n",
    "    def __init__(self,sonname,fathername,grandfathername):\n",
    "        self.sonname=sonname \n",
    "\n",
    "        Father.__init__(self, fathername, grandfathername)\n",
    "\n",
    "    def print_name(self):\n",
    "        print(\"grandfather name :\",self.grandfathername)\n",
    "        print(\"father name :\",self.fathername)\n",
    "        print(\"Son name :\",self.sonname)\n",
    "        "
   ]
  },
  {
   "cell_type": "code",
   "execution_count": 146,
   "id": "3cbc62ce-1a2f-4886-aa60-033eb4053f25",
   "metadata": {},
   "outputs": [
    {
     "name": "stdout",
     "output_type": "stream",
     "text": [
      "Mahadev\n",
      "Ramesh\n"
     ]
    }
   ],
   "source": [
    "s1=Son(\"Sagar\",\"Ramesh\",\"Mahadev\")\n",
    "print(s1.grandfathername)\n",
    "print(s1.fathername)"
   ]
  },
  {
   "cell_type": "code",
   "execution_count": 148,
   "id": "6aeb5fe1-cdcb-4851-a830-8941aa7f9bbe",
   "metadata": {},
   "outputs": [
    {
     "name": "stdout",
     "output_type": "stream",
     "text": [
      "grandfather name : Mahadev\n",
      "father name : Ramesh\n",
      "Son name : Sagar\n"
     ]
    }
   ],
   "source": [
    "s1.print_name()"
   ]
  },
  {
   "cell_type": "code",
   "execution_count": 150,
   "id": "54b0ddb4-d42f-4a13-868d-0a9abe4972dd",
   "metadata": {},
   "outputs": [],
   "source": [
    "#hierarchical Inheritance\n",
    "class Parent:\n",
    "    def fun1(self):\n",
    "        print(\"I am parent\")\n",
    "\n",
    "class Son1(Parent):\n",
    "    def fun2(self):\n",
    "        print(\"I am son 1\")\n",
    "\n",
    "class Son2(Parent):\n",
    "    def fun3(self):\n",
    "        print(\"I am son 2\")"
   ]
  },
  {
   "cell_type": "code",
   "execution_count": 152,
   "id": "c99fc03e-3c65-40fb-b108-7018db0869af",
   "metadata": {},
   "outputs": [],
   "source": [
    "sagar=Son1()\n",
    "ganesh=Son2()"
   ]
  },
  {
   "cell_type": "code",
   "execution_count": 154,
   "id": "cbea5d15-9979-46cd-ae1f-b50e1b09a9d3",
   "metadata": {},
   "outputs": [
    {
     "name": "stdout",
     "output_type": "stream",
     "text": [
      "I am parent\n"
     ]
    }
   ],
   "source": [
    "sagar.fun1()"
   ]
  },
  {
   "cell_type": "code",
   "execution_count": 156,
   "id": "5512de3e-ac69-4497-a559-851d70657099",
   "metadata": {},
   "outputs": [],
   "source": [
    "# hybrid inheritance\n",
    "class School:\n",
    "    def func1(self):\n",
    "        print(\"This function is in school.\")\n",
    "\n",
    "class Student1(School):\n",
    "    def func2(self):\n",
    "        print(\"This function is in student 1. \")\n",
    "\n",
    "class Student2(School):\n",
    "    def func3(self):\n",
    "        print(\"This function is in student 2.\")\n",
    "\n",
    "class Student3(Student1, School):\n",
    "    def func4(self):\n",
    "        print(\"This function is in student 3.\")"
   ]
  },
  {
   "cell_type": "code",
   "execution_count": 158,
   "id": "0b933caa-2f4d-43e2-ad56-e03d2774733c",
   "metadata": {},
   "outputs": [
    {
     "name": "stdout",
     "output_type": "stream",
     "text": [
      "This function is in school.\n",
      "This function is in student 1. \n"
     ]
    }
   ],
   "source": [
    "object = Student3()\n",
    "object.func1()\n",
    "object.func2()"
   ]
  },
  {
   "cell_type": "markdown",
   "id": "91985124-9175-4816-969c-9b6d59a47d5d",
   "metadata": {},
   "source": [
    "# Encapsulation"
   ]
  },
  {
   "cell_type": "code",
   "execution_count": 162,
   "id": "17265f4d-50da-4ffd-9157-9df4e70f5a7d",
   "metadata": {},
   "outputs": [],
   "source": [
    "class BankAccount:\n",
    "    def __init__(self, balance):\n",
    "        self.__balance = balance  # Private attribute\n",
    "\n",
    "    def deposit(self, amount):\n",
    "        if amount > 0:\n",
    "            self.__balance += amount\n",
    "\n",
    "    def withdraw(self, amount):\n",
    "        if 0 < amount <= self.__balance:\n",
    "            self.__balance -= amount\n",
    "\n",
    "    def get_balance(self):\n",
    "        return self.__balance  "
   ]
  },
  {
   "cell_type": "code",
   "execution_count": 164,
   "id": "a6374159-4b1c-4877-ba6a-c2140961596f",
   "metadata": {},
   "outputs": [],
   "source": [
    "s1=BankAccount(1000)"
   ]
  },
  {
   "cell_type": "code",
   "execution_count": 166,
   "id": "f73ac13c-2d2d-472e-a3d5-f8dfd8492497",
   "metadata": {},
   "outputs": [],
   "source": [
    "s1.deposit(99)"
   ]
  },
  {
   "cell_type": "code",
   "execution_count": 170,
   "id": "1d4d80a1-f3df-425e-9296-016616475c65",
   "metadata": {},
   "outputs": [
    {
     "data": {
      "text/plain": [
       "1099"
      ]
     },
     "execution_count": 170,
     "metadata": {},
     "output_type": "execute_result"
    }
   ],
   "source": [
    "s1.get_balance()"
   ]
  },
  {
   "cell_type": "markdown",
   "id": "d819d9e6-1003-4e4f-80d6-13d94490b718",
   "metadata": {},
   "source": [
    "# Abstraction "
   ]
  },
  {
   "cell_type": "code",
   "execution_count": 175,
   "id": "0e78caf4-5fb4-4a3e-883a-62036e8b5e83",
   "metadata": {},
   "outputs": [],
   "source": [
    "class Shape:# Abstract class\n",
    "    def area(self):  # Abstract method\n",
    "        pass\n",
    "\n",
    "class Circle(Shape):\n",
    "    def __init__(self, radius):\n",
    "        self.radius = radius\n",
    "\n",
    "    def area(self): \n",
    "        return 3.14 * self.radius * self.radius\n"
   ]
  },
  {
   "cell_type": "code",
   "execution_count": 177,
   "id": "aaf5b366-9436-4475-b5cc-fc183c81b70f",
   "metadata": {},
   "outputs": [],
   "source": [
    "cicle=Circle(5)"
   ]
  },
  {
   "cell_type": "code",
   "execution_count": 179,
   "id": "048a8805-5a08-42a3-91a9-71e6b9ea3300",
   "metadata": {},
   "outputs": [
    {
     "data": {
      "text/plain": [
       "78.5"
      ]
     },
     "execution_count": 179,
     "metadata": {},
     "output_type": "execute_result"
    }
   ],
   "source": [
    "cicle.area()"
   ]
  },
  {
   "cell_type": "markdown",
   "id": "86d78ab9-2054-4998-a34f-68f74d7b5f5e",
   "metadata": {},
   "source": [
    "# polymorphisme"
   ]
  },
  {
   "cell_type": "code",
   "execution_count": 182,
   "id": "077939de-e525-4c83-b95a-4ff481f67780",
   "metadata": {},
   "outputs": [],
   "source": [
    "class Bird:\n",
    "    def sound(self):\n",
    "        return \"Chirp!\"\n",
    "\n",
    "class Duck(Bird):\n",
    "    def sound(self): \n",
    "        return \"Quack!\"\n",
    "\n",
    "def make_sound(animal):\n",
    "    print(animal.sound())"
   ]
  },
  {
   "cell_type": "code",
   "execution_count": 184,
   "id": "156e9818-5943-4ba8-ae69-f084ae42b3cb",
   "metadata": {},
   "outputs": [],
   "source": [
    "sagar=Bird()\n",
    "ganesh=Duck()"
   ]
  },
  {
   "cell_type": "code",
   "execution_count": 192,
   "id": "3d8dfe79-bfa2-48e9-b606-42b99391d995",
   "metadata": {},
   "outputs": [
    {
     "name": "stdout",
     "output_type": "stream",
     "text": [
      "Chirp!\n"
     ]
    }
   ],
   "source": [
    "make_sound(sagar)"
   ]
  },
  {
   "cell_type": "code",
   "execution_count": null,
   "id": "f766646a-a0a7-40cd-8623-76d14e9a52bf",
   "metadata": {},
   "outputs": [],
   "source": []
  }
 ],
 "metadata": {
  "kernelspec": {
   "display_name": "Python [conda env:base] *",
   "language": "python",
   "name": "conda-base-py"
  },
  "language_info": {
   "codemirror_mode": {
    "name": "ipython",
    "version": 3
   },
   "file_extension": ".py",
   "mimetype": "text/x-python",
   "name": "python",
   "nbconvert_exporter": "python",
   "pygments_lexer": "ipython3",
   "version": "3.11.7"
  }
 },
 "nbformat": 4,
 "nbformat_minor": 5
}
