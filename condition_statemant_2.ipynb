{
  "nbformat": 4,
  "nbformat_minor": 0,
  "metadata": {
    "colab": {
      "provenance": []
    },
    "kernelspec": {
      "name": "python3",
      "display_name": "Python 3"
    },
    "language_info": {
      "name": "python"
    }
  },
  "cells": [
    {
      "cell_type": "markdown",
      "source": [
        "IF ELSE Statement"
      ],
      "metadata": {
        "id": "i7MKJtytsw95"
      }
    },
    {
      "cell_type": "code",
      "execution_count": null,
      "metadata": {
        "colab": {
          "base_uri": "https://localhost:8080/"
        },
        "id": "DfLK9-XkmV0H",
        "outputId": "ec2e780e-9a81-42d3-964d-8a2bbaee5f57"
      },
      "outputs": [
        {
          "output_type": "stream",
          "name": "stdout",
          "text": [
            "it cannot vot\n"
          ]
        }
      ],
      "source": [
        "if 12>=18:\n",
        "  s=\"it can vot\"\n",
        "else:\n",
        "  s=\"it cannot vot\"\n",
        "\n",
        "print(s)"
      ]
    },
    {
      "cell_type": "markdown",
      "source": [
        "IF ELSE IF statemant"
      ],
      "metadata": {
        "id": "Fv2rg_rNsmSO"
      }
    },
    {
      "cell_type": "code",
      "source": [
        "age = int(input(\"Enter your age=\"))\n",
        "\n",
        "if 0<age<=12:\n",
        "  print(\"your the chid\")\n",
        "elif 12<age<20:\n",
        "  print(\"your the student\")\n",
        "elif 20<=age<65:\n",
        "  print(\"your the adult\")\n",
        "elif age<=0:\n",
        "  print(\"invalid age\")\n",
        "else:\n",
        "  print(\"your the senior citizen\")\n"
      ],
      "metadata": {
        "colab": {
          "base_uri": "https://localhost:8080/"
        },
        "id": "Qv_pHWiZn9k_",
        "outputId": "5c961520-3809-4684-9afb-2dca957e522f"
      },
      "execution_count": null,
      "outputs": [
        {
          "output_type": "stream",
          "name": "stdout",
          "text": [
            "Enter your age=-35\n",
            "invalid age\n"
          ]
        }
      ]
    },
    {
      "cell_type": "code",
      "source": [
        "income=int(input(\"input income=\"))\n",
        "\n",
        "if 15000 <=income<= 20000:\n",
        "  print(f\"if your income iscount{income*0.1}\")\n",
        "\n",
        "\n",
        "elif 20000 <=income<= 50000:\n",
        "  print(f\"if your income discount{income*0.2}\")\n",
        "\n",
        "\n",
        "elif 50000 <=income<= 70000:\n",
        "  print(f\"if your income discount{income*0.3}\")\n",
        "\n",
        "elif income<=15000:\n",
        "  print(\"no discount\")\n",
        "\n",
        "else  :\n",
        "  print(f\"if income your discount{income*0.4}\")\n"
      ],
      "metadata": {
        "id": "lLf67qsVqylu",
        "colab": {
          "base_uri": "https://localhost:8080/"
        },
        "outputId": "096d9377-2e12-4b7f-fa12-6aa47016bf55"
      },
      "execution_count": null,
      "outputs": [
        {
          "output_type": "stream",
          "name": "stdout",
          "text": [
            "input income=42568\n",
            "if your income discount8513.6\n"
          ]
        }
      ]
    },
    {
      "cell_type": "code",
      "source": [
        "x=56.236\n",
        "print(\"%.2f\"%x)"
      ],
      "metadata": {
        "colab": {
          "base_uri": "https://localhost:8080/"
        },
        "id": "__ASMEsXvCBT",
        "outputId": "6b6f13ae-cc86-4ae9-a179-82b05a16359c"
      },
      "execution_count": null,
      "outputs": [
        {
          "output_type": "stream",
          "name": "stdout",
          "text": [
            "56.24\n"
          ]
        }
      ]
    },
    {
      "cell_type": "code",
      "source": [
        "len(['Hello',1,2,3])"
      ],
      "metadata": {
        "colab": {
          "base_uri": "https://localhost:8080/"
        },
        "id": "UTniXwWy9lKk",
        "outputId": "6373f80b-719a-449f-b468-ecb5f9c80eb1"
      },
      "execution_count": null,
      "outputs": [
        {
          "output_type": "execute_result",
          "data": {
            "text/plain": [
              "4"
            ]
          },
          "metadata": {},
          "execution_count": 20
        }
      ]
    },
    {
      "cell_type": "code",
      "source": [
        "a ='abcd'\n",
        "for i in a:\n",
        "  print(i.upper())"
      ],
      "metadata": {
        "colab": {
          "base_uri": "https://localhost:8080/"
        },
        "id": "lLO3pkxK-SsJ",
        "outputId": "9c387a27-b7fa-4506-d032-20e030218f32"
      },
      "execution_count": null,
      "outputs": [
        {
          "output_type": "stream",
          "name": "stdout",
          "text": [
            "A\n",
            "B\n",
            "C\n",
            "D\n"
          ]
        }
      ]
    },
    {
      "cell_type": "markdown",
      "source": [
        "Password Checker\n"
      ],
      "metadata": {
        "id": "2-x9G8kMP0tw"
      }
    },
    {
      "cell_type": "code",
      "source": [
        "Box=[\"jevlis ka\"]\n",
        "pasword=input(\"tujha pasword sang=\")\n",
        "if pasword==\"Sagar@123\":\n",
        "  print(f'tu barobr pasword takla ahes ani he tujhu important mahiti{Box}')\n",
        "else:\n",
        "  print(\"tu password chukicha takla ahe mi nahi sangnar mahiti\")"
      ],
      "metadata": {
        "colab": {
          "base_uri": "https://localhost:8080/"
        },
        "id": "e6uvE3urP3De",
        "outputId": "16a27da7-874e-42fe-b12b-f7ca44382b95"
      },
      "execution_count": null,
      "outputs": [
        {
          "output_type": "stream",
          "name": "stdout",
          "text": [
            "tujha pasword sang=sango\n",
            "tu password chukicha takla ahe mi nahi sangnar mahiti\n"
          ]
        }
      ]
    },
    {
      "cell_type": "code",
      "source": [
        "Prime_no=int(input(\"enter the no=\"))\n",
        "if Prime_no%2!=0:\n",
        "  print(\"it is prime no\")\n",
        "else:\n",
        "  print(\"it is not prime no\")"
      ],
      "metadata": {
        "colab": {
          "base_uri": "https://localhost:8080/"
        },
        "id": "xJ0iEoakSU_Y",
        "outputId": "8a44a07f-45c0-414f-e306-e7d283bfd7dd"
      },
      "execution_count": null,
      "outputs": [
        {
          "output_type": "stream",
          "name": "stdout",
          "text": [
            "enter the no=29\n",
            "it is prime no\n"
          ]
        }
      ]
    },
    {
      "cell_type": "markdown",
      "source": [
        "Even or Odd\n"
      ],
      "metadata": {
        "id": "73fWWK-oX-lm"
      }
    },
    {
      "cell_type": "code",
      "source": [
        "number=int(input(\"enter the no=\"))\n",
        "if number%2==0:\n",
        "  print(\"it is even no\")\n",
        "else:\n",
        "  print(\"it is odd no\")"
      ],
      "metadata": {
        "colab": {
          "base_uri": "https://localhost:8080/"
        },
        "id": "HISanuf7UDKU",
        "outputId": "112dbbfa-9085-41d8-c8b4-195991512739"
      },
      "execution_count": null,
      "outputs": [
        {
          "output_type": "stream",
          "name": "stdout",
          "text": [
            "enter the no=29\n",
            "it is odd no\n"
          ]
        }
      ]
    },
    {
      "cell_type": "markdown",
      "source": [
        "Positive, Negative, or Zero"
      ],
      "metadata": {
        "id": "Y9WWO0qNbEcK"
      }
    },
    {
      "cell_type": "code",
      "source": [
        "number=int(input(\"enter the no=\"))\n",
        "if number>0:\n",
        "  print(\"number is postive\")\n",
        "elif number<0:\n",
        "  print(\"number is negative\")\n",
        "else:\n",
        "  print(\"number is zero\")"
      ],
      "metadata": {
        "colab": {
          "base_uri": "https://localhost:8080/"
        },
        "id": "BprysVERbFqR",
        "outputId": "d1d9956b-ec73-4174-a102-80382bb0ff8a"
      },
      "execution_count": null,
      "outputs": [
        {
          "output_type": "stream",
          "name": "stdout",
          "text": [
            "enter the no=0\n",
            "number is zero\n"
          ]
        }
      ]
    },
    {
      "cell_type": "markdown",
      "source": [
        "Largest of Two Numbers\n"
      ],
      "metadata": {
        "id": "PitO_41iccNA"
      }
    },
    {
      "cell_type": "code",
      "source": [
        "a=int(input(\"enter no\"))\n",
        "b=int(input(\"enter no\"))\n",
        "if a>b:\n",
        "  print(f'{a} is greater than {b}')\n",
        "else:\n",
        "  print(f'{b} is greater than {a}')"
      ],
      "metadata": {
        "colab": {
          "base_uri": "https://localhost:8080/"
        },
        "id": "QstpRXyAcdPZ",
        "outputId": "dc0c3f7b-d975-4131-dabf-7571e3faf66d"
      },
      "execution_count": null,
      "outputs": [
        {
          "output_type": "stream",
          "name": "stdout",
          "text": [
            "enter no25\n",
            "enter no65\n",
            "65 is greater than 25\n"
          ]
        }
      ]
    },
    {
      "cell_type": "markdown",
      "source": [
        "Vowel or Consonant"
      ],
      "metadata": {
        "id": "sy_YcTkzdQSo"
      }
    },
    {
      "cell_type": "code",
      "source": [
        "x=input(\"Enter any Alphabate=\")\n",
        "if x=='a'or x=='e'or x=='i'or x=='o'or x=='u':\n",
        "  print(\"Vowel\")\n",
        "else:\n",
        "  print(\"Consonant\")"
      ],
      "metadata": {
        "colab": {
          "base_uri": "https://localhost:8080/"
        },
        "id": "KhhQWMordRCu",
        "outputId": "5d00b0cf-76b6-4dd6-da2c-f8f193add13b"
      },
      "execution_count": null,
      "outputs": [
        {
          "output_type": "stream",
          "name": "stdout",
          "text": [
            "Enter any Alphabate=c\n",
            "Consonant\n"
          ]
        }
      ]
    },
    {
      "cell_type": "markdown",
      "source": [
        "Leap Year Checker"
      ],
      "metadata": {
        "id": "6VTjpTjLicha"
      }
    },
    {
      "cell_type": "code",
      "source": [
        "leap_year=int(input(\"enter the year=\"))\n",
        "if leap_year%4==0:\n",
        "  print(\" it is leap year\")\n",
        "else:\n",
        "  print(\"it is not leap year\")"
      ],
      "metadata": {
        "colab": {
          "base_uri": "https://localhost:8080/"
        },
        "id": "rO-olNrieIzj",
        "outputId": "6768432f-5039-481b-ae64-8cfd58681624"
      },
      "execution_count": null,
      "outputs": [
        {
          "output_type": "stream",
          "name": "stdout",
          "text": [
            "enter the year=2014\n",
            "it is not leap year\n"
          ]
        }
      ]
    },
    {
      "cell_type": "markdown",
      "source": [
        "Grade Calculator"
      ],
      "metadata": {
        "id": "SZ4xl5nolAJh"
      }
    },
    {
      "cell_type": "code",
      "source": [
        "marks=int(input(\"Enter student marks=\"))\n",
        "if 90<=marks<=100:\n",
        "  print(\"Student Pass at A Garde\")\n",
        "elif 80<=marks<=89:\n",
        "  print(\"Student pass at B Grade\")\n",
        "elif 70<=marks<=79:\n",
        "  print(\"Student pass at B Grade\")\n",
        "elif 80<=marks<=69:\n",
        "  print(\"Student pass at B Grade\")\n",
        "\n",
        "else:\n",
        "  print(\"Student is fail\")"
      ],
      "metadata": {
        "colab": {
          "base_uri": "https://localhost:8080/"
        },
        "id": "3rm2V5WRlC6u",
        "outputId": "0e45ccd6-f0c2-43d0-d0f9-1a30e4d42bf6"
      },
      "execution_count": null,
      "outputs": [
        {
          "output_type": "stream",
          "name": "stdout",
          "text": [
            "Enter student marks60\n",
            "Student is fail\n"
          ]
        }
      ]
    },
    {
      "cell_type": "markdown",
      "source": [
        "Calculator"
      ],
      "metadata": {
        "id": "Q8sSELRfCpO8"
      }
    },
    {
      "cell_type": "code",
      "source": [
        "a=int(input(\"Enter Number=\"))\n",
        "b=int(input(\"Enter Number=\"))\n",
        "c=input(\"Enter Operator=\")\n",
        "if (c=='+'):\n",
        "  print(a+b)\n",
        "elif (c=='-'):\n",
        "  print(a-b)\n",
        "elif (c=='*'):\n",
        "  print(a*b)\n",
        "elif (c=='/'):\n",
        "  print(a/b)\n",
        "else:\n",
        "  print(\"error\")"
      ],
      "metadata": {
        "colab": {
          "base_uri": "https://localhost:8080/"
        },
        "id": "ttnwzjkzCOq_",
        "outputId": "5a320371-1acb-4d9a-e607-30ed09e55752"
      },
      "execution_count": null,
      "outputs": [
        {
          "output_type": "stream",
          "name": "stdout",
          "text": [
            "Enter Number=5\n",
            "Enter Number=26\n",
            "Enter Operatord\n",
            "error\n"
          ]
        }
      ]
    },
    {
      "cell_type": "markdown",
      "source": [
        "Triangle Type Checker"
      ],
      "metadata": {
        "id": "aDcEfRHdHT4m"
      }
    },
    {
      "cell_type": "code",
      "source": [
        "a=int(input(\"Enter side a=\"))\n",
        "b=int(input(\"Enter side b=\"))\n",
        "c=int(input(\"Enter side c=\"))\n",
        "if a==b==c:\n",
        "  print(\"Equilateral triangle\")\n",
        "elif a==b or b==c or c==a:\n",
        "  print(\"Isosceles triangle\")\n",
        "else:\n",
        "  print(\"Scalene triangle\")\n"
      ],
      "metadata": {
        "colab": {
          "base_uri": "https://localhost:8080/"
        },
        "id": "bgE0tG3HD4AX",
        "outputId": "023a34c2-3180-4166-c6fb-5d91fc08c19a"
      },
      "execution_count": null,
      "outputs": [
        {
          "output_type": "stream",
          "name": "stdout",
          "text": [
            "Enter side a=65\n",
            "Enter side b=65\n",
            "Enter side c=84\n",
            "Isosceles triangle\n"
          ]
        }
      ]
    },
    {
      "cell_type": "markdown",
      "source": [
        "Day of the Week"
      ],
      "metadata": {
        "id": "rayfEAt5MS4C"
      }
    },
    {
      "cell_type": "code",
      "source": [
        "Day=int(input(\"Enter Number\"))\n",
        "if :\n",
        "  print(\"Day\")\n",
        "else:\n",
        "  print(\"day not found\")"
      ],
      "metadata": {
        "colab": {
          "base_uri": "https://localhost:8080/"
        },
        "id": "SV_HY51DJu3b",
        "outputId": "5ae23928-6374-4bc1-810d-b765ae17d99b"
      },
      "execution_count": null,
      "outputs": [
        {
          "output_type": "stream",
          "name": "stdout",
          "text": [
            "Enter Number5\n",
            "day not found\n"
          ]
        }
      ]
    },
    {
      "cell_type": "markdown",
      "source": [
        "Nested If-Else: Largest of Three Numbers"
      ],
      "metadata": {
        "id": "ReJ049307Nv_"
      }
    },
    {
      "cell_type": "code",
      "source": [
        "a=int(input(\"Enter Number=\"))\n",
        "b=int(input(\"Enter Number=\"))\n",
        "c=int(input(\"Enter Number=\"))\n",
        "if a>b:\n",
        "  if a>c:\n",
        "    print(f'{a} is greater')\n",
        "else:\n",
        "  if b>c:\n",
        "    print(f'{b} is greater')\n",
        "  else:\n",
        "    print(f'{c} is greater')"
      ],
      "metadata": {
        "id": "KYl0M_NUNizr",
        "colab": {
          "base_uri": "https://localhost:8080/"
        },
        "outputId": "07ea699a-27af-4802-9e83-bdd9d8cfd67f"
      },
      "execution_count": null,
      "outputs": [
        {
          "output_type": "stream",
          "name": "stdout",
          "text": [
            "Enter Number=25\n",
            "Enter Number=45\n",
            "Enter Number=12\n",
            "45 is greater\n"
          ]
        }
      ]
    },
    {
      "cell_type": "markdown",
      "source": [
        "Number to Words"
      ],
      "metadata": {
        "id": "xCG7_P-drD3B"
      }
    },
    {
      "cell_type": "code",
      "source": [
        "names = ['Varun','Sagar','Mayuri','tejshree','Parth','Nilesh','Aniket',\"nitin\",\"racecar\"]\n",
        "for i in names:\n",
        "  if \"a\" not in i:\n",
        "    print(i)"
      ],
      "metadata": {
        "id": "hcl1yBn2HYdc",
        "colab": {
          "base_uri": "https://localhost:8080/"
        },
        "outputId": "a38cd780-04cf-4d71-c6ff-52fa47c8ee49"
      },
      "execution_count": null,
      "outputs": [
        {
          "output_type": "stream",
          "name": "stdout",
          "text": [
            "tejshree\n",
            "Nilesh\n",
            "Aniket\n",
            "nitin\n"
          ]
        }
      ]
    },
    {
      "cell_type": "code",
      "source": [
        "for i in names:\n",
        "  if i==i[::-1]:\n",
        "    print(i)"
      ],
      "metadata": {
        "colab": {
          "base_uri": "https://localhost:8080/"
        },
        "id": "y0PTsvpxxw_z",
        "outputId": "6cc9660e-a8d6-4219-8ed6-13566747861d"
      },
      "execution_count": null,
      "outputs": [
        {
          "output_type": "stream",
          "name": "stdout",
          "text": [
            "nitin\n",
            "racecar\n"
          ]
        }
      ]
    },
    {
      "cell_type": "code",
      "source": [],
      "metadata": {
        "id": "Zdm2Z8-_yxh9"
      },
      "execution_count": null,
      "outputs": []
    }
  ]
}