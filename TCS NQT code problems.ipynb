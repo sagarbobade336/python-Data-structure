{
 "cells": [
  {
   "cell_type": "code",
   "execution_count": 28,
   "id": "c0ecac96-2cc5-4736-8a80-54bb580e9273",
   "metadata": {},
   "outputs": [],
   "source": [
    "#An international round table conference will be held in india.\n",
    "#Presidents from all over the world representing their respective countries will be attending the conference.\n",
    "#The task is to find the possible number of ways(P) to make the N members sit around the circular table such that.\n",
    "#The president and prime minister of India will always sit next to each other.\n",
    "\n",
    "def factorial(n):\n",
    "    if n==0 or n==1:\n",
    "        return 1\n",
    "    else:\n",
    "        return n * factorial(n-1)\n",
    "\n",
    "def setting_arg(N):\n",
    "    if 2 > N :\n",
    "        return 0\n",
    "    else:\n",
    "        return 2 * factorial(N-2)\n",
    "        \n",
    "    "
   ]
  },
  {
   "cell_type": "code",
   "execution_count": 30,
   "id": "33945e3f-eed7-400f-be6a-af143d9d648d",
   "metadata": {},
   "outputs": [
    {
     "data": {
      "text/plain": [
       "80640"
      ]
     },
     "execution_count": 30,
     "metadata": {},
     "output_type": "execute_result"
    }
   ],
   "source": [
    "setting_arg(10)"
   ]
  },
  {
   "cell_type": "code",
   "execution_count": 32,
   "id": "a15a9571-3a99-4759-803d-7978086c1525",
   "metadata": {},
   "outputs": [],
   "source": [
    "#An intelligence agency has received reports about some threats. \n",
    "#The reports consist of numbers in a mysterious method. \n",
    "#There is a number “N” and another number “R”. \n",
    "#Those numbers are studied thoroughly and it is concluded that all digits of the number ‘N’ are summed up and this action is performed ‘R’ number of times. \n",
    "#The resultant is also a single digit that is yet to be deciphered. \n",
    "#The task here is to find the single-digit sum of the given number ‘N’ by repeating the action ‘R’ number of times.\n",
    "#If the value of ‘R’ is 0, print the output as ‘0’.\n",
    "\n",
    "def sum_digits(n):\n",
    "    s = 0\n",
    "    for digit in str(n):\n",
    "        s += int(digit)\n",
    "    return s\n",
    "\n",
    "def repeat_sum(N, R):\n",
    "    if R == 0:\n",
    "        return 0\n",
    "\n",
    "    result = sum_digits(N)\n",
    "\n",
    "    for _ in range(R - 1):\n",
    "        result = sum_digits(result)\n",
    "\n",
    "    return result"
   ]
  },
  {
   "cell_type": "code",
   "execution_count": 38,
   "id": "5581b425-311f-44f3-b3da-ff96c6b90e92",
   "metadata": {},
   "outputs": [
    {
     "data": {
      "text/plain": [
       "6"
      ]
     },
     "execution_count": 38,
     "metadata": {},
     "output_type": "execute_result"
    }
   ],
   "source": [
    "repeat_sum(4758,2)"
   ]
  },
  {
   "cell_type": "code",
   "execution_count": 46,
   "id": "e54058aa-8c3f-4b1a-adc8-5417bf61be55",
   "metadata": {},
   "outputs": [],
   "source": [
    "#Particulate matters are the biggest contributors to Delhi pollution.\n",
    "#The main reason behind the increase in the concentration of PMs include vehicle emission by applying Odd Even concept for all types of vehicles.\n",
    "#The vehicles with the odd last digit in the registration number will be allowed on roads on odd dates and those with even last digit will on even dates.\n",
    "#Given an integer array a[], contains the last digit of the registration number of N vehicles traveling on date D(a positive integer). \n",
    "#The task is to calculate the total fine collected by the traffic police department from the vehicles violating the rules.\n",
    "\n",
    "def vehicles_last_no(arr,Date,fine_Rs):\n",
    "    fine = 0\n",
    "    for digit in arr:\n",
    "        if Date%2==0:\n",
    "            if digit % 2 != 0:\n",
    "                fine += fine_Rs \n",
    "        else:\n",
    "            if digit % 2 == 0:\n",
    "                fine += fine_Rs \n",
    "    print(\"total fine collected =\",fine)\n",
    "        \n",
    "            "
   ]
  },
  {
   "cell_type": "code",
   "execution_count": 48,
   "id": "2c702d02-3f47-467b-b102-192fac1c3349",
   "metadata": {},
   "outputs": [
    {
     "name": "stdout",
     "output_type": "stream",
     "text": [
      "total fine collected = 600\n"
     ]
    }
   ],
   "source": [
    "vehicles_last_no([1,2,3,4,5,6],23,200)"
   ]
  },
  {
   "cell_type": "code",
   "execution_count": 50,
   "id": "891be5c7-70b6-4fdb-b9a1-f1ade8aa8c6e",
   "metadata": {},
   "outputs": [],
   "source": [
    "#A chocolate factory is packing chocolates into the packets. The chocolate packets here represent an array  of N number of integer values.\n",
    "#The task is to find the empty packets(0) of chocolate and push it to the end of the conveyor belt(array).\n",
    "\n",
    "def empty_packet(arr):\n",
    "    conveyor_belt=[]\n",
    "    for num in arr:\n",
    "        if num ==0:\n",
    "            conveyor_belt.append(num)\n",
    "    print(conveyor_belt)"
   ]
  },
  {
   "cell_type": "code",
   "execution_count": 52,
   "id": "1ea7c937-66d1-4f87-bd6b-8d539b7634ea",
   "metadata": {},
   "outputs": [
    {
     "name": "stdout",
     "output_type": "stream",
     "text": [
      "[0, 0, 0, 0]\n"
     ]
    }
   ],
   "source": [
    "empty_packet([1,2,5,0,7,6,0,4,0,0,5])"
   ]
  },
  {
   "cell_type": "code",
   "execution_count": 54,
   "id": "0d2fc32c-2e34-417a-88ac-1838469a8271",
   "metadata": {},
   "outputs": [],
   "source": [
    "#Joseph is learning digital logic subject which will be for his next semester. He usually tries to solve unit assignment problems before the lecture. \n",
    "#Today he got one tricky question. The problem statement is “A positive integer has been given as an input. \n",
    "#Convert decimal value to binary representation. Toggle all bits of it after the most significant bit including the most significant bit. \n",
    "#Print the positive integer value after toggling all bits”.\n",
    "def toggle_bits(n):\n",
    "    # Step 1: Find number of bits in binary (excluding '0b' prefix)\n",
    "    num_bits = n.bit_length()\n",
    "    \n",
    "    # Step 2: Create a mask of all 1s of same length as n\n",
    "    mask = (1 << num_bits) - 1   # example: for 5 (101), mask is 111 (7)\n",
    "\n",
    "    # Step 3: Toggle bits using XOR\n",
    "    toggled = n ^ mask\n",
    "    print(toggled)\n"
   ]
  },
  {
   "cell_type": "code",
   "execution_count": 56,
   "id": "642477b2-7d84-48cc-a9e5-2c506b8afd17",
   "metadata": {},
   "outputs": [
    {
     "name": "stdout",
     "output_type": "stream",
     "text": [
      "5\n"
     ]
    }
   ],
   "source": [
    "toggle_bits(10)"
   ]
  },
  {
   "cell_type": "code",
   "execution_count": 58,
   "id": "d3237240-988a-4959-85aa-fe443fd1382c",
   "metadata": {},
   "outputs": [],
   "source": [
    "#Jack is always excited about sunday. It is favourite day, when he gets to play all day. And goes to cycling with his friends. \n",
    "#So every time when the months starts he counts the number of sundays he will get to enjoy. \n",
    "#Considering the month can start with any day, be it Sunday, Monday…. Or so on.\n",
    "#Count the number of Sunday jack will get within n number of days.\n",
    "\n",
    "def count_sundays(n, start_day):\n",
    "    days = [\"Mon\", \"Tue\", \"Wed\", \"Thu\", \"Fri\", \"Sat\", \"Sun\"]\n",
    "    start_index = days.index(start_day)\n",
    "    sun_count = 0\n",
    "\n",
    "    for i in range(n):\n",
    "        day = (start_index + i) % 7\n",
    "        if days[day] == \"Sun\":\n",
    "            sun_count += 1\n",
    "\n",
    "    print(sun_count)"
   ]
  },
  {
   "cell_type": "code",
   "execution_count": 60,
   "id": "9c6700de-3a06-499b-b1ac-3af49f87cd33",
   "metadata": {},
   "outputs": [
    {
     "name": "stdout",
     "output_type": "stream",
     "text": [
      "7\n"
     ]
    }
   ],
   "source": [
    "count_sundays(52,\"Mon\")"
   ]
  },
  {
   "cell_type": "code",
   "execution_count": 62,
   "id": "f3d66ca8-6549-490d-8def-ad59c0e4210e",
   "metadata": {},
   "outputs": [],
   "source": [
    "#Airport security officials have confiscated several item of the passengers at the security check point.\n",
    "#All the items have been dumped into a huge box (array). Each item possesses a certain amount of risk[0,1,2].\n",
    "#Here, the risk severity of the items represent an array[] of N number of integer values.\n",
    "#The task here is to sort the items based on their levels of risk in the array. The risk values range from 0 to 2.\n",
    "\n",
    "def sort_risk(arr):\n",
    "    safe = []\n",
    "    medium = []\n",
    "    risk = []\n",
    "    for item in arr:\n",
    "        if item == 0:\n",
    "            safe.append(0)\n",
    "        elif item == 1:\n",
    "            medium.append(1)\n",
    "        elif item == 2:\n",
    "            risk.append(2)\n",
    "    print(safe)\n",
    "    print(medium)\n",
    "    print(risk)"
   ]
  },
  {
   "cell_type": "code",
   "execution_count": 64,
   "id": "621d94fb-ff8e-4304-8978-11699ecb21c8",
   "metadata": {},
   "outputs": [
    {
     "name": "stdout",
     "output_type": "stream",
     "text": [
      "[0, 0]\n",
      "[1, 1]\n",
      "[2]\n"
     ]
    }
   ],
   "source": [
    "sort_risk([0,1,2,0,1])"
   ]
  },
  {
   "cell_type": "code",
   "execution_count": 66,
   "id": "cc7640fc-d46a-4707-b8fc-e6a6df5bfcc5",
   "metadata": {},
   "outputs": [],
   "source": [
    "#Given an integer array Arr of size N the task is to find the count of elements whose value is greater than all of its prior elements.\n",
    "#Note : 1st element of the array should be considered in the count of the result.\n",
    "\n",
    "def greater_no(arr):\n",
    "    count = 0\n",
    "    for i in arr:\n",
    "        if i > arr[0]:   # Corrected comparison using 'i'\n",
    "            count += 1\n",
    "    print(count)"
   ]
  },
  {
   "cell_type": "code",
   "execution_count": 68,
   "id": "e006df0e-a00d-457a-bb5c-b5d909fb4770",
   "metadata": {},
   "outputs": [
    {
     "name": "stdout",
     "output_type": "stream",
     "text": [
      "15\n"
     ]
    }
   ],
   "source": [
    "greater_no([1,2,55,99,44,88,66,2,4,5,6,9,101,5,4,87])"
   ]
  },
  {
   "cell_type": "code",
   "execution_count": 70,
   "id": "8988f797-c837-496b-9a3d-29f511b4d28c",
   "metadata": {},
   "outputs": [],
   "source": [
    "#A supermarket maintains a pricing format for all its products.\n",
    "#A value N is printed on each product. \n",
    "#When the scanner reads the value N on the item, the product of all the digits in the value N is the price of the item.\n",
    "#The task here is to design the software such that given the code of any item N the product (multiplication) of all the digits of value should be computed(price).\n",
    "\n",
    "def get_price(n):\n",
    "    product = 1\n",
    "    for digit in str(n):\n",
    "        product *= int(digit)\n",
    "    print(product)"
   ]
  },
  {
   "cell_type": "code",
   "execution_count": 72,
   "id": "25f49ff2-3521-4ab5-85c0-fd85cf39c8be",
   "metadata": {},
   "outputs": [
    {
     "name": "stdout",
     "output_type": "stream",
     "text": [
      "35\n"
     ]
    }
   ],
   "source": [
    "get_price(157)"
   ]
  },
  {
   "cell_type": "code",
   "execution_count": 74,
   "id": "7562346d-1a6e-40b7-a405-207660c5b9d1",
   "metadata": {},
   "outputs": [],
   "source": [
    "#A furnishing company is manufacturing a new collection of curtains. The curtains are of two colors aqua(a) and black (b). \n",
    "#The curtains color is represented as a string(str) consisting of a’s and b’s of length N. \n",
    "#Then, they are packed (substring) into L number of curtains in each box. The box with the maximum number of ‘aqua’ (a) color curtains is labeled. \n",
    "#The task here is to find the number of ‘aqua’ color curtains in the labeled box.\n",
    "\n",
    "def count_a_in_box(text, size):\n",
    "    biggest = 0\n",
    "\n",
    "    for i in range(len(text) - size + 1):\n",
    "        box = text[i:i+size]\n",
    "        how_many_a = box.count('a')\n",
    "\n",
    "        if how_many_a > biggest:\n",
    "            biggest = how_many_a\n",
    "\n",
    "    return biggest\n"
   ]
  },
  {
   "cell_type": "code",
   "execution_count": 76,
   "id": "9925808f-9244-4127-8cc9-435aeec52ac1",
   "metadata": {},
   "outputs": [
    {
     "data": {
      "text/plain": [
       "4"
      ]
     },
     "execution_count": 76,
     "metadata": {},
     "output_type": "execute_result"
    }
   ],
   "source": [
    "count_a_in_box(\"bbaaaaaabbbaaaabbaaabab\",4)"
   ]
  },
  {
   "cell_type": "code",
   "execution_count": null,
   "id": "797bf295-e861-4fc6-9116-78781d894b65",
   "metadata": {},
   "outputs": [],
   "source": []
  }
 ],
 "metadata": {
  "kernelspec": {
   "display_name": "Python [conda env:base] *",
   "language": "python",
   "name": "conda-base-py"
  },
  "language_info": {
   "codemirror_mode": {
    "name": "ipython",
    "version": 3
   },
   "file_extension": ".py",
   "mimetype": "text/x-python",
   "name": "python",
   "nbconvert_exporter": "python",
   "pygments_lexer": "ipython3",
   "version": "3.11.7"
  }
 },
 "nbformat": 4,
 "nbformat_minor": 5
}
