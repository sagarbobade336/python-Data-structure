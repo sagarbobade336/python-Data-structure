{
 "cells": [
  {
   "cell_type": "code",
   "execution_count": 161,
   "id": "29dba794-6bd2-4e2a-be23-b0779add8c94",
   "metadata": {},
   "outputs": [],
   "source": [
    "import numpy as np"
   ]
  },
  {
   "cell_type": "code",
   "execution_count": 7,
   "id": "0a55518b-6c96-4868-a4a9-37944b67dc58",
   "metadata": {},
   "outputs": [
    {
     "name": "stdout",
     "output_type": "stream",
     "text": [
      "[1 2 3 4 5 6] <class 'numpy.ndarray'>\n"
     ]
    }
   ],
   "source": [
    "# 1 dimensional array\n",
    "a=np.array([1,2,3,4,5,6])\n",
    "print(a,type (a))"
   ]
  },
  {
   "cell_type": "code",
   "execution_count": 9,
   "id": "ad850cbf-e1ba-4583-b13d-389d42c7e34c",
   "metadata": {},
   "outputs": [
    {
     "name": "stdout",
     "output_type": "stream",
     "text": [
      "[[1 2 3 4]\n",
      " [4 5 6 7]] <class 'numpy.ndarray'>\n"
     ]
    }
   ],
   "source": [
    "# 2 dimensional array\n",
    "b=np.array([[1,2,3,4],[4,5,6,7]])\n",
    "print(b,type(b))"
   ]
  },
  {
   "cell_type": "code",
   "execution_count": 11,
   "id": "2bc05156-5512-4344-b3b0-9097cf002b6b",
   "metadata": {},
   "outputs": [
    {
     "name": "stdout",
     "output_type": "stream",
     "text": [
      "[[[1 2 3]\n",
      "  [4 5 6]\n",
      "  [7 8 9]]] <class 'numpy.ndarray'>\n"
     ]
    }
   ],
   "source": [
    "# 3 dimensional array\n",
    "c=np.array([[[1,2,3],[4,5,6],[7,8,9]]])\n",
    "print(c,type(c))"
   ]
  },
  {
   "cell_type": "code",
   "execution_count": null,
   "id": "61d71521-2165-4efb-9a03-f25292a30541",
   "metadata": {},
   "outputs": [],
   "source": []
  },
  {
   "cell_type": "markdown",
   "id": "02fb0c7a-e37a-4d87-825a-55bb73b9d8d3",
   "metadata": {},
   "source": [
    "size = Tell me about No. of element in array"
   ]
  },
  {
   "cell_type": "code",
   "execution_count": 14,
   "id": "17f5b004-543e-434a-916f-823dfad9c77f",
   "metadata": {},
   "outputs": [
    {
     "name": "stdout",
     "output_type": "stream",
     "text": [
      "6\n",
      "8\n",
      "9\n"
     ]
    }
   ],
   "source": [
    "print(a.size)\n",
    "print(b.size)\n",
    "print(c.size)"
   ]
  },
  {
   "cell_type": "code",
   "execution_count": null,
   "id": "83cbdf5b-bfc9-4a11-a48e-23557f10efd8",
   "metadata": {},
   "outputs": [],
   "source": []
  },
  {
   "cell_type": "markdown",
   "id": "c4fe8536-32c8-44e6-b167-72008396b061",
   "metadata": {},
   "source": [
    "dir() = show what function will be performed by array "
   ]
  },
  {
   "cell_type": "code",
   "execution_count": 16,
   "id": "ae9457d4-7358-428d-89f5-dfb56dd34aa7",
   "metadata": {},
   "outputs": [
    {
     "data": {
      "text/plain": [
       "['T',\n",
       " '__abs__',\n",
       " '__add__',\n",
       " '__and__',\n",
       " '__array__',\n",
       " '__array_finalize__',\n",
       " '__array_function__',\n",
       " '__array_interface__',\n",
       " '__array_prepare__',\n",
       " '__array_priority__',\n",
       " '__array_struct__',\n",
       " '__array_ufunc__',\n",
       " '__array_wrap__',\n",
       " '__bool__',\n",
       " '__class__',\n",
       " '__class_getitem__',\n",
       " '__complex__',\n",
       " '__contains__',\n",
       " '__copy__',\n",
       " '__deepcopy__',\n",
       " '__delattr__',\n",
       " '__delitem__',\n",
       " '__dir__',\n",
       " '__divmod__',\n",
       " '__dlpack__',\n",
       " '__dlpack_device__',\n",
       " '__doc__',\n",
       " '__eq__',\n",
       " '__float__',\n",
       " '__floordiv__',\n",
       " '__format__',\n",
       " '__ge__',\n",
       " '__getattribute__',\n",
       " '__getitem__',\n",
       " '__getstate__',\n",
       " '__gt__',\n",
       " '__hash__',\n",
       " '__iadd__',\n",
       " '__iand__',\n",
       " '__ifloordiv__',\n",
       " '__ilshift__',\n",
       " '__imatmul__',\n",
       " '__imod__',\n",
       " '__imul__',\n",
       " '__index__',\n",
       " '__init__',\n",
       " '__init_subclass__',\n",
       " '__int__',\n",
       " '__invert__',\n",
       " '__ior__',\n",
       " '__ipow__',\n",
       " '__irshift__',\n",
       " '__isub__',\n",
       " '__iter__',\n",
       " '__itruediv__',\n",
       " '__ixor__',\n",
       " '__le__',\n",
       " '__len__',\n",
       " '__lshift__',\n",
       " '__lt__',\n",
       " '__matmul__',\n",
       " '__mod__',\n",
       " '__mul__',\n",
       " '__ne__',\n",
       " '__neg__',\n",
       " '__new__',\n",
       " '__or__',\n",
       " '__pos__',\n",
       " '__pow__',\n",
       " '__radd__',\n",
       " '__rand__',\n",
       " '__rdivmod__',\n",
       " '__reduce__',\n",
       " '__reduce_ex__',\n",
       " '__repr__',\n",
       " '__rfloordiv__',\n",
       " '__rlshift__',\n",
       " '__rmatmul__',\n",
       " '__rmod__',\n",
       " '__rmul__',\n",
       " '__ror__',\n",
       " '__rpow__',\n",
       " '__rrshift__',\n",
       " '__rshift__',\n",
       " '__rsub__',\n",
       " '__rtruediv__',\n",
       " '__rxor__',\n",
       " '__setattr__',\n",
       " '__setitem__',\n",
       " '__setstate__',\n",
       " '__sizeof__',\n",
       " '__str__',\n",
       " '__sub__',\n",
       " '__subclasshook__',\n",
       " '__truediv__',\n",
       " '__xor__',\n",
       " 'all',\n",
       " 'any',\n",
       " 'argmax',\n",
       " 'argmin',\n",
       " 'argpartition',\n",
       " 'argsort',\n",
       " 'astype',\n",
       " 'base',\n",
       " 'byteswap',\n",
       " 'choose',\n",
       " 'clip',\n",
       " 'compress',\n",
       " 'conj',\n",
       " 'conjugate',\n",
       " 'copy',\n",
       " 'ctypes',\n",
       " 'cumprod',\n",
       " 'cumsum',\n",
       " 'data',\n",
       " 'diagonal',\n",
       " 'dot',\n",
       " 'dtype',\n",
       " 'dump',\n",
       " 'dumps',\n",
       " 'fill',\n",
       " 'flags',\n",
       " 'flat',\n",
       " 'flatten',\n",
       " 'getfield',\n",
       " 'imag',\n",
       " 'item',\n",
       " 'itemset',\n",
       " 'itemsize',\n",
       " 'max',\n",
       " 'mean',\n",
       " 'min',\n",
       " 'nbytes',\n",
       " 'ndim',\n",
       " 'newbyteorder',\n",
       " 'nonzero',\n",
       " 'partition',\n",
       " 'prod',\n",
       " 'ptp',\n",
       " 'put',\n",
       " 'ravel',\n",
       " 'real',\n",
       " 'repeat',\n",
       " 'reshape',\n",
       " 'resize',\n",
       " 'round',\n",
       " 'searchsorted',\n",
       " 'setfield',\n",
       " 'setflags',\n",
       " 'shape',\n",
       " 'size',\n",
       " 'sort',\n",
       " 'squeeze',\n",
       " 'std',\n",
       " 'strides',\n",
       " 'sum',\n",
       " 'swapaxes',\n",
       " 'take',\n",
       " 'tobytes',\n",
       " 'tofile',\n",
       " 'tolist',\n",
       " 'tostring',\n",
       " 'trace',\n",
       " 'transpose',\n",
       " 'var',\n",
       " 'view']"
      ]
     },
     "execution_count": 16,
     "metadata": {},
     "output_type": "execute_result"
    }
   ],
   "source": [
    "dir(a)"
   ]
  },
  {
   "cell_type": "code",
   "execution_count": null,
   "id": "7e46147a-389e-4d7f-9826-029941ec4f5c",
   "metadata": {},
   "outputs": [],
   "source": []
  },
  {
   "cell_type": "markdown",
   "id": "d78a4ec5-6144-4593-b0b8-ba54edcf1611",
   "metadata": {},
   "source": [
    "shape = (rows,colume)"
   ]
  },
  {
   "cell_type": "code",
   "execution_count": 20,
   "id": "0e39932f-343b-43bd-b920-e83f98c9b1fd",
   "metadata": {},
   "outputs": [
    {
     "name": "stdout",
     "output_type": "stream",
     "text": [
      "(6,)\n",
      "(2, 4)\n",
      "(1, 3, 3)\n"
     ]
    }
   ],
   "source": [
    "print(a.shape)\n",
    "print(b.shape)\n",
    "print(c.shape)"
   ]
  },
  {
   "cell_type": "code",
   "execution_count": null,
   "id": "fa88fdc1-9ba6-47a7-9107-22664662bb07",
   "metadata": {},
   "outputs": [],
   "source": []
  },
  {
   "cell_type": "markdown",
   "id": "74868391-c9eb-4bfb-aa97-41616225d752",
   "metadata": {},
   "source": [
    "dtype = Type of data present in array"
   ]
  },
  {
   "cell_type": "code",
   "execution_count": 26,
   "id": "e1dfc6d3-39be-456f-bb92-b43bdd33a1c4",
   "metadata": {},
   "outputs": [
    {
     "name": "stdout",
     "output_type": "stream",
     "text": [
      "int32\n",
      "int32\n",
      "int32\n"
     ]
    }
   ],
   "source": [
    "print(a.dtype)\n",
    "print(b.dtype)\n",
    "print(c.dtype)"
   ]
  },
  {
   "cell_type": "code",
   "execution_count": null,
   "id": "05779965-d9f3-4a38-9943-682d08b075e0",
   "metadata": {},
   "outputs": [],
   "source": []
  },
  {
   "cell_type": "markdown",
   "id": "ecc6cdc5-070e-4ac8-ba73-33a7d1a07830",
   "metadata": {},
   "source": [
    "transpose() = which replace rows in colume and colume in rows"
   ]
  },
  {
   "cell_type": "code",
   "execution_count": 29,
   "id": "0d8f3b37-bc34-4381-ada1-bf1262415075",
   "metadata": {},
   "outputs": [
    {
     "data": {
      "text/plain": [
       "array([[[1, 2, 3],\n",
       "        [4, 5, 6],\n",
       "        [7, 8, 9]]])"
      ]
     },
     "execution_count": 29,
     "metadata": {},
     "output_type": "execute_result"
    }
   ],
   "source": [
    "c"
   ]
  },
  {
   "cell_type": "code",
   "execution_count": 33,
   "id": "4178cd2b-784f-43d2-a1e3-a25408c87a22",
   "metadata": {},
   "outputs": [
    {
     "data": {
      "text/plain": [
       "array([[[1],\n",
       "        [4],\n",
       "        [7]],\n",
       "\n",
       "       [[2],\n",
       "        [5],\n",
       "        [8]],\n",
       "\n",
       "       [[3],\n",
       "        [6],\n",
       "        [9]]])"
      ]
     },
     "execution_count": 33,
     "metadata": {},
     "output_type": "execute_result"
    }
   ],
   "source": [
    "c.transpose()"
   ]
  },
  {
   "cell_type": "code",
   "execution_count": 163,
   "id": "18eab60b-9176-4e46-a68c-c09517bb8b9d",
   "metadata": {},
   "outputs": [
    {
     "data": {
      "text/plain": [
       "1"
      ]
     },
     "execution_count": 163,
     "metadata": {},
     "output_type": "execute_result"
    }
   ],
   "source": [
    "c.min()"
   ]
  },
  {
   "cell_type": "code",
   "execution_count": 165,
   "id": "6676a914-6617-4bd1-9ceb-a646e9e40690",
   "metadata": {},
   "outputs": [
    {
     "data": {
      "text/plain": [
       "9"
      ]
     },
     "execution_count": 165,
     "metadata": {},
     "output_type": "execute_result"
    }
   ],
   "source": [
    "c.max()"
   ]
  },
  {
   "cell_type": "markdown",
   "id": "ca61b01e-d96b-467d-a178-116e4cb1f2c6",
   "metadata": {},
   "source": [
    "np.empty((rows,cols),dtype)  it is use to get random array of givn dtype"
   ]
  },
  {
   "cell_type": "code",
   "execution_count": 51,
   "id": "56350fe8-004e-4fb2-acf9-c834de2faedc",
   "metadata": {},
   "outputs": [
    {
     "data": {
      "text/plain": [
       "array([[3801155, 5570652, 6619251, 7536754],\n",
       "       [4259932, 7143524, 7209065, 4259932],\n",
       "       [7340144, 6357060, 6357108, 4980828],\n",
       "       [6488175, 7077985, 5505116, 7143525]])"
      ]
     },
     "execution_count": 51,
     "metadata": {},
     "output_type": "execute_result"
    }
   ],
   "source": [
    "np.empty((4,4),dtype=int)"
   ]
  },
  {
   "cell_type": "code",
   "execution_count": null,
   "id": "1791e365-4476-47c1-a506-b26405b596dd",
   "metadata": {},
   "outputs": [],
   "source": []
  },
  {
   "cell_type": "markdown",
   "id": "782f5380-c04e-4490-900d-c9503b99ca96",
   "metadata": {},
   "source": [
    "np.ones((rows,cols),dtype)  it well show \"1\" in array"
   ]
  },
  {
   "cell_type": "code",
   "execution_count": 63,
   "id": "24620c16-dca6-4235-8db4-b650cd8864fa",
   "metadata": {},
   "outputs": [
    {
     "name": "stdout",
     "output_type": "stream",
     "text": [
      "[1. 1. 1. 1. 1.]\n"
     ]
    }
   ],
   "source": [
    "x = np.ones(5) #by default dtype is float\n",
    "print(x)"
   ]
  },
  {
   "cell_type": "code",
   "execution_count": 65,
   "id": "a62fb1cb-6dca-4bcd-8a32-421cf2eb7e63",
   "metadata": {},
   "outputs": [
    {
     "name": "stdout",
     "output_type": "stream",
     "text": [
      "[[1 1 1 1 1]\n",
      " [1 1 1 1 1]\n",
      " [1 1 1 1 1]]\n"
     ]
    }
   ],
   "source": [
    "y = np.ones((3,5),dtype=int)\n",
    "print(y)"
   ]
  },
  {
   "cell_type": "code",
   "execution_count": null,
   "id": "66328766-8569-4f18-858b-75a1f599e5c7",
   "metadata": {},
   "outputs": [],
   "source": []
  },
  {
   "cell_type": "markdown",
   "id": "b7e5bf3e-e497-4f21-8c7c-8a8fdcba1b0b",
   "metadata": {},
   "source": [
    "np.zeros((rows,cols),dtype)  it is simmilar to ones"
   ]
  },
  {
   "cell_type": "code",
   "execution_count": 79,
   "id": "5893e7b4-257c-47c7-8408-15e1906124be",
   "metadata": {},
   "outputs": [
    {
     "name": "stdout",
     "output_type": "stream",
     "text": [
      "[[0 0 0 0 0]\n",
      " [0 0 0 0 0]\n",
      " [0 0 0 0 0]\n",
      " [0 0 0 0 0]] <class 'numpy.ndarray'>\n",
      "20\n",
      "(4, 5)\n",
      "2\n"
     ]
    }
   ],
   "source": [
    "v =np.zeros((rows,cols),dtype)\n",
    "print(v,type(v))\n",
    "print(v.size)\n",
    "print(v.shape)\n",
    "print(v.ndim)"
   ]
  },
  {
   "cell_type": "code",
   "execution_count": 85,
   "id": "36c3f597-472b-413c-975a-ad346cc86a19",
   "metadata": {},
   "outputs": [
    {
     "name": "stdout",
     "output_type": "stream",
     "text": [
      "[['' '' '' '']\n",
      " ['' '' '' '']\n",
      " ['' '' '' '']\n",
      " ['' '' '' '']\n",
      " ['' '' '' '']]\n"
     ]
    }
   ],
   "source": [
    "s=np.zeros((5,4),dtype=str)\n",
    "print(s)"
   ]
  },
  {
   "cell_type": "code",
   "execution_count": 91,
   "id": "1b28d384-7c1d-4775-b53e-4265631ad7b4",
   "metadata": {},
   "outputs": [
    {
     "data": {
      "text/plain": [
       "array([['1', '1', '1', '1', '1'],\n",
       "       ['1', '1', '1', '1', '1'],\n",
       "       ['1', '1', '1', '1', '1'],\n",
       "       ['1', '1', '1', '1', '1']], dtype='<U1')"
      ]
     },
     "execution_count": 91,
     "metadata": {},
     "output_type": "execute_result"
    }
   ],
   "source": [
    "np.ones((4,5),dtype=str)"
   ]
  },
  {
   "cell_type": "code",
   "execution_count": 87,
   "id": "d78d7f1b-8a76-4b74-95ae-21a5ef0bb115",
   "metadata": {},
   "outputs": [
    {
     "data": {
      "text/plain": [
       "array([[False, False, False, False, False],\n",
       "       [False, False, False, False, False],\n",
       "       [False, False, False, False, False],\n",
       "       [False, False, False, False, False]])"
      ]
     },
     "execution_count": 87,
     "metadata": {},
     "output_type": "execute_result"
    }
   ],
   "source": [
    "np.zeros((4,5),dtype=bool)"
   ]
  },
  {
   "cell_type": "code",
   "execution_count": 89,
   "id": "fbeecfb0-faa1-425b-8ff2-77671787c487",
   "metadata": {},
   "outputs": [
    {
     "data": {
      "text/plain": [
       "array([[ True,  True,  True,  True,  True],\n",
       "       [ True,  True,  True,  True,  True],\n",
       "       [ True,  True,  True,  True,  True],\n",
       "       [ True,  True,  True,  True,  True]])"
      ]
     },
     "execution_count": 89,
     "metadata": {},
     "output_type": "execute_result"
    }
   ],
   "source": [
    "np.ones((4,5),dtype=bool)"
   ]
  },
  {
   "cell_type": "code",
   "execution_count": null,
   "id": "4e2c59ad-500d-4808-8f45-917c5c4311e7",
   "metadata": {},
   "outputs": [],
   "source": []
  },
  {
   "cell_type": "markdown",
   "id": "e08daf83-f69e-4756-b55a-7a4f731e5a15",
   "metadata": {},
   "source": [
    "np.arange(start,end,step)  it is like range in array"
   ]
  },
  {
   "cell_type": "code",
   "execution_count": 98,
   "id": "6a1a98db-f9ae-4eaa-ba8b-86ebccd5580f",
   "metadata": {},
   "outputs": [
    {
     "name": "stdout",
     "output_type": "stream",
     "text": [
      "[ 1  2  3  4  5  6  7  8  9 10 11 12 13 14 15 16 17 18 19] <class 'numpy.ndarray'>\n",
      "1\n"
     ]
    }
   ],
   "source": [
    "d = np.arange(1,20)\n",
    "print(d,type(d))\n",
    "print(d.ndim)"
   ]
  },
  {
   "cell_type": "code",
   "execution_count": 102,
   "id": "e8ab2872-5671-40e4-b1c7-8e956c84c7fd",
   "metadata": {},
   "outputs": [
    {
     "name": "stdout",
     "output_type": "stream",
     "text": [
      "[ 1  3  5  7  9 11 13 15 17 19]\n"
     ]
    }
   ],
   "source": [
    "d = np.arange(1,20,2)\n",
    "print(d)"
   ]
  },
  {
   "cell_type": "code",
   "execution_count": 106,
   "id": "5e19f3d8-1f1b-491e-a0a3-a88520d8f70c",
   "metadata": {},
   "outputs": [
    {
     "name": "stdout",
     "output_type": "stream",
     "text": [
      "[ 2  4  6  8 10 12 14 16 18]\n"
     ]
    }
   ],
   "source": [
    "d = np.arange(2,20,2)\n",
    "print(d)"
   ]
  },
  {
   "cell_type": "code",
   "execution_count": null,
   "id": "9a171c31-c094-4cb6-b5fe-fb8563df73d4",
   "metadata": {},
   "outputs": [],
   "source": []
  },
  {
   "cell_type": "markdown",
   "id": "680f6b3f-9dc6-487e-a1a5-605b4dc5b856",
   "metadata": {},
   "source": [
    "reshape((rows,cols)) = it convert rows and colume"
   ]
  },
  {
   "cell_type": "code",
   "execution_count": 111,
   "id": "7d8e6b92-a8c3-46b5-a74c-294c9381b347",
   "metadata": {},
   "outputs": [
    {
     "data": {
      "text/plain": [
       "array([[ 2,  4,  6],\n",
       "       [ 8, 10, 12],\n",
       "       [14, 16, 18]])"
      ]
     },
     "execution_count": 111,
     "metadata": {},
     "output_type": "execute_result"
    }
   ],
   "source": [
    "d.reshape((3,3))"
   ]
  },
  {
   "cell_type": "code",
   "execution_count": null,
   "id": "3605cb36-f9a6-4cf5-9491-c9cb3ee118f7",
   "metadata": {},
   "outputs": [],
   "source": []
  },
  {
   "cell_type": "markdown",
   "id": "a01e2df7-47b3-4784-b691-d6c693ffb383",
   "metadata": {},
   "source": [
    "Slicing also perform in numpy array"
   ]
  },
  {
   "cell_type": "code",
   "execution_count": 117,
   "id": "207f018a-27ab-4790-b535-8c2dab8da87c",
   "metadata": {},
   "outputs": [
    {
     "name": "stdout",
     "output_type": "stream",
     "text": [
      "[[ 1  2  3  4  5]\n",
      " [ 6  7  8  9 10]\n",
      " [11 12 13 14 15]\n",
      " [16 17 18 19 20]\n",
      " [21 22 23 24 25]\n",
      " [26 27 28 29 30]\n",
      " [31 32 33 34 35]\n",
      " [36 37 38 39 40]\n",
      " [41 42 43 44 45]\n",
      " [46 47 48 49 50]]\n"
     ]
    }
   ],
   "source": [
    "g=np.arange(1,51)\n",
    "g=g.reshape(10,5)\n",
    "print(g)"
   ]
  },
  {
   "cell_type": "code",
   "execution_count": 129,
   "id": "8009c7c6-ef30-487f-9f58-bd2b842f984f",
   "metadata": {},
   "outputs": [],
   "source": [
    "g[1][3]=99"
   ]
  },
  {
   "cell_type": "code",
   "execution_count": 131,
   "id": "69bb7db4-fad7-4b40-8413-58af64e5ac41",
   "metadata": {},
   "outputs": [
    {
     "data": {
      "text/plain": [
       "array([ 6,  7,  8, 99, 10])"
      ]
     },
     "execution_count": 131,
     "metadata": {},
     "output_type": "execute_result"
    }
   ],
   "source": [
    "g[1]"
   ]
  },
  {
   "cell_type": "code",
   "execution_count": 133,
   "id": "5923b30b-fd5e-41ad-85cf-675763fb4f04",
   "metadata": {},
   "outputs": [
    {
     "data": {
      "text/plain": [
       "array([[ 1,  2,  3,  4,  5],\n",
       "       [ 6,  7,  8, 99, 10],\n",
       "       [11, 12, 13, 14, 15],\n",
       "       [16, 17, 18, 19, 20],\n",
       "       [21, 22, 23, 24, 25],\n",
       "       [26, 27, 28, 29, 30],\n",
       "       [31, 32, 33, 34, 35],\n",
       "       [36, 37, 38, 39, 40],\n",
       "       [41, 42, 43, 44, 45],\n",
       "       [46, 47, 48, 49, 50]])"
      ]
     },
     "execution_count": 133,
     "metadata": {},
     "output_type": "execute_result"
    }
   ],
   "source": [
    "g"
   ]
  },
  {
   "cell_type": "markdown",
   "id": "2a91f22a-fc04-44d3-931c-90d4c103515e",
   "metadata": {},
   "source": [
    "Numpy String operation"
   ]
  },
  {
   "cell_type": "code",
   "execution_count": 141,
   "id": "d6b578d8-4f75-432b-b564-64084c2872d9",
   "metadata": {},
   "outputs": [],
   "source": [
    "s1=\"sagar is my name. \"\n",
    "s2=\"I am an indian\""
   ]
  },
  {
   "cell_type": "code",
   "execution_count": 143,
   "id": "3f6a3d66-12c3-4d77-be39-9fdd811be0ef",
   "metadata": {},
   "outputs": [
    {
     "data": {
      "text/plain": [
       "array('sagar is my name. I am an indian', dtype='<U32')"
      ]
     },
     "execution_count": 143,
     "metadata": {},
     "output_type": "execute_result"
    }
   ],
   "source": [
    "np.char.add(s1,s2)"
   ]
  },
  {
   "cell_type": "code",
   "execution_count": 149,
   "id": "0d7fdd04-d786-4dbd-b922-bee574015a5c",
   "metadata": {},
   "outputs": [
    {
     "name": "stdout",
     "output_type": "stream",
     "text": [
      "SAGAR IS MY NAME. \n"
     ]
    }
   ],
   "source": [
    "a = np.char.upper(s1)  #convert into Upper alphabate\n",
    "print(a)"
   ]
  },
  {
   "cell_type": "code",
   "execution_count": 151,
   "id": "2b463808-9ac8-47e2-af12-ba39af02c770",
   "metadata": {},
   "outputs": [
    {
     "data": {
      "text/plain": [
       "array('sagar is my name. ', dtype='<U18')"
      ]
     },
     "execution_count": 151,
     "metadata": {},
     "output_type": "execute_result"
    }
   ],
   "source": [
    "np.char.lower(a)  #convert into Lower alphabate"
   ]
  },
  {
   "cell_type": "code",
   "execution_count": 153,
   "id": "89fa0301-01a0-4fa1-a726-f4bb725387b4",
   "metadata": {},
   "outputs": [
    {
     "data": {
      "text/plain": [
       "array(list(['SAGAR', 'IS', 'MY', 'NAME.']), dtype=object)"
      ]
     },
     "execution_count": 153,
     "metadata": {},
     "output_type": "execute_result"
    }
   ],
   "source": [
    "np.char.split(a)  #convert into list with spliting string"
   ]
  },
  {
   "cell_type": "code",
   "execution_count": 157,
   "id": "509620c7-947f-41d9-8774-9bfc216e0aa9",
   "metadata": {},
   "outputs": [
    {
     "data": {
      "text/plain": [
       "array(list(['sagar is my name. ']), dtype=object)"
      ]
     },
     "execution_count": 157,
     "metadata": {},
     "output_type": "execute_result"
    }
   ],
   "source": [
    "np.char.splitlines(s1)  #convert whole string into list"
   ]
  },
  {
   "cell_type": "code",
   "execution_count": 159,
   "id": "7b615692-bdc8-43d2-887d-671109cd6e73",
   "metadata": {},
   "outputs": [
    {
     "data": {
      "text/plain": [
       "array('Ganesh is my name. ', dtype='<U19')"
      ]
     },
     "execution_count": 159,
     "metadata": {},
     "output_type": "execute_result"
    }
   ],
   "source": [
    "np.char.replace(s1,\"sagar\",\"Ganesh\")"
   ]
  },
  {
   "cell_type": "code",
   "execution_count": null,
   "id": "f00a100c-783b-4e71-b416-d2a9113bc487",
   "metadata": {},
   "outputs": [],
   "source": []
  }
 ],
 "metadata": {
  "kernelspec": {
   "display_name": "Python [conda env:base] *",
   "language": "python",
   "name": "conda-base-py"
  },
  "language_info": {
   "codemirror_mode": {
    "name": "ipython",
    "version": 3
   },
   "file_extension": ".py",
   "mimetype": "text/x-python",
   "name": "python",
   "nbconvert_exporter": "python",
   "pygments_lexer": "ipython3",
   "version": "3.11.7"
  }
 },
 "nbformat": 4,
 "nbformat_minor": 5
}
