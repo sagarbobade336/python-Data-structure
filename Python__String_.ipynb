{
  "nbformat": 4,
  "nbformat_minor": 0,
  "metadata": {
    "colab": {
      "provenance": []
    },
    "kernelspec": {
      "name": "python3",
      "display_name": "Python 3"
    },
    "language_info": {
      "name": "python"
    }
  },
  "cells": [
    {
      "cell_type": "code",
      "execution_count": 1,
      "metadata": {
        "id": "8tvtLd7QENr8"
      },
      "outputs": [],
      "source": [
        "#Declare a string variable containing your name and print it."
      ]
    },
    {
      "cell_type": "code",
      "source": [
        "s=\"Sagar\"\n",
        "print(s)"
      ],
      "metadata": {
        "colab": {
          "base_uri": "https://localhost:8080/"
        },
        "id": "2lq-HrzCFrTb",
        "outputId": "dbab7e86-3702-4a01-e587-b2586c3416ba"
      },
      "execution_count": 2,
      "outputs": [
        {
          "output_type": "stream",
          "name": "stdout",
          "text": [
            "Sagar\n"
          ]
        }
      ]
    },
    {
      "cell_type": "code",
      "source": [
        "#Create a string with your favorite quote and store it in a variable."
      ],
      "metadata": {
        "id": "Iws1rHi-FxuT"
      },
      "execution_count": 3,
      "outputs": []
    },
    {
      "cell_type": "code",
      "source": [
        "favorite_quote = \"The only way to do great work is to love what you do.\"\n",
        "print(favorite_quote)"
      ],
      "metadata": {
        "colab": {
          "base_uri": "https://localhost:8080/"
        },
        "id": "ZY5eFiKMF_68",
        "outputId": "120824ff-bd2a-4aad-e174-0b69d553b5ba"
      },
      "execution_count": 4,
      "outputs": [
        {
          "output_type": "stream",
          "name": "stdout",
          "text": [
            "The only way to do great work is to love what you do.\n"
          ]
        }
      ]
    },
    {
      "cell_type": "code",
      "source": [
        "#Store a multi-line string (using triple quotes) and print it."
      ],
      "metadata": {
        "id": "65dGvyJWG34X"
      },
      "execution_count": 5,
      "outputs": []
    },
    {
      "cell_type": "code",
      "source": [
        "multi_line_string = \"\"\"Python is powerful.\n",
        "It is easy to learn.\n",
        "And it is fun to code!\"\"\"\n",
        "print(multi_line_string)"
      ],
      "metadata": {
        "colab": {
          "base_uri": "https://localhost:8080/"
        },
        "id": "3k8cSveNG8QZ",
        "outputId": "4d25da39-5261-4177-b509-e0183f63296f"
      },
      "execution_count": 6,
      "outputs": [
        {
          "output_type": "stream",
          "name": "stdout",
          "text": [
            "Python is powerful.\n",
            "It is easy to learn.\n",
            "And it is fun to code!\n"
          ]
        }
      ]
    },
    {
      "cell_type": "code",
      "source": [
        "#. Find the length of the string \"Python Programming\"."
      ],
      "metadata": {
        "id": "P0iTRtHCHAHx"
      },
      "execution_count": 7,
      "outputs": []
    },
    {
      "cell_type": "code",
      "source": [
        "my_string = \"Python Programming\"\n",
        "len(my_string)"
      ],
      "metadata": {
        "colab": {
          "base_uri": "https://localhost:8080/"
        },
        "id": "SzGmKsQMHJEX",
        "outputId": "15c6426f-74d6-42e7-94c9-21fff368e492"
      },
      "execution_count": 8,
      "outputs": [
        {
          "output_type": "execute_result",
          "data": {
            "text/plain": [
              "18"
            ]
          },
          "metadata": {},
          "execution_count": 8
        }
      ]
    },
    {
      "cell_type": "code",
      "source": [
        "#Take a string as input from the user and print its length."
      ],
      "metadata": {
        "id": "RqdPl8grHNLF"
      },
      "execution_count": 9,
      "outputs": []
    },
    {
      "cell_type": "code",
      "source": [
        "user_string = input(\"Enter a string: \")\n",
        "print(\"Length of the string:\", len(user_string))"
      ],
      "metadata": {
        "colab": {
          "base_uri": "https://localhost:8080/"
        },
        "id": "iqpam-6vHnnD",
        "outputId": "ebe19655-173b-4699-f36d-dc86c3de7d4a"
      },
      "execution_count": 12,
      "outputs": [
        {
          "output_type": "stream",
          "name": "stdout",
          "text": [
            "Enter a string: sagar\n",
            "Length of the string: 5\n"
          ]
        }
      ]
    },
    {
      "cell_type": "code",
      "source": [
        "#Concatenate two strings \"Hello\" and \"World\" and print the result."
      ],
      "metadata": {
        "id": "mQs7kHlLHqBx"
      },
      "execution_count": 10,
      "outputs": []
    },
    {
      "cell_type": "code",
      "source": [
        "str1 = \"Hello\"\n",
        "str2 = \"World\"\n",
        "result = str1 + \" \" + str2\n",
        "print(\"Concatenated string:\", result)"
      ],
      "metadata": {
        "colab": {
          "base_uri": "https://localhost:8080/"
        },
        "id": "ojcTwHENHuWm",
        "outputId": "84626aab-11f7-4b57-f520-3a39c6e84a66"
      },
      "execution_count": 13,
      "outputs": [
        {
          "output_type": "stream",
          "name": "stdout",
          "text": [
            "Concatenated string: Hello World\n"
          ]
        }
      ]
    },
    {
      "cell_type": "code",
      "source": [
        "#Take your first name and last name as input, then concatenate them with a space in between."
      ],
      "metadata": {
        "id": "-ZZ-O7IrHvIl"
      },
      "execution_count": 11,
      "outputs": []
    },
    {
      "cell_type": "code",
      "source": [
        "first_name = input(\"Enter your first name: \")\n",
        "last_name = input(\"Enter your last name: \")\n",
        "\n",
        "full_name = first_name + \" \" + last_name\n",
        "print(\"Full name:\", full_name)"
      ],
      "metadata": {
        "colab": {
          "base_uri": "https://localhost:8080/"
        },
        "id": "nyHv9XBEHz-J",
        "outputId": "357e7a88-4015-4a20-e9d2-b7d478a23f70"
      },
      "execution_count": 14,
      "outputs": [
        {
          "output_type": "stream",
          "name": "stdout",
          "text": [
            "Enter your first name: sagar\n",
            "Enter your last name: bobade\n",
            "Full name: sagar bobade\n"
          ]
        }
      ]
    },
    {
      "cell_type": "code",
      "source": [
        "#Given the string \"Python\", print the first character."
      ],
      "metadata": {
        "id": "QR0k5xbzIkgo"
      },
      "execution_count": 15,
      "outputs": []
    },
    {
      "cell_type": "code",
      "source": [
        "text = \"Python\"\n",
        "print(\"First character:\", text[0])"
      ],
      "metadata": {
        "colab": {
          "base_uri": "https://localhost:8080/"
        },
        "id": "sf7X5qylJKuZ",
        "outputId": "34034d24-739d-4208-dee4-01c9d2b3d5c3"
      },
      "execution_count": 17,
      "outputs": [
        {
          "output_type": "stream",
          "name": "stdout",
          "text": [
            "First character: P\n"
          ]
        }
      ]
    },
    {
      "cell_type": "code",
      "source": [
        "#From the string \"Python\", print the last character using negative indexing."
      ],
      "metadata": {
        "id": "_9Q8OVjeJHTr"
      },
      "execution_count": 16,
      "outputs": []
    },
    {
      "cell_type": "code",
      "source": [
        "print(\"Last character:\", text[-1])"
      ],
      "metadata": {
        "colab": {
          "base_uri": "https://localhost:8080/"
        },
        "id": "iRtStH0YJLh6",
        "outputId": "2706441a-59ca-4796-8577-0b29a5b51c8f"
      },
      "execution_count": 19,
      "outputs": [
        {
          "output_type": "stream",
          "name": "stdout",
          "text": [
            "Last character: n\n"
          ]
        }
      ]
    },
    {
      "cell_type": "code",
      "source": [
        "#From the string \"Programming\", print characters from index 0 to 5."
      ],
      "metadata": {
        "id": "5IFccDawJJt6"
      },
      "execution_count": null,
      "outputs": []
    },
    {
      "cell_type": "code",
      "source": [
        "text1 = \"Programming\"\n",
        "print(\"Characters from index 0 to 5:\", text1[0:6])"
      ],
      "metadata": {
        "colab": {
          "base_uri": "https://localhost:8080/"
        },
        "id": "CKekKD4CJ6Hl",
        "outputId": "29943016-9d1a-4aaf-9186-88d54b1354d4"
      },
      "execution_count": 20,
      "outputs": [
        {
          "output_type": "stream",
          "name": "stdout",
          "text": [
            "Characters from index 0 to 5: Progra\n"
          ]
        }
      ]
    },
    {
      "cell_type": "code",
      "source": [
        "#Slice the string \"HelloWorld\" to get \"World\"."
      ],
      "metadata": {
        "id": "edG7ipffJ67h"
      },
      "execution_count": 22,
      "outputs": []
    },
    {
      "cell_type": "code",
      "source": [
        "text2 = \"HelloWorld\"\n",
        "print(\"Sliced string:\", text2[5:])"
      ],
      "metadata": {
        "colab": {
          "base_uri": "https://localhost:8080/"
        },
        "id": "ro7jkDPRJ_ae",
        "outputId": "5a32376f-1ec4-4aa1-fc50-e3821de0280f"
      },
      "execution_count": 21,
      "outputs": [
        {
          "output_type": "stream",
          "name": "stdout",
          "text": [
            "Sliced string: World\n"
          ]
        }
      ]
    },
    {
      "cell_type": "code",
      "source": [
        "#Convert the string \"python\" to uppercase."
      ],
      "metadata": {
        "id": "krYNiewSKAMo"
      },
      "execution_count": null,
      "outputs": []
    },
    {
      "cell_type": "code",
      "source": [
        "text = 'python'\n",
        "text.upper()"
      ],
      "metadata": {
        "colab": {
          "base_uri": "https://localhost:8080/",
          "height": 35
        },
        "id": "OgiygYVvKO2s",
        "outputId": "7c9374d1-21e4-4873-acae-a326baae61a0"
      },
      "execution_count": 25,
      "outputs": [
        {
          "output_type": "execute_result",
          "data": {
            "text/plain": [
              "'PYTHON'"
            ],
            "application/vnd.google.colaboratory.intrinsic+json": {
              "type": "string"
            }
          },
          "metadata": {},
          "execution_count": 25
        }
      ]
    },
    {
      "cell_type": "code",
      "source": [
        "#Take a sentence as input and print it in uppercase."
      ],
      "metadata": {
        "id": "a3NuZGTQKcAq"
      },
      "execution_count": 26,
      "outputs": []
    },
    {
      "cell_type": "code",
      "source": [
        "text=input(\"Enter a sentence:\")\n",
        "text.upper()"
      ],
      "metadata": {
        "colab": {
          "base_uri": "https://localhost:8080/",
          "height": 53
        },
        "id": "EWR02QWvK5mL",
        "outputId": "a8edaf8d-4be4-4741-be66-c7785c8fcac5"
      },
      "execution_count": 27,
      "outputs": [
        {
          "name": "stdout",
          "output_type": "stream",
          "text": [
            "Enter a sentence:sagar bobade\n"
          ]
        },
        {
          "output_type": "execute_result",
          "data": {
            "text/plain": [
              "'SAGAR BOBADE'"
            ],
            "application/vnd.google.colaboratory.intrinsic+json": {
              "type": "string"
            }
          },
          "metadata": {},
          "execution_count": 27
        }
      ]
    },
    {
      "cell_type": "code",
      "source": [
        "#Convert the string \"HELLO WORLD\" to lowercase"
      ],
      "metadata": {
        "id": "4kYhUxVaK97w"
      },
      "execution_count": null,
      "outputs": []
    },
    {
      "cell_type": "code",
      "source": [
        "text=\"HELLO WORLD\"\n",
        "text.lower()"
      ],
      "metadata": {
        "colab": {
          "base_uri": "https://localhost:8080/",
          "height": 35
        },
        "id": "iBnz6_UOLHL-",
        "outputId": "81202809-609c-40f4-a4b8-b5d3120412f1"
      },
      "execution_count": 28,
      "outputs": [
        {
          "output_type": "execute_result",
          "data": {
            "text/plain": [
              "'hello world'"
            ],
            "application/vnd.google.colaboratory.intrinsic+json": {
              "type": "string"
            }
          },
          "metadata": {},
          "execution_count": 28
        }
      ]
    },
    {
      "cell_type": "code",
      "source": [
        "#. Take a string from the user and print it in lowercase."
      ],
      "metadata": {
        "id": "NOnA3dx5LSuq"
      },
      "execution_count": 29,
      "outputs": []
    },
    {
      "cell_type": "code",
      "source": [
        "text = input(\"enter string\")\n",
        "text.lower()"
      ],
      "metadata": {
        "colab": {
          "base_uri": "https://localhost:8080/",
          "height": 53
        },
        "id": "_0frhmjELakb",
        "outputId": "0e29790a-612d-4a05-a858-4c4f742f7141"
      },
      "execution_count": 30,
      "outputs": [
        {
          "name": "stdout",
          "output_type": "stream",
          "text": [
            "enter stringSAGAR\n"
          ]
        },
        {
          "output_type": "execute_result",
          "data": {
            "text/plain": [
              "'sagar'"
            ],
            "application/vnd.google.colaboratory.intrinsic+json": {
              "type": "string"
            }
          },
          "metadata": {},
          "execution_count": 30
        }
      ]
    },
    {
      "cell_type": "code",
      "source": [
        "#Capitalize the first letter of the string \"welcome to python\"."
      ],
      "metadata": {
        "id": "N1bUADcVLqpK"
      },
      "execution_count": 31,
      "outputs": []
    },
    {
      "cell_type": "code",
      "source": [
        "text=\"welcome to python\"\n",
        "text.capitalize()"
      ],
      "metadata": {
        "colab": {
          "base_uri": "https://localhost:8080/",
          "height": 35
        },
        "id": "7kqc_5OlMPBO",
        "outputId": "b95123db-96d4-42f9-9c4c-5cbb4b84a376"
      },
      "execution_count": 33,
      "outputs": [
        {
          "output_type": "execute_result",
          "data": {
            "text/plain": [
              "'Welcome to python'"
            ],
            "application/vnd.google.colaboratory.intrinsic+json": {
              "type": "string"
            }
          },
          "metadata": {},
          "execution_count": 33
        }
      ]
    },
    {
      "cell_type": "code",
      "source": [
        "#Take a string from the user and print it with the first letter capitalized."
      ],
      "metadata": {
        "id": "xasRK-swMbHc"
      },
      "execution_count": 34,
      "outputs": []
    },
    {
      "cell_type": "code",
      "source": [
        "text=input(\"Enter string\")\n",
        "text.capitalize()"
      ],
      "metadata": {
        "colab": {
          "base_uri": "https://localhost:8080/",
          "height": 53
        },
        "id": "aoSbTXTmM4vj",
        "outputId": "c0b50a8b-9ac5-4519-be19-6e93e58e7ca0"
      },
      "execution_count": 35,
      "outputs": [
        {
          "name": "stdout",
          "output_type": "stream",
          "text": [
            "Enter stringsagar bobade\n"
          ]
        },
        {
          "output_type": "execute_result",
          "data": {
            "text/plain": [
              "'Sagar bobade'"
            ],
            "application/vnd.google.colaboratory.intrinsic+json": {
              "type": "string"
            }
          },
          "metadata": {},
          "execution_count": 35
        }
      ]
    },
    {
      "cell_type": "code",
      "source": [
        "#Replace all occurrences of \"Java\" with \"Python\" in the string \"I love Java programming\"."
      ],
      "metadata": {
        "id": "MqrqC3itNEbt"
      },
      "execution_count": 36,
      "outputs": []
    },
    {
      "cell_type": "code",
      "source": [
        "read=\"I love Java programming\"\n",
        "read.replace(\"Java\",\"Python\")"
      ],
      "metadata": {
        "colab": {
          "base_uri": "https://localhost:8080/",
          "height": 35
        },
        "id": "FSLbiv_rNKDg",
        "outputId": "9130807b-7c52-4aeb-8ccc-169d83421843"
      },
      "execution_count": 39,
      "outputs": [
        {
          "output_type": "execute_result",
          "data": {
            "text/plain": [
              "'I love Python programming'"
            ],
            "application/vnd.google.colaboratory.intrinsic+json": {
              "type": "string"
            }
          },
          "metadata": {},
          "execution_count": 39
        }
      ]
    },
    {
      "cell_type": "code",
      "source": [
        "#Take a sentence from the user and replace one word with another."
      ],
      "metadata": {
        "id": "CX-IW--oNbY7"
      },
      "execution_count": 40,
      "outputs": []
    },
    {
      "cell_type": "code",
      "source": [
        "sentence = input(\"Enter a sentence: \")\n",
        "old_word = input(\"Enter the word you want to replace: \")\n",
        "new_word = input(\"Enter the new word: \")\n",
        "sentence.replace(old_word, new_word)"
      ],
      "metadata": {
        "colab": {
          "base_uri": "https://localhost:8080/",
          "height": 87
        },
        "id": "4fP2sXHEOFV2",
        "outputId": "0f5d0562-9a1f-4dac-891e-6854454c2a24"
      },
      "execution_count": 42,
      "outputs": [
        {
          "name": "stdout",
          "output_type": "stream",
          "text": [
            "Enter a sentence: sagar is good boy\n",
            "Enter the word you want to replace: sagar\n",
            "Enter the new word: varun\n"
          ]
        },
        {
          "output_type": "execute_result",
          "data": {
            "text/plain": [
              "'varun is good boy'"
            ],
            "application/vnd.google.colaboratory.intrinsic+json": {
              "type": "string"
            }
          },
          "metadata": {},
          "execution_count": 42
        }
      ]
    },
    {
      "cell_type": "code",
      "source": [
        "# Find the position of the word \"World\" in the string \"Hello World\"\n",
        "text = \"Hello World\"\n",
        "position = text.find(\"World\")\n",
        "print(f'Position of \"World\":', position)"
      ],
      "metadata": {
        "colab": {
          "base_uri": "https://localhost:8080/"
        },
        "id": "uGXxT5wgOwnL",
        "outputId": "31d565b7-8c1e-44a5-cb0b-92a08b07ff68"
      },
      "execution_count": 43,
      "outputs": [
        {
          "output_type": "stream",
          "name": "stdout",
          "text": [
            "Position of \"World\": 6\n"
          ]
        }
      ]
    },
    {
      "cell_type": "code",
      "source": [
        "#Take a string and find the position of a given character\n",
        "user_string = input(\"Enter a string: \")\n",
        "char = input(\"Enter a character to find: \")\n",
        "pos = user_string.find(char)\n",
        "if pos != -1:\n",
        "    print(f'Position of \"{char}\":', pos)\n",
        "else:\n",
        "    print(f'\"{char}\" not found in the string.')"
      ],
      "metadata": {
        "colab": {
          "base_uri": "https://localhost:8080/"
        },
        "id": "WUSzcfi6Pd_l",
        "outputId": "3c7308e2-2779-403c-838e-6edcd426cb3f"
      },
      "execution_count": 44,
      "outputs": [
        {
          "output_type": "stream",
          "name": "stdout",
          "text": [
            "Enter a string: sagar\n",
            "Enter a character to find: s\n",
            "Position of \"s\": 0\n"
          ]
        }
      ]
    },
    {
      "cell_type": "code",
      "source": [
        "# Count how many times the letter \"a\" appears in \"Banana\"\n",
        "word = \"Banana\"\n",
        "word.count(\"a\")"
      ],
      "metadata": {
        "colab": {
          "base_uri": "https://localhost:8080/"
        },
        "id": "ytNd_zVSPqTu",
        "outputId": "f354c343-eba0-413b-af17-08d7ccbe80ab"
      },
      "execution_count": 46,
      "outputs": [
        {
          "output_type": "execute_result",
          "data": {
            "text/plain": [
              "3"
            ]
          },
          "metadata": {},
          "execution_count": 46
        }
      ]
    },
    {
      "cell_type": "code",
      "source": [
        "#Take a string from the user and count how many times a specific word appears\n",
        "sentence = input(\"Enter a sentence: \")\n",
        "word_to_count = input(\"Enter the word to count: \")\n",
        "count_word = sentence.lower().split().count(word_to_count.lower())\n",
        "print(f'Number of times \"{word_to_count}\" appears:', count_word)"
      ],
      "metadata": {
        "colab": {
          "base_uri": "https://localhost:8080/"
        },
        "id": "m6p7H-TxPyfo",
        "outputId": "93388664-53fb-462c-d952-6657d3b83fee"
      },
      "execution_count": 47,
      "outputs": [
        {
          "output_type": "stream",
          "name": "stdout",
          "text": [
            "Enter a sentence: sagar is good boy\n",
            "Enter the word to count: boy\n",
            "Number of times \"boy\" appears: 1\n"
          ]
        }
      ]
    },
    {
      "cell_type": "code",
      "source": [],
      "metadata": {
        "id": "QQpyQN1kQFg5"
      },
      "execution_count": null,
      "outputs": []
    }
  ]
}