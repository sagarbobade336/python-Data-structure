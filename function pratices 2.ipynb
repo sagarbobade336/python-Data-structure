{
 "cells": [
  {
   "cell_type": "markdown",
   "id": "a22ff391-4bab-46ce-afa7-0c10f3b24944",
   "metadata": {},
   "source": [
    "# Second largest Element in an Array"
   ]
  },
  {
   "cell_type": "code",
   "execution_count": 2,
   "id": "76a9894a-83b2-4240-8930-74a3a4872313",
   "metadata": {},
   "outputs": [],
   "source": [
    "def second_large(arr):\n",
    "    unique_sorted = sorted(set(arr),reverse=True)\n",
    "    if len(unique_sorted) > 1:\n",
    "        print(unique_sorted[1])\n",
    "    else:\n",
    "        None"
   ]
  },
  {
   "cell_type": "code",
   "execution_count": 4,
   "id": "bfc4cccc-7cdf-4b36-b475-1af9f313d181",
   "metadata": {},
   "outputs": [
    {
     "name": "stdout",
     "output_type": "stream",
     "text": [
      "77\n"
     ]
    }
   ],
   "source": [
    "second_large([55,66,22,77,66,11,77,99,33])"
   ]
  },
  {
   "cell_type": "markdown",
   "id": "d6cc9058-1789-4198-ad93-da383812696d",
   "metadata": {},
   "source": [
    "# counting frequencies of array"
   ]
  },
  {
   "cell_type": "code",
   "execution_count": 7,
   "id": "99483ecb-51aa-4709-8ea8-19c6b5cf2352",
   "metadata": {},
   "outputs": [],
   "source": [
    "def Frequency(arr):\n",
    "    from collections import Counter\n",
    "    print(Counter(arr))"
   ]
  },
  {
   "cell_type": "code",
   "execution_count": 9,
   "id": "93a1eb1e-3dc9-4cdf-a429-145071e71500",
   "metadata": {},
   "outputs": [
    {
     "name": "stdout",
     "output_type": "stream",
     "text": [
      "Counter({66: 2, 77: 2, 55: 1, 22: 1, 11: 1, 99: 1, 33: 1})\n"
     ]
    }
   ],
   "source": [
    "Frequency([55,66,22,77,66,11,77,99,33])"
   ]
  },
  {
   "cell_type": "markdown",
   "id": "5170e158-2e14-40a4-9014-8fed7f98aed1",
   "metadata": {},
   "source": [
    "# Program for Addition of two metrics"
   ]
  },
  {
   "cell_type": "code",
   "execution_count": 1,
   "id": "eefe7371-733f-4473-8b70-ed49fb96bb8c",
   "metadata": {},
   "outputs": [
    {
     "ename": "SyntaxError",
     "evalue": "expected ':' (3220678740.py, line 2)",
     "output_type": "error",
     "traceback": [
      "\u001b[1;36m  Cell \u001b[1;32mIn[1], line 2\u001b[1;36m\u001b[0m\n\u001b[1;33m    for j in range(len(mat2))\u001b[0m\n\u001b[1;37m                              ^\u001b[0m\n\u001b[1;31mSyntaxError\u001b[0m\u001b[1;31m:\u001b[0m expected ':'\n"
     ]
    }
   ],
   "source": [
    "def add_matrics(mat1,mat2):\n",
    "    for j in range(len(mat2)) "
   ]
  },
  {
   "cell_type": "code",
   "execution_count": 11,
   "id": "b1438005-8e25-4e70-aae6-652394180696",
   "metadata": {},
   "outputs": [],
   "source": [
    "#A chocolate factory is packing chocolates into the packets. The chocolate packets here represent an array  of N number of integer values.\n",
    "#The task is to find the empty packets(0) of chocolate and push it to the end of the conveyor belt(array).\n",
    "\n",
    "def empty_packet(arr):\n",
    "    conveyor_belt=[]\n",
    "    for num in arr:\n",
    "        if num ==0:\n",
    "            conveyor_belt.append(num)\n",
    "    print(conveyor_belt)"
   ]
  },
  {
   "cell_type": "code",
   "execution_count": 13,
   "id": "2f524df6-d656-42ba-8db3-ab1caa6acf45",
   "metadata": {},
   "outputs": [
    {
     "name": "stdout",
     "output_type": "stream",
     "text": [
      "[0, 0, 0, 0]\n"
     ]
    }
   ],
   "source": [
    "empty_packet([1,2,5,0,7,6,0,4,0,0,5])"
   ]
  },
  {
   "cell_type": "code",
   "execution_count": 25,
   "id": "8d567351-9127-4e63-9cf0-128a8444474c",
   "metadata": {},
   "outputs": [],
   "source": [
    "#Joseph is learning digital logic subject which will be for his next semester. He usually tries to solve unit assignment problems before the lecture. \n",
    "#Today he got one tricky question. The problem statement is “A positive integer has been given as an input. \n",
    "#Convert decimal value to binary representation. Toggle all bits of it after the most significant bit including the most significant bit. \n",
    "#Print the positive integer value after toggling all bits”.\n",
    "def toggle_bits(n):\n",
    "    # Step 1: Find number of bits in binary (excluding '0b' prefix)\n",
    "    num_bits = n.bit_length()\n",
    "    \n",
    "    # Step 2: Create a mask of all 1s of same length as n\n",
    "    mask = (1 << num_bits) - 1   # example: for 5 (101), mask is 111 (7)\n",
    "\n",
    "    # Step 3: Toggle bits using XOR\n",
    "    toggled = n ^ mask\n",
    "    print(toggled)\n"
   ]
  },
  {
   "cell_type": "code",
   "execution_count": 27,
   "id": "d3bc21fe-d10c-43e3-8cb2-64ee602009d7",
   "metadata": {},
   "outputs": [
    {
     "data": {
      "text/plain": [
       "5"
      ]
     },
     "execution_count": 27,
     "metadata": {},
     "output_type": "execute_result"
    }
   ],
   "source": [
    "toggle_bits(10)"
   ]
  },
  {
   "cell_type": "code",
   "execution_count": 3,
   "id": "fa20dc64-f009-40d8-ab66-e2111f8d00db",
   "metadata": {},
   "outputs": [
    {
     "name": "stdin",
     "output_type": "stream",
     "text": [
      " 10\n"
     ]
    },
    {
     "name": "stdout",
     "output_type": "stream",
     "text": [
      "5\n"
     ]
    }
   ],
   "source": [
    "import math\n",
    "n=int(input())\n",
    "k=(1<< int(math.log2(n))+1)-1\n",
    "print(n^k)"
   ]
  },
  {
   "cell_type": "code",
   "execution_count": 55,
   "id": "052410d9-0812-450c-812c-257e1f3bc80b",
   "metadata": {},
   "outputs": [],
   "source": [
    "#Jack is always excited about sunday. It is favourite day, when he gets to play all day. And goes to cycling with his friends. \n",
    "#So every time when the months starts he counts the number of sundays he will get to enjoy. \n",
    "#Considering the month can start with any day, be it Sunday, Monday…. Or so on.\n",
    "#Count the number of Sunday jack will get within n number of days.\n",
    "\n",
    "def count_sundays(n, start_day):\n",
    "    days = [\"Mon\", \"Tue\", \"Wed\", \"Thu\", \"Fri\", \"Sat\", \"Sun\"]\n",
    "    start_index = days.index(start_day)\n",
    "    sun_count = 0\n",
    "\n",
    "    for i in range(n):\n",
    "        day = (start_index + i) % 7\n",
    "        if days[day] == \"Sun\":\n",
    "            sun_count += 1\n",
    "\n",
    "    print(sun_count)"
   ]
  },
  {
   "cell_type": "code",
   "execution_count": 57,
   "id": "c587944a-796d-4025-bdc4-3663a96e94d0",
   "metadata": {},
   "outputs": [
    {
     "name": "stdout",
     "output_type": "stream",
     "text": [
      "7\n"
     ]
    }
   ],
   "source": [
    "count_sundays(52,\"Mon\")"
   ]
  },
  {
   "cell_type": "code",
   "execution_count": 17,
   "id": "8a7dbc5b-928b-4877-a36a-368d780de385",
   "metadata": {},
   "outputs": [],
   "source": [
    "#Airport security officials have confiscated several item of the passengers at the security check point.\n",
    "#All the items have been dumped into a huge box (array). Each item possesses a certain amount of risk[0,1,2].\n",
    "#Here, the risk severity of the items represent an array[] of N number of integer values.\n",
    "#The task here is to sort the items based on their levels of risk in the array. The risk values range from 0 to 2.\n",
    "\n",
    "def sort_risk(arr):\n",
    "    safe = []\n",
    "    medium = []\n",
    "    risk = []\n",
    "    for item in arr:\n",
    "        if item == 0:\n",
    "            safe.append(0)\n",
    "        elif item == 1:\n",
    "            medium.append(1)\n",
    "        elif item == 2:\n",
    "            risk.append(2)\n",
    "    print(safe)\n",
    "    print(medium)\n",
    "    print(risk)"
   ]
  },
  {
   "cell_type": "code",
   "execution_count": 19,
   "id": "79a0224a-3c22-4a3a-ad41-a53a160f0193",
   "metadata": {},
   "outputs": [
    {
     "name": "stdout",
     "output_type": "stream",
     "text": [
      "[0, 0]\n",
      "[1, 1]\n",
      "[2]\n"
     ]
    }
   ],
   "source": [
    "sort_risk([0,1,2,0,1])"
   ]
  },
  {
   "cell_type": "code",
   "execution_count": 29,
   "id": "219f6a8e-4eac-4254-879a-337011277f6f",
   "metadata": {},
   "outputs": [],
   "source": [
    "#Given an integer array Arr of size N the task is to find the count of elements whose value is greater than all of its prior elements.\n",
    "#Note : 1st element of the array should be considered in the count of the result.\n",
    "\n",
    "def greater_no(arr):\n",
    "    count = 0\n",
    "    for i in arr:\n",
    "        if i > arr[0]:   # Corrected comparison using 'i'\n",
    "            count += 1\n",
    "    print(count)"
   ]
  },
  {
   "cell_type": "code",
   "execution_count": 31,
   "id": "c4800e6c-1a3f-45f4-bab6-b579b22b672a",
   "metadata": {},
   "outputs": [
    {
     "name": "stdout",
     "output_type": "stream",
     "text": [
      "15\n"
     ]
    }
   ],
   "source": [
    "greater_no([1,2,55,99,44,88,66,2,4,5,6,9,101,5,4,87])"
   ]
  },
  {
   "cell_type": "code",
   "execution_count": 33,
   "id": "c8bbef91-0bb1-43b1-aaf0-8dff5224772f",
   "metadata": {},
   "outputs": [
    {
     "name": "stdout",
     "output_type": "stream",
     "text": [
      "3\n"
     ]
    }
   ],
   "source": [
    "greater_no([4, 5, 2, 6, 3, 7])"
   ]
  },
  {
   "cell_type": "code",
   "execution_count": 35,
   "id": "ddbe2427-eb7d-4be9-ad3d-93041f63f7bb",
   "metadata": {},
   "outputs": [],
   "source": [
    "#A supermarket maintains a pricing format for all its products.\n",
    "#A value N is printed on each product. \n",
    "#When the scanner reads the value N on the item, the product of all the digits in the value N is the price of the item.\n",
    "#The task here is to design the software such that given the code of any item N the product (multiplication) of all the digits of value should be computed(price)."
   ]
  },
  {
   "cell_type": "code",
   "execution_count": 37,
   "id": "e87ccf31-6973-4938-9551-e591aece45f0",
   "metadata": {},
   "outputs": [],
   "source": [
    "def get_price(n):\n",
    "    product = 1\n",
    "    for digit in str(n):\n",
    "        product *= int(digit)\n",
    "    print(product)"
   ]
  },
  {
   "cell_type": "code",
   "execution_count": 43,
   "id": "2b124286-3277-4afd-8380-ca1045287c58",
   "metadata": {},
   "outputs": [
    {
     "name": "stdout",
     "output_type": "stream",
     "text": [
      "35\n"
     ]
    }
   ],
   "source": [
    "get_price(157)"
   ]
  },
  {
   "cell_type": "code",
   "execution_count": 45,
   "id": "d3d217a3-a1a0-4044-bbc5-dd198d76c6cc",
   "metadata": {},
   "outputs": [],
   "source": [
    "#A furnishing company is manufacturing a new collection of curtains. The curtains are of two colors aqua(a) and black (b). \n",
    "#The curtains color is represented as a string(str) consisting of a’s and b’s of length N. \n",
    "#Then, they are packed (substring) into L number of curtains in each box. The box with the maximum number of ‘aqua’ (a) color curtains is labeled. \n",
    "#The task here is to find the number of ‘aqua’ color curtains in the labeled box.\n",
    "\n",
    "def count_a_in_box(text, size):\n",
    "    biggest = 0\n",
    "\n",
    "    for i in range(len(text) - size + 1):\n",
    "        box = text[i:i+size]\n",
    "        how_many_a = box.count('a')\n",
    "\n",
    "        if how_many_a > biggest:\n",
    "            biggest = how_many_a\n",
    "\n",
    "    return biggest\n"
   ]
  },
  {
   "cell_type": "code",
   "execution_count": null,
   "id": "326de139-fa9e-4dbc-b706-d43951d43859",
   "metadata": {},
   "outputs": [],
   "source": [
    "count_a_in_box(\"\")"
   ]
  }
 ],
 "metadata": {
  "kernelspec": {
   "display_name": "Python [conda env:base] *",
   "language": "python",
   "name": "conda-base-py"
  },
  "language_info": {
   "codemirror_mode": {
    "name": "ipython",
    "version": 3
   },
   "file_extension": ".py",
   "mimetype": "text/x-python",
   "name": "python",
   "nbconvert_exporter": "python",
   "pygments_lexer": "ipython3",
   "version": "3.11.7"
  }
 },
 "nbformat": 4,
 "nbformat_minor": 5
}
