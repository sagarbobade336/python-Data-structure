{
  "nbformat": 4,
  "nbformat_minor": 0,
  "metadata": {
    "colab": {
      "provenance": []
    },
    "kernelspec": {
      "name": "python3",
      "display_name": "Python 3"
    },
    "language_info": {
      "name": "python"
    }
  },
  "cells": [
    {
      "cell_type": "markdown",
      "source": [
        "#SET\n",
        "Created using curly braces {} or the set() constructor. Store unordered collections of unique elements.\n",
        "Sets are used to store multiple items in a single variable.\n",
        "A set is a collection which is unordered, unchangeable*, and unindexed.\n",
        "\n",
        "* Note: Set items are unchangeable, but you can remove items and add new items.\n",
        "\n",
        "Sets are written with curly brackets.\n",
        "\n",
        "Set Items--\n",
        "Set items are unordered, unchangeable, and do not allow duplicate values.\n",
        "\n",
        "Unordered--\n",
        "Unordered means that the items in a set do not have a defined order.\n",
        "\n",
        "Set items can appear in a different order every time you use them, and cannot be referred to by index or key.\n",
        "\n",
        "Unchangeable--\n",
        "Set items are unchangeable, meaning that we cannot change the items after the set has been created.\n",
        "\n",
        "Duplicates Not Allowed-\n",
        "Sets cannot have two items with the same value.\n",
        "\n"
      ],
      "metadata": {
        "id": "CF4UeYKrdy0y"
      }
    },
    {
      "cell_type": "code",
      "execution_count": null,
      "metadata": {
        "colab": {
          "base_uri": "https://localhost:8080/"
        },
        "id": "oZq5sc_-7coA",
        "outputId": "31929e96-4d8d-498e-8d15-b34e1844642d"
      },
      "outputs": [
        {
          "output_type": "execute_result",
          "data": {
            "text/plain": [
              "set"
            ]
          },
          "metadata": {},
          "execution_count": 5
        }
      ],
      "source": [
        "l={1}\n",
        "type(l)"
      ]
    },
    {
      "cell_type": "code",
      "source": [
        "l={} # it is not set\n",
        "type(l)"
      ],
      "metadata": {
        "colab": {
          "base_uri": "https://localhost:8080/"
        },
        "id": "t5qKrp2pJjbc",
        "outputId": "e5509ad0-7602-4304-8e64-5291f5ca0632"
      },
      "execution_count": null,
      "outputs": [
        {
          "output_type": "execute_result",
          "data": {
            "text/plain": [
              "dict"
            ]
          },
          "metadata": {},
          "execution_count": 1
        }
      ]
    },
    {
      "cell_type": "code",
      "source": [
        "#it is only way to create empty set by using \"set()\" keyword\n",
        "a=set()\n",
        "print(a)"
      ],
      "metadata": {
        "colab": {
          "base_uri": "https://localhost:8080/"
        },
        "id": "Z6jAdD4LdY_E",
        "outputId": "5242abb7-5672-47ba-d356-305bef961914"
      },
      "execution_count": null,
      "outputs": [
        {
          "output_type": "stream",
          "name": "stdout",
          "text": [
            "set()\n"
          ]
        }
      ]
    },
    {
      "cell_type": "code",
      "source": [
        "dir(l)"
      ],
      "metadata": {
        "colab": {
          "base_uri": "https://localhost:8080/"
        },
        "id": "Du1ZFp578SZg",
        "outputId": "e35b8053-e52f-4533-aa68-8bffd9dc4425"
      },
      "execution_count": null,
      "outputs": [
        {
          "output_type": "execute_result",
          "data": {
            "text/plain": [
              "['__and__',\n",
              " '__class__',\n",
              " '__class_getitem__',\n",
              " '__contains__',\n",
              " '__delattr__',\n",
              " '__dir__',\n",
              " '__doc__',\n",
              " '__eq__',\n",
              " '__format__',\n",
              " '__ge__',\n",
              " '__getattribute__',\n",
              " '__getstate__',\n",
              " '__gt__',\n",
              " '__hash__',\n",
              " '__iand__',\n",
              " '__init__',\n",
              " '__init_subclass__',\n",
              " '__ior__',\n",
              " '__isub__',\n",
              " '__iter__',\n",
              " '__ixor__',\n",
              " '__le__',\n",
              " '__len__',\n",
              " '__lt__',\n",
              " '__ne__',\n",
              " '__new__',\n",
              " '__or__',\n",
              " '__rand__',\n",
              " '__reduce__',\n",
              " '__reduce_ex__',\n",
              " '__repr__',\n",
              " '__ror__',\n",
              " '__rsub__',\n",
              " '__rxor__',\n",
              " '__setattr__',\n",
              " '__sizeof__',\n",
              " '__str__',\n",
              " '__sub__',\n",
              " '__subclasshook__',\n",
              " '__xor__',\n",
              " 'add',\n",
              " 'clear',\n",
              " 'copy',\n",
              " 'difference',\n",
              " 'difference_update',\n",
              " 'discard',\n",
              " 'intersection',\n",
              " 'intersection_update',\n",
              " 'isdisjoint',\n",
              " 'issubset',\n",
              " 'issuperset',\n",
              " 'pop',\n",
              " 'remove',\n",
              " 'symmetric_difference',\n",
              " 'symmetric_difference_update',\n",
              " 'union',\n",
              " 'update']"
            ]
          },
          "metadata": {},
          "execution_count": 6
        }
      ]
    },
    {
      "cell_type": "code",
      "source": [
        "a=1,5,3,5,9\n",
        "type(a)\n",
        "print(a)"
      ],
      "metadata": {
        "colab": {
          "base_uri": "https://localhost:8080/"
        },
        "id": "X-XHqeok9M89",
        "outputId": "dcbfa9ad-7f6a-4de3-a8ec-06e91a71ea5d"
      },
      "execution_count": null,
      "outputs": [
        {
          "output_type": "stream",
          "name": "stdout",
          "text": [
            "(1, 5, 3, 5, 9)\n"
          ]
        }
      ]
    },
    {
      "cell_type": "code",
      "source": [
        "# make union without using union fuction\n",
        "a={1,2,3,4,5}\n",
        "b={4,5,6,7,8}\n",
        "(a-b)(a-b)\n"
      ],
      "metadata": {
        "colab": {
          "base_uri": "https://localhost:8080/"
        },
        "id": "sSpOu8W0-qPv",
        "outputId": "54083289-72b3-4245-e3b0-e405ac3c5902"
      },
      "execution_count": null,
      "outputs": [
        {
          "output_type": "execute_result",
          "data": {
            "text/plain": [
              "set()"
            ]
          },
          "metadata": {},
          "execution_count": 35
        }
      ]
    },
    {
      "cell_type": "code",
      "source": [
        "a={True,False,False}\n",
        "print( a)"
      ],
      "metadata": {
        "id": "zfBF7jEzdnX5",
        "colab": {
          "base_uri": "https://localhost:8080/"
        },
        "outputId": "09d411ad-5159-42ec-a648-b77a4d2eb198"
      },
      "execution_count": null,
      "outputs": [
        {
          "output_type": "stream",
          "name": "stdout",
          "text": [
            "{False, True}\n"
          ]
        }
      ]
    },
    {
      "cell_type": "code",
      "source": [
        "#Note: The values True and 1 are considered the same value in sets, and are treated as duplicates:\n",
        "#Note: The values False and 0 are considered the same value in sets, and are treated as duplicates:\n",
        "a={1,2,3,0,False,True,\"sagar\",\"ramesh\"}\n",
        "print(a)"
      ],
      "metadata": {
        "id": "QTUC8CjEdnU8",
        "colab": {
          "base_uri": "https://localhost:8080/"
        },
        "outputId": "d5f2da5d-dd72-48d0-e1c1-2cbc85299831"
      },
      "execution_count": null,
      "outputs": [
        {
          "output_type": "stream",
          "name": "stdout",
          "text": [
            "{0, 1, 2, 3, 'sagar', 'ramesh'}\n"
          ]
        }
      ]
    },
    {
      "cell_type": "code",
      "source": [
        "#Length of a Set\n",
        "#To determine how many items a set has, use the len() function.\n",
        "len(a)"
      ],
      "metadata": {
        "id": "5evGCO8PdnMF",
        "colab": {
          "base_uri": "https://localhost:8080/"
        },
        "outputId": "ae4a30f8-fe6d-4ea2-8a99-24f649868633"
      },
      "execution_count": null,
      "outputs": [
        {
          "output_type": "execute_result",
          "data": {
            "text/plain": [
              "6"
            ]
          },
          "metadata": {},
          "execution_count": 6
        }
      ]
    },
    {
      "cell_type": "code",
      "source": [
        "#A set can contain different data types:\n",
        "#A set with strings, integers and boolean values:\n",
        "set1 = {\"abc\", 34, True, 40, \"male\"}\n",
        "print(set1)"
      ],
      "metadata": {
        "id": "FwVfZPjNdnJE",
        "colab": {
          "base_uri": "https://localhost:8080/"
        },
        "outputId": "fbfedb4d-4499-4bca-a478-75c29012e635"
      },
      "execution_count": null,
      "outputs": [
        {
          "output_type": "stream",
          "name": "stdout",
          "text": [
            "{True, 34, 40, 'male', 'abc'}\n"
          ]
        }
      ]
    },
    {
      "cell_type": "code",
      "source": [
        "s={\"sagar\",\"ramesh\",\"bobade\"}\n",
        "for i in s:\n",
        "  print(i)"
      ],
      "metadata": {
        "id": "umgk_xlqdnB-",
        "colab": {
          "base_uri": "https://localhost:8080/"
        },
        "outputId": "f57b38ad-1114-4ae4-965e-fb09cf33587a"
      },
      "execution_count": null,
      "outputs": [
        {
          "output_type": "stream",
          "name": "stdout",
          "text": [
            "ramesh\n",
            "sagar\n",
            "bobade\n"
          ]
        }
      ]
    },
    {
      "cell_type": "code",
      "source": [
        "#Check if \"bobade\" is present in the set:\n",
        "if \"bobade\" in s:\n",
        "  print(\"Yes, 'bobade' is in the sets\")"
      ],
      "metadata": {
        "id": "G3L89hnkdm_F",
        "colab": {
          "base_uri": "https://localhost:8080/"
        },
        "outputId": "dc45d6e0-f789-44b7-fc6f-13eb10515dd3"
      },
      "execution_count": null,
      "outputs": [
        {
          "output_type": "stream",
          "name": "stdout",
          "text": [
            "Yes, 'bobade' is in the sets\n"
          ]
        }
      ]
    },
    {
      "cell_type": "code",
      "source": [
        "if \"sagar\" not in s:\n",
        "  print(\"No, 'sagar' is not in the sets\")\n"
      ],
      "metadata": {
        "id": "L_A3_Bvfdm8y"
      },
      "execution_count": null,
      "outputs": []
    },
    {
      "cell_type": "code",
      "source": [
        "#Add Items---->\n",
        "#Once a set is created, you cannot change its items, but you can add new items.\n",
        "#To add one item to a set use the add() method.\n",
        "s.add(\"Ganesh\")\n",
        "print(s)"
      ],
      "metadata": {
        "id": "lquwWaugGHYi",
        "colab": {
          "base_uri": "https://localhost:8080/"
        },
        "outputId": "413a120e-ce4f-40dc-879c-b5dd39f72fcf"
      },
      "execution_count": null,
      "outputs": [
        {
          "output_type": "stream",
          "name": "stdout",
          "text": [
            "{'ramesh', 'sagar', 'bobade', 'Ganesh'}\n"
          ]
        }
      ]
    },
    {
      "cell_type": "code",
      "source": [
        "#we cannot add list in set by \"add\" keyword  but tuples can added\n",
        "a={1,2,3,4,5}\n",
        "b=[6,7,8,9]\n",
        "a.add(b)\n",
        "print(a)\n"
      ],
      "metadata": {
        "colab": {
          "base_uri": "https://localhost:8080/",
          "height": 193
        },
        "id": "9nYo_nqlkHMe",
        "outputId": "b73b2edc-6de3-44e3-edeb-6f44ad2554dc"
      },
      "execution_count": null,
      "outputs": [
        {
          "output_type": "error",
          "ename": "TypeError",
          "evalue": "unhashable type: 'list'",
          "traceback": [
            "\u001b[0;31m---------------------------------------------------------------------------\u001b[0m",
            "\u001b[0;31mTypeError\u001b[0m                                 Traceback (most recent call last)",
            "\u001b[0;32m<ipython-input-48-1f9c0cdcd0e4>\u001b[0m in \u001b[0;36m<cell line: 0>\u001b[0;34m()\u001b[0m\n\u001b[1;32m      2\u001b[0m \u001b[0ma\u001b[0m\u001b[0;34m=\u001b[0m\u001b[0;34m{\u001b[0m\u001b[0;36m1\u001b[0m\u001b[0;34m,\u001b[0m\u001b[0;36m2\u001b[0m\u001b[0;34m,\u001b[0m\u001b[0;36m3\u001b[0m\u001b[0;34m,\u001b[0m\u001b[0;36m4\u001b[0m\u001b[0;34m,\u001b[0m\u001b[0;36m5\u001b[0m\u001b[0;34m}\u001b[0m\u001b[0;34m\u001b[0m\u001b[0;34m\u001b[0m\u001b[0m\n\u001b[1;32m      3\u001b[0m \u001b[0mb\u001b[0m\u001b[0;34m=\u001b[0m\u001b[0;34m[\u001b[0m\u001b[0;36m6\u001b[0m\u001b[0;34m,\u001b[0m\u001b[0;36m7\u001b[0m\u001b[0;34m,\u001b[0m\u001b[0;36m8\u001b[0m\u001b[0;34m,\u001b[0m\u001b[0;36m9\u001b[0m\u001b[0;34m]\u001b[0m\u001b[0;34m\u001b[0m\u001b[0;34m\u001b[0m\u001b[0m\n\u001b[0;32m----> 4\u001b[0;31m \u001b[0ma\u001b[0m\u001b[0;34m.\u001b[0m\u001b[0madd\u001b[0m\u001b[0;34m(\u001b[0m\u001b[0mb\u001b[0m\u001b[0;34m)\u001b[0m\u001b[0;34m\u001b[0m\u001b[0;34m\u001b[0m\u001b[0m\n\u001b[0m\u001b[1;32m      5\u001b[0m \u001b[0mprint\u001b[0m\u001b[0;34m(\u001b[0m\u001b[0ma\u001b[0m\u001b[0;34m)\u001b[0m\u001b[0;34m\u001b[0m\u001b[0;34m\u001b[0m\u001b[0m\n",
            "\u001b[0;31mTypeError\u001b[0m: unhashable type: 'list'"
          ]
        }
      ]
    },
    {
      "cell_type": "code",
      "source": [
        "#Add Sets------->\n",
        "#To add items from another set into the current set, use the update() method.\n",
        "a={\"sagar\",\"ramesh\",\"bobade\"}\n",
        "b={\"sunita\",\"ganesh\",\"bobade\"}\n",
        "a.update(b)\n",
        "print(a)"
      ],
      "metadata": {
        "colab": {
          "base_uri": "https://localhost:8080/"
        },
        "id": "hkRsJMGpPvNk",
        "outputId": "247f5ce1-78ed-48b1-b1ce-96123805611c"
      },
      "execution_count": null,
      "outputs": [
        {
          "output_type": "stream",
          "name": "stdout",
          "text": [
            "{'ramesh', 'sagar', 'bobade', 'ganesh', 'sunita'}\n"
          ]
        }
      ]
    },
    {
      "cell_type": "code",
      "source": [
        "a={\"sagar\",\"ramesh\",\"bobade\"}\n",
        "b=[1,2,3,4]\n",
        "a.update(b)\n",
        "print(a)"
      ],
      "metadata": {
        "colab": {
          "base_uri": "https://localhost:8080/"
        },
        "id": "s2qb2wvEQNxu",
        "outputId": "5d2fbe7a-4084-448d-e5e1-5f164c6116d8"
      },
      "execution_count": null,
      "outputs": [
        {
          "output_type": "stream",
          "name": "stdout",
          "text": [
            "{'ramesh', 'sagar', 2, 1, 3, 4, 'bobade'}\n"
          ]
        }
      ]
    },
    {
      "cell_type": "code",
      "source": [
        "#Remove Item----->\n",
        "#To remove an item in a set, use the remove(), or the discard() method.\n",
        "a={\"banana\",\"apple\",\"mango\"}\n",
        "a.remove(\"apple\")\n",
        "print(a)"
      ],
      "metadata": {
        "colab": {
          "base_uri": "https://localhost:8080/"
        },
        "id": "8hXxEN-2RUg5",
        "outputId": "f3e49f68-96dc-46a6-deb9-5e08527168de"
      },
      "execution_count": null,
      "outputs": [
        {
          "output_type": "stream",
          "name": "stdout",
          "text": [
            "{'mango', 'banana'}\n"
          ]
        }
      ]
    },
    {
      "cell_type": "code",
      "source": [
        "a.discard(\"banana\")\n",
        "print(a)"
      ],
      "metadata": {
        "colab": {
          "base_uri": "https://localhost:8080/"
        },
        "id": "2wDgvf3FSEBD",
        "outputId": "041acc54-2129-42ed-e0a6-767f455f73b8"
      },
      "execution_count": null,
      "outputs": [
        {
          "output_type": "stream",
          "name": "stdout",
          "text": [
            "{'mango'}\n"
          ]
        }
      ]
    },
    {
      "cell_type": "code",
      "source": [
        "a.add(\"orange\")\n",
        "a.add(\"grapes\")\n",
        "a.add(\"watermelon\")\n",
        "print(a)"
      ],
      "metadata": {
        "colab": {
          "base_uri": "https://localhost:8080/"
        },
        "id": "VD-MAmuzSK50",
        "outputId": "d8bbe0f3-2b73-4383-ea91-e78d8ee83f54"
      },
      "execution_count": null,
      "outputs": [
        {
          "output_type": "stream",
          "name": "stdout",
          "text": [
            "{'mango', 'orange', 'watermelon', 'grapes'}\n"
          ]
        }
      ]
    },
    {
      "cell_type": "code",
      "source": [
        "len(a)"
      ],
      "metadata": {
        "colab": {
          "base_uri": "https://localhost:8080/"
        },
        "id": "TZxuqbX9SnJT",
        "outputId": "15261d30-d345-47d3-ed6b-be9d6ff39211"
      },
      "execution_count": null,
      "outputs": [
        {
          "output_type": "execute_result",
          "data": {
            "text/plain": [
              "4"
            ]
          },
          "metadata": {},
          "execution_count": 22
        }
      ]
    },
    {
      "cell_type": "code",
      "source": [
        "#You can also use the pop() method to remove an item, but this method will remove a random item, so you cannot be sure what item that gets removed.\n",
        "#The return value of the pop() method is the removed item. ### it remove first element of set do'not except indexing\n",
        "a.pop()\n",
        "print(a)"
      ],
      "metadata": {
        "colab": {
          "base_uri": "https://localhost:8080/"
        },
        "id": "UWEgXpkAS8BT",
        "outputId": "9009d1f0-2e81-403e-9e99-2f2a21635ed5"
      },
      "execution_count": null,
      "outputs": [
        {
          "output_type": "stream",
          "name": "stdout",
          "text": [
            "{'grapes'}\n"
          ]
        }
      ]
    },
    {
      "cell_type": "code",
      "source": [
        "#The clear() method empties the set:\n",
        "a.clear()\n",
        "print(a)"
      ],
      "metadata": {
        "colab": {
          "base_uri": "https://localhost:8080/"
        },
        "id": "RmPXfa48TFBR",
        "outputId": "9471e10d-bd8f-48f4-c8d8-abf15fd35576"
      },
      "execution_count": null,
      "outputs": [
        {
          "output_type": "stream",
          "name": "stdout",
          "text": [
            "set()\n"
          ]
        }
      ]
    },
    {
      "cell_type": "code",
      "source": [
        "a.add(\"orange\")\n",
        "a.add(\"grapes\")\n",
        "a.add(\"watermelon\")\n",
        "print(a)"
      ],
      "metadata": {
        "colab": {
          "base_uri": "https://localhost:8080/"
        },
        "id": "OtrxSPw5UNq0",
        "outputId": "e0df4286-6bf6-4c3e-ed51-c57e0daecc9a"
      },
      "execution_count": null,
      "outputs": [
        {
          "output_type": "stream",
          "name": "stdout",
          "text": [
            "{'watermelon', 'orange', 'grapes'}\n"
          ]
        }
      ]
    },
    {
      "cell_type": "code",
      "source": [
        "#The del keyword will delete the set completely:\n",
        "del a   #...this will raise an error because the set no longer exists\n",
        "print(a)"
      ],
      "metadata": {
        "colab": {
          "base_uri": "https://localhost:8080/",
          "height": 176
        },
        "id": "njUcDc3SUSic",
        "outputId": "8ceedab2-630e-4873-fec6-f78804daf0df"
      },
      "execution_count": null,
      "outputs": [
        {
          "output_type": "error",
          "ename": "NameError",
          "evalue": "name 'a' is not defined",
          "traceback": [
            "\u001b[0;31m---------------------------------------------------------------------------\u001b[0m",
            "\u001b[0;31mNameError\u001b[0m                                 Traceback (most recent call last)",
            "\u001b[0;32m<ipython-input-32-06136ec5b6c0>\u001b[0m in \u001b[0;36m<cell line: 0>\u001b[0;34m()\u001b[0m\n\u001b[1;32m      1\u001b[0m \u001b[0;31m#The del keyword will delete the set completely:\u001b[0m\u001b[0;34m\u001b[0m\u001b[0;34m\u001b[0m\u001b[0m\n\u001b[0;32m----> 2\u001b[0;31m \u001b[0;32mdel\u001b[0m \u001b[0ma\u001b[0m   \u001b[0;31m#...this will raise an error because the set no longer exists\u001b[0m\u001b[0;34m\u001b[0m\u001b[0;34m\u001b[0m\u001b[0m\n\u001b[0m\u001b[1;32m      3\u001b[0m \u001b[0mprint\u001b[0m\u001b[0;34m(\u001b[0m\u001b[0ma\u001b[0m\u001b[0;34m)\u001b[0m\u001b[0;34m\u001b[0m\u001b[0;34m\u001b[0m\u001b[0m\n",
            "\u001b[0;31mNameError\u001b[0m: name 'a' is not defined"
          ]
        }
      ]
    },
    {
      "cell_type": "markdown",
      "source": [
        "#Join Sets\n"
      ],
      "metadata": {
        "id": "ZpfkvUj8WbCx"
      }
    },
    {
      "cell_type": "markdown",
      "source": [
        "### <code>union()</code>\n",
        "\n",
        "\n",
        "* <code>union()</code> method returns the union of two sets\n",
        "\n",
        "\n",
        "* Also denoted by the operator <code>|</code>"
      ],
      "metadata": {
        "id": "UsQYJV9sG7Vx"
      }
    },
    {
      "cell_type": "code",
      "source": [
        "#it will take all element in set a and set b but avoid duplicates\n",
        "a={\"sagar\",\"ramesh\",\"bobade\"}\n",
        "b={\"sunita\",\"ganesh\",\"bobade\"}\n",
        "c=a.union(b)\n",
        "print(c)"
      ],
      "metadata": {
        "colab": {
          "base_uri": "https://localhost:8080/"
        },
        "id": "xpBZbV2OUj5v",
        "outputId": "4cec3d5d-84c1-4590-ce54-bc64f6844a12"
      },
      "execution_count": null,
      "outputs": [
        {
          "output_type": "stream",
          "name": "stdout",
          "text": [
            "{'ramesh', 'sagar', 'bobade', 'ganesh', 'sunita'}\n"
          ]
        }
      ]
    },
    {
      "cell_type": "code",
      "source": [
        "# Also denoted by the operator |\n",
        "c=a|b\n",
        "print(c)"
      ],
      "metadata": {
        "colab": {
          "base_uri": "https://localhost:8080/"
        },
        "id": "NnrDz_m2XRtI",
        "outputId": "d76283f6-1a1f-4f67-98e2-d3c017141311"
      },
      "execution_count": null,
      "outputs": [
        {
          "output_type": "stream",
          "name": "stdout",
          "text": [
            "{'ramesh', 'sagar', 'bobade', 'ganesh', 'sunita'}\n"
          ]
        }
      ]
    },
    {
      "cell_type": "code",
      "source": [
        "abc={\"sagar\",\"ramesh\",\"Bobade\"}\n",
        "xyz={\"sunita\",\"ganesh\",\"bobade\"}\n",
        "qwe={1,2,3,4,5}\n",
        "asd={True,False,False}\n",
        "a=abc|xyz|qwe|asd\n",
        "print(a)"
      ],
      "metadata": {
        "colab": {
          "base_uri": "https://localhost:8080/"
        },
        "id": "b0f64RczatHw",
        "outputId": "a3cd1011-7a8a-4bd4-81f8-ced9798baccd"
      },
      "execution_count": null,
      "outputs": [
        {
          "output_type": "stream",
          "name": "stdout",
          "text": [
            "{'ramesh', 'sagar', 'Bobade', 1, 2, 3, 'ganesh', 4, 5, False, 'bobade', 'sunita'}\n"
          ]
        }
      ]
    },
    {
      "cell_type": "code",
      "source": [
        "#Join a Set and a Tuple--->\n",
        "#The union() method allows you to join a set with other data types, like lists or tuples.\n",
        "\n",
        "#The result will be a set.\n",
        "a={\"sagar\",\"ramesh\",\"bobade\"}\n",
        "b=(\"sunita\",\"ganesh\",\"bobade\")\n",
        "c=a.union(b)\n",
        "print(c)"
      ],
      "metadata": {
        "colab": {
          "base_uri": "https://localhost:8080/"
        },
        "id": "omXAKkeCbo3L",
        "outputId": "eb210222-168f-497a-817f-5bc7539989e3"
      },
      "execution_count": null,
      "outputs": [
        {
          "output_type": "stream",
          "name": "stdout",
          "text": [
            "{'ramesh', 'sagar', 'ganesh', 'bobade', 'sunita'}\n"
          ]
        }
      ]
    },
    {
      "cell_type": "code",
      "source": [
        "#Join a Set and a list--->\n",
        "a={\"sagar\",\"ramesh\",\"bobade\"}\n",
        "b=[\"sunita\",\"ganesh\",\"bobade\"]\n",
        "c=a.union(b)\n",
        "print(c)\n"
      ],
      "metadata": {
        "colab": {
          "base_uri": "https://localhost:8080/"
        },
        "id": "TtAZoNJgboqC",
        "outputId": "8b589352-dba9-475b-9160-523bf1ce6599"
      },
      "execution_count": null,
      "outputs": [
        {
          "output_type": "stream",
          "name": "stdout",
          "text": [
            "{'ramesh', 'sagar', 'ganesh', 'bobade', 'sunita'}\n"
          ]
        }
      ]
    },
    {
      "cell_type": "code",
      "source": [],
      "metadata": {
        "id": "Hv4uk1eYboMR"
      },
      "execution_count": null,
      "outputs": []
    },
    {
      "cell_type": "markdown",
      "source": [
        "### <code>intersection()</code>\n",
        "\n",
        "\n",
        "* <code>intersection()</code> method returns the intersection of two sets\n",
        "\n",
        "\n",
        "* Also denoted by the operator <code>&</code>"
      ],
      "metadata": {
        "id": "XO0kNliIHK9_"
      }
    },
    {
      "cell_type": "code",
      "source": [
        "# BY intersection it will give common element in Set A and Set B\n",
        "A={1,2,3,4,5}\n",
        "B={4,5,6,7,8}\n",
        "C=A.intersection(B)\n",
        "print(C)"
      ],
      "metadata": {
        "colab": {
          "base_uri": "https://localhost:8080/"
        },
        "id": "1oaEVizbYotu",
        "outputId": "f981b7f4-4f7b-45cd-f4ce-eac3102be870"
      },
      "execution_count": null,
      "outputs": [
        {
          "output_type": "stream",
          "name": "stdout",
          "text": [
            "{4, 5}\n"
          ]
        }
      ]
    },
    {
      "cell_type": "code",
      "source": [
        "#it aslo denote by operator &\n",
        "C=A&B\n",
        "print(C)"
      ],
      "metadata": {
        "colab": {
          "base_uri": "https://localhost:8080/"
        },
        "id": "Wq6Yr2Lkcs25",
        "outputId": "8c4bc010-b715-481e-e726-073749e4d3e1"
      },
      "execution_count": null,
      "outputs": [
        {
          "output_type": "stream",
          "name": "stdout",
          "text": [
            "{4, 5}\n"
          ]
        }
      ]
    },
    {
      "cell_type": "markdown",
      "source": [
        "### <code>difference()</code>\n",
        "\n",
        "\n",
        "* <code>difference()</code> method returns the difference of two sets\n",
        "\n",
        "\n",
        "* Difference of the set <code>B</code> from set <code>A</code> i.e, <code>(A - B)</code> is a set of elements that are only in <code>A</code> but not in <code>B</code>\n",
        "\n",
        "\n",
        "* Also denoted by the operator <code>-</code>"
      ],
      "metadata": {
        "id": "COCZKBQiIMOz"
      }
    },
    {
      "cell_type": "code",
      "source": [
        "# it will Minus Set a from Set b  it will\n",
        "a={1,2,3,4,5}\n",
        "b={4,5,6,7,8}\n",
        "c=a.difference(b)\n",
        "print(c)"
      ],
      "metadata": {
        "colab": {
          "base_uri": "https://localhost:8080/"
        },
        "id": "MmAf0-P5dYyQ",
        "outputId": "41ff7035-edc7-4375-b2f6-41b8d9b363ca"
      },
      "execution_count": null,
      "outputs": [
        {
          "output_type": "stream",
          "name": "stdout",
          "text": [
            "{1, 2, 3}\n"
          ]
        }
      ]
    },
    {
      "cell_type": "code",
      "source": [
        "#Also denoted by the operator -\n",
        "c=a-b\n",
        "print(c)"
      ],
      "metadata": {
        "colab": {
          "base_uri": "https://localhost:8080/"
        },
        "id": "KiaZ1MxmeNwo",
        "outputId": "5b2a52f3-ddc3-44bd-e7dd-4d2bea7ef8d1"
      },
      "execution_count": null,
      "outputs": [
        {
          "output_type": "stream",
          "name": "stdout",
          "text": [
            "{1, 2, 3}\n"
          ]
        }
      ]
    },
    {
      "cell_type": "markdown",
      "source": [
        "### <code>symmetric_difference()</code>\n",
        "\n",
        "\n",
        "* <code>symmetric_difference()</code> method returns the set of elements in A and B but not in both (excluding the intersection)\n",
        "\n",
        "\n",
        "* Also denoted by the operator <code>^</code>"
      ],
      "metadata": {
        "id": "oAqx9hKlIiz-"
      }
    },
    {
      "cell_type": "code",
      "source": [
        "# It will give element form Set A and Set B but not common element in Set A and Set B\n",
        "A={1,2,3,4,5}\n",
        "B={4,5,6,7,8}\n",
        "C=A.symmetric_difference(B)\n",
        "print(C)"
      ],
      "metadata": {
        "colab": {
          "base_uri": "https://localhost:8080/"
        },
        "id": "IvvW92A0guBO",
        "outputId": "9001b4f0-01dd-439b-cf14-26349fb821d5"
      },
      "execution_count": null,
      "outputs": [
        {
          "output_type": "stream",
          "name": "stdout",
          "text": [
            "{1, 2, 3, 6, 7, 8}\n"
          ]
        }
      ]
    },
    {
      "cell_type": "code",
      "source": [
        "#Also denoted by the operator ^\n",
        "C=A^B\n",
        "print(C)"
      ],
      "metadata": {
        "colab": {
          "base_uri": "https://localhost:8080/"
        },
        "id": "UijH81xFgx52",
        "outputId": "ea6d5430-6e88-4e0c-8ca4-8588676337be"
      },
      "execution_count": null,
      "outputs": [
        {
          "output_type": "stream",
          "name": "stdout",
          "text": [
            "{1, 2, 3, 6, 7, 8}\n"
          ]
        }
      ]
    },
    {
      "cell_type": "code",
      "source": [
        "def max(a,b,c):\n",
        "  return max\n",
        "  print(max(25,35,64))\n"
      ],
      "metadata": {
        "id": "vLtY4oXOg_Np"
      },
      "execution_count": null,
      "outputs": []
    },
    {
      "cell_type": "code",
      "source": [],
      "metadata": {
        "id": "HUJLTB39Ca-Z"
      },
      "execution_count": null,
      "outputs": []
    }
  ]
}