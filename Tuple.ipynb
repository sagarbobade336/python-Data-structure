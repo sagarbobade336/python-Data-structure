{
  "nbformat": 4,
  "nbformat_minor": 0,
  "metadata": {
    "colab": {
      "provenance": []
    },
    "kernelspec": {
      "name": "python3",
      "display_name": "Python 3"
    },
    "language_info": {
      "name": "python"
    }
  },
  "cells": [
    {
      "cell_type": "markdown",
      "source": [
        "#Python Tuples"
      ],
      "metadata": {
        "id": "jlsEB0CY_g2r"
      }
    },
    {
      "cell_type": "markdown",
      "source": [
        "Tuple=\n",
        "Tuples are used to store multiple items in a single variable.\n",
        "Tuple is one of 4 built-in data types in Python used to store collections of data, the other 3 are List, Set, and Dictionary, all with different qualities and usage.\n",
        "\n",
        "A tuple is a collection which is ordered and unchangeable.\n",
        "\n",
        "Tuples are written with round brackets."
      ],
      "metadata": {
        "id": "72q0aq1i_nsa"
      }
    },
    {
      "cell_type": "code",
      "source": [
        "# 1. Creating a tuple\n",
        "my_tuple = (10, \"world\", 3.14)\n",
        "print(\"\\nTuple:\", my_tuple)\n",
        "\n",
        "# 2. Accessing elements\n",
        "print(\"First element:\", my_tuple[0])\n",
        "print(\"Last element:\", my_tuple[-1])\n",
        "\n",
        "# 3. Tuples are immutable\n",
        "print(\"Tuples are immutable. Cannot modify elements.\")\n",
        "\n",
        "# 4. Tuple methods\n",
        "print(\"Length of the tuple:\", len(my_tuple))\n",
        "print(\"Number of occurrences of 10:\", my_tuple.count(10))\n",
        "print(\"Index of 'world':\", my_tuple.index(\"world\"))\n",
        "\n",
        "# 5. Creating special tuples\n",
        "empty_tuple = ()  # Empty tuple\n",
        "single_element_tuple = (5,)  # Siprint(\"List after removing an element:\", my_list)\n"
      ],
      "metadata": {
        "id": "TaSb5nLE-wve"
      },
      "execution_count": null,
      "outputs": []
    },
    {
      "cell_type": "code",
      "source": [
        "#Create a Tuple:\n",
        "t=(\"apple\",\"banana\",\"cherry\")\n",
        "print(t)"
      ],
      "metadata": {
        "colab": {
          "base_uri": "https://localhost:8080/"
        },
        "id": "8fh3cOTx61B4",
        "outputId": "4682ebf4-d5a7-4815-a5c3-fb34e2ccdfb1"
      },
      "execution_count": null,
      "outputs": [
        {
          "output_type": "stream",
          "name": "stdout",
          "text": [
            "('apple', 'banana', 'cherry')\n"
          ]
        }
      ]
    },
    {
      "cell_type": "code",
      "source": [
        "# if you want make one and only one element tuple use comma(,).............interview questions\n",
        "l=(\"sagar\",)\n",
        "type(l)"
      ],
      "metadata": {
        "colab": {
          "base_uri": "https://localhost:8080/"
        },
        "id": "LPPh3rvqPmo6",
        "outputId": "74e9549b-56b8-4449-a265-cb52451a31ca"
      },
      "execution_count": null,
      "outputs": [
        {
          "output_type": "execute_result",
          "data": {
            "text/plain": [
              "tuple"
            ]
          },
          "metadata": {},
          "execution_count": 43
        }
      ]
    },
    {
      "cell_type": "code",
      "source": [
        "# we cannot change tuple .......in interview ask can we change tuple .....so--->answer: we can convert tuple into list\n",
        "t=(4,5,3,5)\n",
        "t=list(t)\n",
        "t[2]=10\n",
        "t=tuple(t)\n",
        "print(t)"
      ],
      "metadata": {
        "colab": {
          "base_uri": "https://localhost:8080/",
          "height": 193
        },
        "id": "ocABnC_57uB8",
        "outputId": "72f6750c-a58c-4bbe-befd-d94b1f7d09bc"
      },
      "execution_count": null,
      "outputs": [
        {
          "output_type": "error",
          "ename": "TypeError",
          "evalue": "'tuple' object is not callable",
          "traceback": [
            "\u001b[0;31m---------------------------------------------------------------------------\u001b[0m",
            "\u001b[0;31mTypeError\u001b[0m                                 Traceback (most recent call last)",
            "\u001b[0;32m<ipython-input-24-93010826ce9b>\u001b[0m in \u001b[0;36m<cell line: 0>\u001b[0;34m()\u001b[0m\n\u001b[1;32m      3\u001b[0m \u001b[0mt\u001b[0m\u001b[0;34m=\u001b[0m\u001b[0mlist\u001b[0m\u001b[0;34m(\u001b[0m\u001b[0mt\u001b[0m\u001b[0;34m)\u001b[0m\u001b[0;34m\u001b[0m\u001b[0;34m\u001b[0m\u001b[0m\n\u001b[1;32m      4\u001b[0m \u001b[0mt\u001b[0m\u001b[0;34m[\u001b[0m\u001b[0;36m2\u001b[0m\u001b[0;34m]\u001b[0m\u001b[0;34m=\u001b[0m\u001b[0;36m10\u001b[0m\u001b[0;34m\u001b[0m\u001b[0;34m\u001b[0m\u001b[0m\n\u001b[0;32m----> 5\u001b[0;31m \u001b[0mt\u001b[0m\u001b[0;34m=\u001b[0m\u001b[0mtuple\u001b[0m\u001b[0;34m(\u001b[0m\u001b[0mt\u001b[0m\u001b[0;34m)\u001b[0m\u001b[0;34m\u001b[0m\u001b[0;34m\u001b[0m\u001b[0m\n\u001b[0m\u001b[1;32m      6\u001b[0m \u001b[0mprint\u001b[0m\u001b[0;34m(\u001b[0m\u001b[0mt\u001b[0m\u001b[0;34m)\u001b[0m\u001b[0;34m\u001b[0m\u001b[0;34m\u001b[0m\u001b[0m\n",
            "\u001b[0;31mTypeError\u001b[0m: 'tuple' object is not callable"
          ]
        }
      ]
    },
    {
      "cell_type": "code",
      "source": [
        "#Tuples allow duplicate values:\n",
        "tuple=(\"apple\",\"banana\",\"cherry\",\"apple\",\"cherry\")\n",
        "print(tuple)"
      ],
      "metadata": {
        "colab": {
          "base_uri": "https://localhost:8080/"
        },
        "id": "Av0_YCJq8f0B",
        "outputId": "d636254e-869a-47ac-88c8-e5ff91e6c7dc"
      },
      "execution_count": null,
      "outputs": [
        {
          "output_type": "stream",
          "name": "stdout",
          "text": [
            "('apple', 'banana', 'cherry', 'apple', 'cherry')\n"
          ]
        }
      ]
    },
    {
      "cell_type": "code",
      "source": [
        "#Print the second item in the tuple:\n",
        "t=(\"apple\",\"banana\",\"cherry\",\"mango\",\"orange\")\n",
        "print(t[1])"
      ],
      "metadata": {
        "colab": {
          "base_uri": "https://localhost:8080/"
        },
        "id": "kztPPU8a-Sqk",
        "outputId": "28bb80b3-460a-4e15-b090-84091d0d3bfa"
      },
      "execution_count": null,
      "outputs": [
        {
          "output_type": "stream",
          "name": "stdout",
          "text": [
            "banana\n"
          ]
        }
      ]
    },
    {
      "cell_type": "code",
      "source": [
        "#Negative Indexing\n",
        "#Negative indexing means start from the end.\n",
        "#-1 refers to the last item, -2 refers to the second last item etc.\n",
        "tuple[-1]"
      ],
      "metadata": {
        "colab": {
          "base_uri": "https://localhost:8080/",
          "height": 35
        },
        "id": "2Qn7_CQt-fnO",
        "outputId": "b199d609-77b6-4a77-908d-04ed37748506"
      },
      "execution_count": null,
      "outputs": [
        {
          "output_type": "execute_result",
          "data": {
            "text/plain": [
              "'cherry'"
            ],
            "application/vnd.google.colaboratory.intrinsic+json": {
              "type": "string"
            }
          },
          "metadata": {},
          "execution_count": 19
        }
      ]
    },
    {
      "cell_type": "code",
      "source": [
        "# we can do slicing\n",
        "t[0:3]"
      ],
      "metadata": {
        "colab": {
          "base_uri": "https://localhost:8080/"
        },
        "id": "TDQ2efFD-qB9",
        "outputId": "4d6c7c31-c3b6-4f9b-cd4c-446044eaf59f"
      },
      "execution_count": null,
      "outputs": [
        {
          "output_type": "execute_result",
          "data": {
            "text/plain": [
              "('apple', 'banana', 'cherry')"
            ]
          },
          "metadata": {},
          "execution_count": 26
        }
      ]
    },
    {
      "cell_type": "code",
      "source": [
        "#Convert the tuple into a list, add \"orange\", and convert it back into a tuple\n",
        "t=(\"apple\",\"mango\",\"orange\")\n",
        "t=list(t)\n",
        "t.append(\"banana\")\n",
        "t=tuple(t)\n",
        "t"
      ],
      "metadata": {
        "colab": {
          "base_uri": "https://localhost:8080/",
          "height": 193
        },
        "id": "IVLkg0N_Cn8j",
        "outputId": "5ff54a99-b000-48df-b64b-d4bdd30e5863"
      },
      "execution_count": null,
      "outputs": [
        {
          "output_type": "error",
          "ename": "TypeError",
          "evalue": "'tuple' object is not callable",
          "traceback": [
            "\u001b[0;31m---------------------------------------------------------------------------\u001b[0m",
            "\u001b[0;31mTypeError\u001b[0m                                 Traceback (most recent call last)",
            "\u001b[0;32m<ipython-input-27-12c2ee65a2d4>\u001b[0m in \u001b[0;36m<cell line: 0>\u001b[0;34m()\u001b[0m\n\u001b[1;32m      3\u001b[0m \u001b[0mt\u001b[0m\u001b[0;34m=\u001b[0m\u001b[0mlist\u001b[0m\u001b[0;34m(\u001b[0m\u001b[0mt\u001b[0m\u001b[0;34m)\u001b[0m\u001b[0;34m\u001b[0m\u001b[0;34m\u001b[0m\u001b[0m\n\u001b[1;32m      4\u001b[0m \u001b[0mt\u001b[0m\u001b[0;34m.\u001b[0m\u001b[0mappend\u001b[0m\u001b[0;34m(\u001b[0m\u001b[0;34m\"banana\"\u001b[0m\u001b[0;34m)\u001b[0m\u001b[0;34m\u001b[0m\u001b[0;34m\u001b[0m\u001b[0m\n\u001b[0;32m----> 5\u001b[0;31m \u001b[0mt\u001b[0m\u001b[0;34m=\u001b[0m\u001b[0mtuple\u001b[0m\u001b[0;34m(\u001b[0m\u001b[0mt\u001b[0m\u001b[0;34m)\u001b[0m\u001b[0;34m\u001b[0m\u001b[0;34m\u001b[0m\u001b[0m\n\u001b[0m\u001b[1;32m      6\u001b[0m \u001b[0mt\u001b[0m\u001b[0;34m\u001b[0m\u001b[0;34m\u001b[0m\u001b[0m\n",
            "\u001b[0;31mTypeError\u001b[0m: 'tuple' object is not callable"
          ]
        }
      ]
    },
    {
      "cell_type": "code",
      "source": [
        "#Create a new tuple with the value \"orange\", and add that tuple:\n",
        "t=(\"sagar\",\"ramesh\",\"Sunita\")\n",
        "y=(\"ganesh\",)\n",
        "t += y\n",
        "print(t)"
      ],
      "metadata": {
        "colab": {
          "base_uri": "https://localhost:8080/"
        },
        "id": "ir1AhEWoEP6j",
        "outputId": "376fab93-298e-419a-a43a-19a8efd3a0bb"
      },
      "execution_count": null,
      "outputs": [
        {
          "output_type": "stream",
          "name": "stdout",
          "text": [
            "('sagar', 'ramesh', 'Sunita', 'ganesh')\n"
          ]
        }
      ]
    },
    {
      "cell_type": "code",
      "source": [
        "t=(\"sagar\",\"ramesh\",\"Bobade\")\n",
        "t[0::-3]"
      ],
      "metadata": {
        "colab": {
          "base_uri": "https://localhost:8080/"
        },
        "id": "u65C_tVSFA65",
        "outputId": "df3cfa87-4a73-4243-a1b5-bf0dfdc8175c"
      },
      "execution_count": null,
      "outputs": [
        {
          "output_type": "execute_result",
          "data": {
            "text/plain": [
              "('sagar',)"
            ]
          },
          "metadata": {},
          "execution_count": 33
        }
      ]
    },
    {
      "cell_type": "code",
      "source": [
        "# we can find length of tuple\n",
        "len(t)"
      ],
      "metadata": {
        "colab": {
          "base_uri": "https://localhost:8080/"
        },
        "id": "JbbY6XcYH6K0",
        "outputId": "bfd7899e-023a-4f2c-8e9d-f79edbb3e348"
      },
      "execution_count": null,
      "outputs": [
        {
          "output_type": "execute_result",
          "data": {
            "text/plain": [
              "3"
            ]
          },
          "metadata": {},
          "execution_count": 34
        }
      ]
    },
    {
      "cell_type": "code",
      "source": [
        "# we can join tuple\n",
        "a=(\"sagar\",\"bobade\",\"ramesh\")\n",
        "b=(1,2,3,4,5)\n",
        "c=a+b\n",
        "print(c)"
      ],
      "metadata": {
        "colab": {
          "base_uri": "https://localhost:8080/"
        },
        "id": "7d0K9NiuJvQ4",
        "outputId": "295cbaa9-71a1-4c3c-bf66-11f47323a433"
      },
      "execution_count": null,
      "outputs": [
        {
          "output_type": "stream",
          "name": "stdout",
          "text": [
            "('sagar', 'bobade', 'ramesh', 1, 2, 3, 4, 5)\n"
          ]
        }
      ]
    },
    {
      "cell_type": "code",
      "source": [
        "#Multiply the fruits tuple by 2:\n",
        "fruites=(\"apple\",\"mango\",\"banana\")\n",
        "mul=fruites*5\n",
        "print(mul)"
      ],
      "metadata": {
        "colab": {
          "base_uri": "https://localhost:8080/"
        },
        "id": "0z9jr6CSL3Hk",
        "outputId": "e7040352-d720-4e91-9286-6a81c8c19a0c"
      },
      "execution_count": null,
      "outputs": [
        {
          "output_type": "stream",
          "name": "stdout",
          "text": [
            "('apple', 'mango', 'banana', 'apple', 'mango', 'banana', 'apple', 'mango', 'banana', 'apple', 'mango', 'banana', 'apple', 'mango', 'banana')\n"
          ]
        }
      ]
    },
    {
      "cell_type": "code",
      "source": [
        "fruites"
      ],
      "metadata": {
        "colab": {
          "base_uri": "https://localhost:8080/"
        },
        "id": "Oa5fj-RGOgpV",
        "outputId": "74ed1756-d806-4510-ac27-cd8ce181f6d3"
      },
      "execution_count": null,
      "outputs": [
        {
          "output_type": "execute_result",
          "data": {
            "text/plain": [
              "('apple', 'mango', 'banana')"
            ]
          },
          "metadata": {},
          "execution_count": 41
        }
      ]
    },
    {
      "cell_type": "code",
      "source": [
        "#count()\tReturns the number of times a specified value occurs in a tuple\n",
        "fruites.count(\"apple\")"
      ],
      "metadata": {
        "colab": {
          "base_uri": "https://localhost:8080/"
        },
        "id": "xfUKgS4EM05h",
        "outputId": "bd52bf34-c00d-4985-f372-2ac0d99fe00d"
      },
      "execution_count": null,
      "outputs": [
        {
          "output_type": "execute_result",
          "data": {
            "text/plain": [
              "1"
            ]
          },
          "metadata": {},
          "execution_count": 40
        }
      ]
    },
    {
      "cell_type": "code",
      "source": [
        "#index()\tSearches the tuple for a specified value and returns the position of where it was found\n",
        "fruites.index(\"apple\")"
      ],
      "metadata": {
        "colab": {
          "base_uri": "https://localhost:8080/"
        },
        "id": "yEbTB_vnOb2Z",
        "outputId": "b2eec2af-4d4c-4a40-84b4-43090b76956d"
      },
      "execution_count": null,
      "outputs": [
        {
          "output_type": "execute_result",
          "data": {
            "text/plain": [
              "0"
            ]
          },
          "metadata": {},
          "execution_count": 42
        }
      ]
    },
    {
      "cell_type": "code",
      "source": [
        "#create a LIST OF TUPLE of your name ,location,degree,age\n",
        "#create a List of food ,and replace on item\n",
        "#create a tuple without round brakect\n",
        "#find length of tuple\n",
        "#convert a list into tuple"
      ],
      "metadata": {
        "id": "wG6-kgpQOxMg"
      },
      "execution_count": null,
      "outputs": []
    },
    {
      "cell_type": "code",
      "source": [
        "#create a LIST OF TUPLE of your name ,location,degree,age\n",
        "l1=['sagar','ramesh',\"ganesh\"]\n",
        "l2=[\"phaltan\",\"mumbai\",\"satara\"]\n",
        "l3=[\"B.E\",\"10\",\"B.com\"]\n",
        "l4=[22,50,13]"
      ],
      "metadata": {
        "id": "J_Y3H3nAPv_P"
      },
      "execution_count": null,
      "outputs": []
    },
    {
      "cell_type": "code",
      "source": [
        "a=list(zip(l1,l2,l3,l4))"
      ],
      "metadata": {
        "id": "PHb6a2JUQayY"
      },
      "execution_count": null,
      "outputs": []
    },
    {
      "cell_type": "code",
      "source": [
        "print(a)"
      ],
      "metadata": {
        "colab": {
          "base_uri": "https://localhost:8080/"
        },
        "id": "wWeEzmIwQ3zj",
        "outputId": "fc3b48fb-13b5-4069-caf8-3a72012808e3"
      },
      "execution_count": null,
      "outputs": [
        {
          "output_type": "stream",
          "name": "stdout",
          "text": [
            "[('sagar', 'phaltan', 'B.E', 22), ('ramesh', 'mumbai', '10', 50), ('ganesh', 'satara', 'B.com', 13)]\n"
          ]
        }
      ]
    },
    {
      "cell_type": "code",
      "source": [
        "a.append((\"sunita\",\"pune\",\"B.E\",50))"
      ],
      "metadata": {
        "id": "Mz6P28CYRd-P"
      },
      "execution_count": null,
      "outputs": []
    },
    {
      "cell_type": "code",
      "source": [
        "a"
      ],
      "metadata": {
        "colab": {
          "base_uri": "https://localhost:8080/"
        },
        "id": "Lhxvc9ZnRudY",
        "outputId": "411be4f6-b1aa-4a03-a00c-1d7e5d70dfaa"
      },
      "execution_count": null,
      "outputs": [
        {
          "output_type": "execute_result",
          "data": {
            "text/plain": [
              "[('sagar', 'phaltan', 'B.E', 22),\n",
              " ('ramesh', 'mumbai', '10', 50),\n",
              " ('ganesh', 'satara', 'B.com', 13),\n",
              " ('sunita', 'pune', 'B.E', 50)]"
            ]
          },
          "metadata": {},
          "execution_count": 50
        }
      ]
    },
    {
      "cell_type": "code",
      "source": [
        "#create a List of food ,and replace on item\n",
        "food=[\"maska pav\",\"butter chicken\",\"paneer tikka\"]\n",
        "food[0]=\"chiken tikka\"\n",
        "food"
      ],
      "metadata": {
        "colab": {
          "base_uri": "https://localhost:8080/"
        },
        "id": "VaygloSgRwcm",
        "outputId": "df172434-27d9-4fbf-cde9-47565eb0a3ce"
      },
      "execution_count": null,
      "outputs": [
        {
          "output_type": "execute_result",
          "data": {
            "text/plain": [
              "['chiken tikka', 'butter chicken', 'paneer tikka']"
            ]
          },
          "metadata": {},
          "execution_count": 51
        }
      ]
    },
    {
      "cell_type": "code",
      "source": [
        "#create a tuple without round brakect\n",
        "a=5,3,6,9,5\n",
        "print(a)"
      ],
      "metadata": {
        "colab": {
          "base_uri": "https://localhost:8080/"
        },
        "id": "5yIQEh5MS95R",
        "outputId": "9607ac94-21f8-4362-e17a-948184cb3fc1"
      },
      "execution_count": null,
      "outputs": [
        {
          "output_type": "stream",
          "name": "stdout",
          "text": [
            "(5, 3, 6, 9, 5)\n"
          ]
        }
      ]
    },
    {
      "cell_type": "code",
      "source": [
        "#find length of tuple\n",
        "len(a)"
      ],
      "metadata": {
        "colab": {
          "base_uri": "https://localhost:8080/"
        },
        "id": "iNL5BcibTI2q",
        "outputId": "ee89812b-4a34-4d4c-e025-5b9f88fc7eb7"
      },
      "execution_count": null,
      "outputs": [
        {
          "output_type": "execute_result",
          "data": {
            "text/plain": [
              "5"
            ]
          },
          "metadata": {},
          "execution_count": 53
        }
      ]
    },
    {
      "cell_type": "code",
      "source": [
        "#convert a list into tuple\n",
        "t=[\"sagar\",\"Ramesh\",\"Bobade\",]\n",
        "print(tuple(t))"
      ],
      "metadata": {
        "colab": {
          "base_uri": "https://localhost:8080/",
          "height": 176
        },
        "id": "B5dWZlx7TP2D",
        "outputId": "be95b08f-2049-48da-f9ad-641970938d28"
      },
      "execution_count": null,
      "outputs": [
        {
          "output_type": "error",
          "ename": "TypeError",
          "evalue": "'tuple' object is not callable",
          "traceback": [
            "\u001b[0;31m---------------------------------------------------------------------------\u001b[0m",
            "\u001b[0;31mTypeError\u001b[0m                                 Traceback (most recent call last)",
            "\u001b[0;32m<ipython-input-58-87ea7bb17aa4>\u001b[0m in \u001b[0;36m<cell line: 0>\u001b[0;34m()\u001b[0m\n\u001b[1;32m      1\u001b[0m \u001b[0;31m#convert a list into tuple\u001b[0m\u001b[0;34m\u001b[0m\u001b[0;34m\u001b[0m\u001b[0m\n\u001b[1;32m      2\u001b[0m \u001b[0mt\u001b[0m\u001b[0;34m=\u001b[0m\u001b[0;34m[\u001b[0m\u001b[0;34m\"sagar\"\u001b[0m\u001b[0;34m,\u001b[0m\u001b[0;34m\"Ramesh\"\u001b[0m\u001b[0;34m,\u001b[0m\u001b[0;34m\"Bobade\"\u001b[0m\u001b[0;34m,\u001b[0m\u001b[0;34m]\u001b[0m\u001b[0;34m\u001b[0m\u001b[0;34m\u001b[0m\u001b[0m\n\u001b[0;32m----> 3\u001b[0;31m \u001b[0mprint\u001b[0m\u001b[0;34m(\u001b[0m\u001b[0mtuple\u001b[0m\u001b[0;34m(\u001b[0m\u001b[0mt\u001b[0m\u001b[0;34m)\u001b[0m\u001b[0;34m)\u001b[0m\u001b[0;34m\u001b[0m\u001b[0;34m\u001b[0m\u001b[0m\n\u001b[0m",
            "\u001b[0;31mTypeError\u001b[0m: 'tuple' object is not callable"
          ]
        }
      ]
    },
    {
      "cell_type": "code",
      "source": [
        "#dir() it is use to what we function can use for string ,tuple,number,"
      ],
      "metadata": {
        "id": "8Iu_Ec3_U174"
      },
      "execution_count": null,
      "outputs": []
    },
    {
      "cell_type": "code",
      "source": [
        "a=(1,2,3,4,5)\n",
        "dir(a)"
      ],
      "metadata": {
        "colab": {
          "base_uri": "https://localhost:8080/"
        },
        "id": "jqsKKWRiVg9l",
        "outputId": "fbf60942-9b14-4e59-81b9-52a4ae9519b3"
      },
      "execution_count": null,
      "outputs": [
        {
          "output_type": "execute_result",
          "data": {
            "text/plain": [
              "['__add__',\n",
              " '__class__',\n",
              " '__class_getitem__',\n",
              " '__contains__',\n",
              " '__delattr__',\n",
              " '__dir__',\n",
              " '__doc__',\n",
              " '__eq__',\n",
              " '__format__',\n",
              " '__ge__',\n",
              " '__getattribute__',\n",
              " '__getitem__',\n",
              " '__getnewargs__',\n",
              " '__getstate__',\n",
              " '__gt__',\n",
              " '__hash__',\n",
              " '__init__',\n",
              " '__init_subclass__',\n",
              " '__iter__',\n",
              " '__le__',\n",
              " '__len__',\n",
              " '__lt__',\n",
              " '__mul__',\n",
              " '__ne__',\n",
              " '__new__',\n",
              " '__reduce__',\n",
              " '__reduce_ex__',\n",
              " '__repr__',\n",
              " '__rmul__',\n",
              " '__setattr__',\n",
              " '__sizeof__',\n",
              " '__str__',\n",
              " '__subclasshook__',\n",
              " 'count',\n",
              " 'index']"
            ]
          },
          "metadata": {},
          "execution_count": 61
        }
      ]
    },
    {
      "cell_type": "markdown",
      "source": [
        "MCQ\n",
        "2. Suppose t = (1, 2, 4, 3), which of the following is incorrect?\n",
        "\n",
        "a) print(t[3])\n",
        "\n",
        "--->b) t[3] = 45\n",
        "\n",
        "c) print(max(t))\n",
        "\n",
        "d) print(len(t))\n"
      ],
      "metadata": {
        "id": "Ry4jCTRf6oQ3"
      }
    },
    {
      "cell_type": "code",
      "source": [
        "t=(1,2,3,4)"
      ],
      "metadata": {
        "id": "4fOB2xrHVysz"
      },
      "execution_count": null,
      "outputs": []
    },
    {
      "cell_type": "code",
      "source": [
        "t[1]"
      ],
      "metadata": {
        "colab": {
          "base_uri": "https://localhost:8080/"
        },
        "id": "O71Oy5Oo6NWY",
        "outputId": "be219f20-a37a-4e4a-fbee-314a85ff4602"
      },
      "execution_count": null,
      "outputs": [
        {
          "output_type": "execute_result",
          "data": {
            "text/plain": [
              "2"
            ]
          },
          "metadata": {},
          "execution_count": 3
        }
      ]
    },
    {
      "cell_type": "code",
      "source": [
        "t = (1, 2, 4, 3, 8, 9)\n",
        "[t[i] for i in range(0, len(t), 2)]"
      ],
      "metadata": {
        "colab": {
          "base_uri": "https://localhost:8080/"
        },
        "id": "A2dFPCUb6P54",
        "outputId": "3c530cbe-35b0-4dbf-ee2d-56044df8e92e"
      },
      "execution_count": null,
      "outputs": [
        {
          "output_type": "execute_result",
          "data": {
            "text/plain": [
              "[1, 4, 8]"
            ]
          },
          "metadata": {},
          "execution_count": 4
        }
      ]
    },
    {
      "cell_type": "code",
      "source": [
        "t"
      ],
      "metadata": {
        "colab": {
          "base_uri": "https://localhost:8080/"
        },
        "id": "NyRLUJjS7eB0",
        "outputId": "4a04075d-9456-40dc-ba3f-4e56e4c59f42"
      },
      "execution_count": null,
      "outputs": [
        {
          "output_type": "execute_result",
          "data": {
            "text/plain": [
              "(1, 2, 4, 3, 8, 9)"
            ]
          },
          "metadata": {},
          "execution_count": 7
        }
      ]
    },
    {
      "cell_type": "code",
      "source": [
        "d={\"sagar\":40,\"varun\":52}\n",
        "d[\"sagar\"]"
      ],
      "metadata": {
        "colab": {
          "base_uri": "https://localhost:8080/"
        },
        "id": "R-EUykdX76it",
        "outputId": "15aef9d1-7b60-466e-e833-613f1ec3a554"
      },
      "execution_count": null,
      "outputs": [
        {
          "output_type": "execute_result",
          "data": {
            "text/plain": [
              "40"
            ]
          },
          "metadata": {},
          "execution_count": 12
        }
      ]
    },
    {
      "cell_type": "code",
      "source": [
        "#Compare first elements: 1 == 1 → Equal, move to the next.\n",
        "#Compare second elements: 2 == 2 → Equal, move to the next.\n",
        "#Compare third elements: 4 > 3 → False! (Comparison stops here.)\n",
        "#Since 4 > 3, Python determines that t1 is not less than t2, so the result is False.\n",
        "t1 = (1, 2, 4, 3)\n",
        "t2 = (1, 2, 3, 4)\n",
        "t1 < t2"
      ],
      "metadata": {
        "colab": {
          "base_uri": "https://localhost:8080/"
        },
        "id": "SudvG4G6_Q08",
        "outputId": "53e17d72-861c-4f45-852a-ca44b8ae70f2"
      },
      "execution_count": null,
      "outputs": [
        {
          "output_type": "execute_result",
          "data": {
            "text/plain": [
              "False"
            ]
          },
          "metadata": {},
          "execution_count": 13
        }
      ]
    },
    {
      "cell_type": "code",
      "source": [
        "numberGames = {}\n",
        "numberGames[(1,2,4)] = 8\n",
        "numberGames[(4,2,1)] = 10\n",
        "numberGames[(1,2)] = 12\n",
        "sum = 0\n",
        "for k in numberGames:\n",
        "    sum += numberGames[k]\n",
        "print(len(numberGames) + sum)"
      ],
      "metadata": {
        "colab": {
          "base_uri": "https://localhost:8080/"
        },
        "id": "GBFCRlGZ_izB",
        "outputId": "c8753fee-5f2f-42aa-b7b5-980033ed08c7"
      },
      "execution_count": null,
      "outputs": [
        {
          "output_type": "stream",
          "name": "stdout",
          "text": [
            "33\n"
          ]
        }
      ]
    },
    {
      "cell_type": "code",
      "source": [
        "s=[\"milk\",\"sugar\",\"vegtable\",\"meat\"]\n",
        "v=[\"vit C\",\"vit A\",\"vit K\",\"vit B\"]\n",
        "p=[\"Panner\",\"laddu\",\"mix veg\",\"mutton briyani\"]\n",
        "a=list(zip(s,v,p))\n",
        "print(a)"
      ],
      "metadata": {
        "id": "KwfcwbRrBPTt",
        "colab": {
          "base_uri": "https://localhost:8080/"
        },
        "outputId": "c6690396-3e5f-4f43-edec-f8c6f9418731"
      },
      "execution_count": null,
      "outputs": [
        {
          "output_type": "stream",
          "name": "stdout",
          "text": [
            "[('milk', 'vit C', 'Panner'), ('sugar', 'vit A', 'laddu'), ('vegtable', 'vit K', 'mix veg'), ('meat', 'vit B', 'mutton briyani')]\n"
          ]
        }
      ]
    },
    {
      "cell_type": "code",
      "source": [
        "s=[\"milk\",\"sugar\",\"vegtable\",\"meat\"]\n",
        "s=tuple(s)"
      ],
      "metadata": {
        "id": "8PJ5lXJUWVPC"
      },
      "execution_count": null,
      "outputs": []
    },
    {
      "cell_type": "code",
      "source": [
        "s"
      ],
      "metadata": {
        "colab": {
          "base_uri": "https://localhost:8080/"
        },
        "id": "eOQeHsgUWeyS",
        "outputId": "2dc74bda-f746-4dd9-ee28-f39cd34a45ba"
      },
      "execution_count": null,
      "outputs": [
        {
          "output_type": "execute_result",
          "data": {
            "text/plain": [
              "('milk', 'sugar', 'vegtable', 'meat')"
            ]
          },
          "metadata": {},
          "execution_count": 3
        }
      ]
    },
    {
      "cell_type": "code",
      "source": [
        "a=list(a[2])\n",
        "a"
      ],
      "metadata": {
        "colab": {
          "base_uri": "https://localhost:8080/"
        },
        "id": "w1rd93kQWfx9",
        "outputId": "5faa98cf-8c3a-49c5-cbdb-145355a954eb"
      },
      "execution_count": null,
      "outputs": [
        {
          "output_type": "execute_result",
          "data": {
            "text/plain": [
              "['m', 'i', 'x', ' ', 'v', 'e', 'g']"
            ]
          },
          "metadata": {},
          "execution_count": 8
        }
      ]
    },
    {
      "cell_type": "code",
      "source": [
        "s=(1)\n",
        "type(s)"
      ],
      "metadata": {
        "colab": {
          "base_uri": "https://localhost:8080/"
        },
        "id": "MAlAoNQvX7KR",
        "outputId": "d8e93517-9655-4954-cab5-2b8be125a841"
      },
      "execution_count": null,
      "outputs": [
        {
          "output_type": "execute_result",
          "data": {
            "text/plain": [
              "int"
            ]
          },
          "metadata": {},
          "execution_count": 6
        }
      ]
    },
    {
      "cell_type": "code",
      "source": [
        "l=[\"eggs\",\"jam\",\"bread\",\"ice-cream\"]\n",
        "c=[6,25,20,30]\n",
        "q=[12,2,1,6]\n",
        "a=list(zip(l,c,q))\n",
        "print(a)"
      ],
      "metadata": {
        "colab": {
          "base_uri": "https://localhost:8080/"
        },
        "id": "lhFFxpndZtnH",
        "outputId": "5b352c16-64e4-413b-a191-594a1344b91a"
      },
      "execution_count": null,
      "outputs": [
        {
          "output_type": "stream",
          "name": "stdout",
          "text": [
            "[('eggs', 6, 12), ('jam', 25, 2), ('bread', 20, 1), ('ice-cream', 30, 6)]\n"
          ]
        }
      ]
    },
    {
      "cell_type": "code",
      "source": [],
      "metadata": {
        "id": "f2UKKBhbdXwu"
      },
      "execution_count": null,
      "outputs": []
    }
  ]
}